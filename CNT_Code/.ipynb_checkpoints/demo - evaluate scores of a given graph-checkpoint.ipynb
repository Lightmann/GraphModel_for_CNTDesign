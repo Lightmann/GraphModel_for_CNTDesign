{
 "cells": [
  {
   "cell_type": "code",
   "execution_count": null,
   "metadata": {},
   "outputs": [],
   "source": [
    "#!/usr/bin/env python\n",
    "# coding: utf-8\n",
    "# version: 2020.03.29\n",
    "\n",
    "import sys\n",
    "for path in ['../','../../','../../../','../../../../']:\n",
    "    sys.path.append(path+\"CNT_Code/V1.05.22\")\n",
    "    \n",
    "import pandas as pd\n",
    "import matplotlib.pyplot as plt\n",
    "import numpy as np\n",
    "\n",
    "from RegressionTools import *\n",
    "from GraphTools import *\n",
    "from GeneralTools import *\n",
    "# from GraphModel import *\n",
    "from GraphModel_cnt import *\n",
    "from CNT_Dataset import *\n",
    "from ModelSelection import *\n",
    "\n",
    "# --------------------------------------------------------------------------------------------------------\n",
    "# args\n",
    "# --------------------------------------------------------------------------------------------------------\n",
    "\n",
    "\n",
    "# import argparse\n",
    "# parser = argparse.ArgumentParser(description='Model selection')\n",
    "# parser.add_argument('--id_graph', default=0, type=int, help='id_graph')\n",
    "\n",
    "# args = parser.parse_args()\n",
    "# id_graph = args.id_graph\n",
    "\n",
    "# --------------------------------------------------------------------------------------------------------\n",
    "\n",
    "id_graph = 0\n",
    "\n",
    "GB_ESTIMATORS = 100 # 400\n",
    "GB_SEARCH_ITER = 40 # 80\n",
    "CV = 4\n",
    "RATIO = 0.9\n",
    "MULTI_ESTIMATOR = 10 # 50\n",
    "MULTI_PREDICTION = 20 # 50\n",
    "SCORE_RUN = 20\n",
    "\n",
    "# --------------------------------------------------------------------------------------------------------\n",
    "\n",
    "\n",
    "data_org = pd.read_excel('data_all.xlsx') \n",
    "graph_array = data_load('graph_array_368.dat')\n",
    "# graph_array = data_load('graph_array_1600.dat')\n",
    "\n",
    "G = graph_array[id_graph]\n",
    "# nx_plot_cnt(G)\n",
    "\n",
    "gm = GraphModel_cnt(G=G,idy='Y',renamer=cnt_renamer,\n",
    "                    assign_submodel=assign_submodel_cnt,\n",
    "                    gb_estimators=GB_ESTIMATORS,n_iter_search=GB_SEARCH_ITER,submodel_cv=CV,\n",
    "                   )\n",
    "\n",
    "score_array = []\n",
    "for i in range(SCORE_RUN):\n",
    "    data = random_resample(data_org)\n",
    "#     data = data.dropna(subset=gm.renamer(G.nodes),how='any').reset_index(drop=True)  \n",
    "    data = data.dropna(subset=gm.renamer(idAll),how='any').reset_index(drop=True) # all-valid\n",
    "    score = cross_val_score_gm(gm,data,reuse=False,cv=CV,\n",
    "                               ratio=RATIO,\n",
    "                               n_estimator=MULTI_ESTIMATOR,\n",
    "                               n_predict=MULTI_PREDICTION)\n",
    "    score['model'] = nx2str(gm.G,model=True)\n",
    "    score_array.append(score)\n",
    "\n",
    "scores = pd.concat(score_array)\n",
    "# data_save(G,'g.dat')\n",
    "scores.to_excel('scores/score_graph_%d.xlsx'%id_graph)\n",
    "scores\n",
    "\n",
    "\n",
    "\n",
    "\n",
    "\n",
    "\n"
   ]
  }
 ],
 "metadata": {
  "hide_input": false,
  "kernelspec": {
   "display_name": "Python [conda env:learning] *",
   "language": "python",
   "name": "conda-env-learning-py"
  },
  "language_info": {
   "codemirror_mode": {
    "name": "ipython",
    "version": 3
   },
   "file_extension": ".py",
   "mimetype": "text/x-python",
   "name": "python",
   "nbconvert_exporter": "python",
   "pygments_lexer": "ipython3",
   "version": "3.7.3"
  },
  "latex_envs": {
   "LaTeX_envs_menu_present": true,
   "autoclose": false,
   "autocomplete": true,
   "bibliofile": "biblio.bib",
   "cite_by": "apalike",
   "current_citInitial": 1,
   "eqLabelWithNumbers": true,
   "eqNumInitial": 1,
   "hotkeys": {
    "equation": "Ctrl-E",
    "itemize": "Ctrl-I"
   },
   "labels_anchors": false,
   "latex_user_defs": false,
   "report_style_numbering": false,
   "user_envs_cfg": false
  },
  "toc": {
   "base_numbering": 1,
   "nav_menu": {},
   "number_sections": true,
   "sideBar": true,
   "skip_h1_title": false,
   "title_cell": "Table of Contents",
   "title_sidebar": "Contents",
   "toc_cell": false,
   "toc_position": {},
   "toc_section_display": true,
   "toc_window_display": false
  },
  "varInspector": {
   "cols": {
    "lenName": 16,
    "lenType": 16,
    "lenVar": 40
   },
   "kernels_config": {
    "python": {
     "delete_cmd_postfix": "",
     "delete_cmd_prefix": "del ",
     "library": "var_list.py",
     "varRefreshCmd": "print(var_dic_list())"
    },
    "r": {
     "delete_cmd_postfix": ") ",
     "delete_cmd_prefix": "rm(",
     "library": "var_list.r",
     "varRefreshCmd": "cat(var_dic_list()) "
    }
   },
   "types_to_exclude": [
    "module",
    "function",
    "builtin_function_or_method",
    "instance",
    "_Feature"
   ],
   "window_display": false
  }
 },
 "nbformat": 4,
 "nbformat_minor": 2
}
