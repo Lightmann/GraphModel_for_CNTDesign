{
 "cells": [
  {
   "cell_type": "code",
   "execution_count": 1,
   "metadata": {
    "ExecuteTime": {
     "end_time": "2020-03-21T13:33:34.470186Z",
     "start_time": "2020-03-21T13:33:33.879935Z"
    }
   },
   "outputs": [],
   "source": [
    "import pandas as pd\n",
    "import matplotlib.pyplot as plt\n",
    "import numpy as np\n",
    "from sklearn.linear_model import HuberRegressor, LinearRegression\n",
    "from Tools import *"
   ]
  },
  {
   "cell_type": "code",
   "execution_count": 2,
   "metadata": {
    "ExecuteTime": {
     "end_time": "2020-03-21T13:33:34.559556Z",
     "start_time": "2020-03-21T13:33:34.471683Z"
    }
   },
   "outputs": [],
   "source": [
    "import networkx as nx "
   ]
  },
  {
   "cell_type": "markdown",
   "metadata": {},
   "source": [
    "## condidate graphs"
   ]
  },
  {
   "cell_type": "markdown",
   "metadata": {},
   "source": [
    "### edges"
   ]
  },
  {
   "cell_type": "code",
   "execution_count": 3,
   "metadata": {
    "ExecuteTime": {
     "end_time": "2020-03-21T13:33:35.362132Z",
     "start_time": "2020-03-21T13:33:34.560880Z"
    }
   },
   "outputs": [],
   "source": [
    "all_edges = []\n",
    "for i in list('CARST'):\n",
    "    out = 'CARTSY'.replace(i,'').replace('C','')\n",
    "#     for o in list('CARTSY'):\n",
    "    for o in list(out):\n",
    "        all_edges.append((i,o))"
   ]
  },
  {
   "cell_type": "code",
   "execution_count": 4,
   "metadata": {
    "ExecuteTime": {
     "end_time": "2020-03-21T13:33:36.046650Z",
     "start_time": "2020-03-21T13:33:35.364469Z"
    }
   },
   "outputs": [
    {
     "data": {
      "image/png": "[encoded data removed]",
      "text/plain": [
       "<Figure size 432x288 with 1 Axes>"
      ]
     },
     "metadata": {},
     "output_type": "display_data"
    }
   ],
   "source": [
    "G = nx.DiGraph() # Graph()\n",
    "G.add_edges_from(all_edges) \n",
    "nx.draw_networkx(G, with_label = True,node_color ='green') "
   ]
  },
  {
   "cell_type": "markdown",
   "metadata": {},
   "source": [
    "### valid graph"
   ]
  },
  {
   "cell_type": "code",
   "execution_count": 3,
   "metadata": {
    "ExecuteTime": {
     "end_time": "2020-03-30T12:05:11.755033Z",
     "start_time": "2020-03-30T12:05:11.746109Z"
    }
   },
   "outputs": [
    {
     "data": {
      "text/plain": [
       "False"
      ]
     },
     "execution_count": 3,
     "metadata": {},
     "output_type": "execute_result"
    }
   ],
   "source": [
    "a = ['C','Y']\n",
    "b = set(['C','S'])\n",
    "\n",
    "b.issubset(a)"
   ]
  },
  {
   "cell_type": "code",
   "execution_count": null,
   "metadata": {},
   "outputs": [],
   "source": []
  },
  {
   "cell_type": "code",
   "execution_count": 5,
   "metadata": {
    "ExecuteTime": {
     "end_time": "2020-03-21T13:33:36.054048Z",
     "start_time": "2020-03-21T13:33:36.048125Z"
    }
   },
   "outputs": [],
   "source": [
    "def valid_graph(G):\n",
    "    \n",
    "    # input is 'C' and output is 'Y'\n",
    "    if not 'C' in G.nodes:\n",
    "        return False\n",
    "    if not 'Y' in G.nodes:\n",
    "        return False\n",
    "    if G.in_degree['C'] > 0 or G.out_degree['C'] == 0:\n",
    "        return False\n",
    "    if G.in_degree['Y'] == 0 or G.out_degree['Y'] >0:\n",
    "        return False\n",
    "    \n",
    "    # other are inter media nodes\n",
    "    for node in G.nodes:\n",
    "        if node not in ['C','Y']:\n",
    "            if G.in_degree[node]==0 or G.out_degree[node]==0:\n",
    "                return False\n",
    "            \n",
    "    # no circle\n",
    "    try:\n",
    "        nx.find_cycle(G, orientation='original')\n",
    "        return False\n",
    "    except:\n",
    "        pass\n",
    "    \n",
    "    # upto now: 45791 graphs\n",
    "    \n",
    "    # T only to Y\n",
    "    if 'T' in G.nodes:\n",
    "        if G.out_degree['T'] > 1:\n",
    "            return False\n",
    "        if not G.has_edge('T','Y'):\n",
    "            return False\n",
    "        \n",
    "        # (T,S) only to Y\n",
    "        if 'S' in G.nodes:\n",
    "            if G.in_degree['Y'] != 2:\n",
    "                return False\n",
    "            if not G.has_edge('S','Y'):\n",
    "                return False\n",
    "        \n",
    "    # upto noew: 1600 graphs\n",
    "    \n",
    "    return True"
   ]
  },
  {
   "cell_type": "code",
   "execution_count": 6,
   "metadata": {
    "ExecuteTime": {
     "end_time": "2020-03-21T13:33:36.342757Z",
     "start_time": "2020-03-21T13:33:36.055044Z"
    }
   },
   "outputs": [],
   "source": [
    "def PowerSetsBinary(items): \n",
    "  #generate all combination of N items \n",
    "  N = len(items) \n",
    "  #enumerate the 2**N possible combinations \n",
    "  for i in range(2**N): \n",
    "    combo = [] \n",
    "    for j in range(N): \n",
    "      #test jth bit of integer i \n",
    "      if(i >> j ) % 2 == 1: \n",
    "        combo.append(items[j]) \n",
    "    yield combo"
   ]
  },
  {
   "cell_type": "code",
   "execution_count": 7,
   "metadata": {
    "ExecuteTime": {
     "end_time": "2020-03-21T13:35:08.663478Z",
     "start_time": "2020-03-21T13:33:36.346497Z"
    }
   },
   "outputs": [],
   "source": [
    "count = 0\n",
    "graph_array = []\n",
    "for edges in PowerSetsBinary(all_edges):\n",
    "    \n",
    "    G = nx.DiGraph() # Graph()\n",
    "    G.add_edges_from(edges) \n",
    "    \n",
    "    if not valid_graph(G):\n",
    "        continue\n",
    "    \n",
    "    count += 1\n",
    "    G0 = G\n",
    "    graph_array.append(G)\n",
    "#     if count>50:\n",
    "#         break\n",
    "        \n",
    "    \n",
    "#     nx.draw_networkx(G, with_label = True,node_color ='green') \n",
    "#     plt.show()"
   ]
  },
  {
   "cell_type": "code",
   "execution_count": 8,
   "metadata": {
    "ExecuteTime": {
     "end_time": "2020-03-21T13:35:08.668099Z",
     "start_time": "2020-03-21T13:35:08.665117Z"
    }
   },
   "outputs": [
    {
     "data": {
      "text/plain": [
       "1600"
      ]
     },
     "execution_count": 8,
     "metadata": {},
     "output_type": "execute_result"
    }
   ],
   "source": [
    "count"
   ]
  },
  {
   "cell_type": "markdown",
   "metadata": {},
   "source": [
    "### save"
   ]
  },
  {
   "cell_type": "code",
   "execution_count": 9,
   "metadata": {
    "ExecuteTime": {
     "end_time": "2020-03-21T13:35:09.051429Z",
     "start_time": "2020-03-21T13:35:08.669078Z"
    }
   },
   "outputs": [],
   "source": [
    "import pickle\n",
    "def data_save(data,filename):\n",
    "    f = open(filename,\"wb\") # .dat\n",
    "    pickle.dump(data,f)\n",
    "    f.close()\n",
    "    \n",
    "def data_load(filename):\n",
    "    return pickle.load(open(filename,\"rb\"))"
   ]
  },
  {
   "cell_type": "code",
   "execution_count": 10,
   "metadata": {
    "ExecuteTime": {
     "end_time": "2020-03-21T13:35:09.283954Z",
     "start_time": "2020-03-21T13:35:09.053826Z"
    }
   },
   "outputs": [],
   "source": [
    "data_save(graph_array,'graph_array_1600.dat')"
   ]
  },
  {
   "cell_type": "markdown",
   "metadata": {},
   "source": [
    "## short path"
   ]
  },
  {
   "cell_type": "code",
   "execution_count": 11,
   "metadata": {
    "ExecuteTime": {
     "end_time": "2020-03-21T13:35:09.861898Z",
     "start_time": "2020-03-21T13:35:09.285361Z"
    }
   },
   "outputs": [],
   "source": [
    "c = 0\n",
    "graph_array2 = []\n",
    "for G in graph_array:\n",
    "#     if G.number_of_edges() != 3:\n",
    "#         continue\n",
    "    if nx.algorithms.dag.dag_longest_path_length(G) > 3:\n",
    "        continue\n",
    "    c += 1\n",
    "    G0 = G\n",
    "    graph_array2.append(G)\n",
    "#     nx.draw_networkx(G, with_label = True,node_color ='green') \n",
    "#     plt.show()"
   ]
  },
  {
   "cell_type": "code",
   "execution_count": 12,
   "metadata": {
    "ExecuteTime": {
     "end_time": "2020-03-21T13:35:09.941513Z",
     "start_time": "2020-03-21T13:35:09.863079Z"
    }
   },
   "outputs": [
    {
     "data": {
      "text/plain": [
       "368"
      ]
     },
     "execution_count": 12,
     "metadata": {},
     "output_type": "execute_result"
    }
   ],
   "source": [
    "c"
   ]
  },
  {
   "cell_type": "markdown",
   "metadata": {},
   "source": [
    "### save"
   ]
  },
  {
   "cell_type": "code",
   "execution_count": 13,
   "metadata": {
    "ExecuteTime": {
     "end_time": "2020-03-21T13:35:10.192670Z",
     "start_time": "2020-03-21T13:35:09.943242Z"
    }
   },
   "outputs": [],
   "source": [
    "data_save(graph_array2,'graph_array_368.dat')"
   ]
  },
  {
   "cell_type": "markdown",
   "metadata": {},
   "source": [
    "### plot"
   ]
  },
  {
   "cell_type": "code",
   "execution_count": 14,
   "metadata": {
    "ExecuteTime": {
     "end_time": "2020-03-21T13:35:10.502363Z",
     "start_time": "2020-03-21T13:35:10.194457Z"
    }
   },
   "outputs": [],
   "source": [
    "# len(graph_array2)\n",
    "# G0 = nx.Graph()\n",
    "# # G0.add_nodes_from(['C','A','T','Y','S','R'][::1], size=10)\n",
    "# G0.add_nodes_from(['Y','S','R','C','A','T'], size=10)\n",
    "# pos = nx.circular_layout(G0)\n",
    "# for i,G in enumerate(graph_array2):\n",
    "#     plt.figure()\n",
    "#     G.add_nodes_from(['Y','S','R','C','A','T'], size=10)\n",
    "#     nx.draw_networkx(G, pos,with_label = True,node_color ='green',node_size = 1000,font_size=16)     \n",
    "#     plt.tight_layout()\n",
    "#     plt.savefig('graph/%d.png'%i)"
   ]
  },
  {
   "cell_type": "code",
   "execution_count": 15,
   "metadata": {
    "ExecuteTime": {
     "end_time": "2020-03-21T13:35:10.939973Z",
     "start_time": "2020-03-21T13:35:10.504432Z"
    }
   },
   "outputs": [
    {
     "data": {
      "image/png": "[encoded data removed]",
      "text/plain": [
       "<Figure size 432x288 with 1 Axes>"
      ]
     },
     "metadata": {},
     "output_type": "display_data"
    }
   ],
   "source": [
    "nx.draw_networkx(G0, with_label = True,node_color ='green',node_size = 1000,font_size=16) "
   ]
  },
  {
   "cell_type": "markdown",
   "metadata": {},
   "source": [
    "## graph to models - pre"
   ]
  },
  {
   "cell_type": "code",
   "execution_count": 16,
   "metadata": {
    "ExecuteTime": {
     "end_time": "2020-03-21T13:35:11.160788Z",
     "start_time": "2020-03-21T13:35:10.941277Z"
    }
   },
   "outputs": [
    {
     "data": {
      "image/png": "[encoded data removed]",
      "text/plain": [
       "<Figure size 432x288 with 1 Axes>"
      ]
     },
     "metadata": {},
     "output_type": "display_data"
    }
   ],
   "source": [
    "G = graph_array2[39]\n",
    "nx.draw_networkx(G, with_label = True,node_color ='green') "
   ]
  },
  {
   "cell_type": "code",
   "execution_count": 17,
   "metadata": {
    "ExecuteTime": {
     "end_time": "2020-03-21T13:35:11.176551Z",
     "start_time": "2020-03-21T13:35:11.162576Z"
    }
   },
   "outputs": [
    {
     "data": {
      "text/plain": [
       "['C', 'S', 'R', 'Y']"
      ]
     },
     "execution_count": 17,
     "metadata": {},
     "output_type": "execute_result"
    }
   ],
   "source": [
    "[x for x in nx.all_simple_paths(G, 'C', 'Y', cutoff=None)]\n",
    "max(nx.all_simple_paths(G, 'C', 'Y'), key=lambda x: len(x))\n",
    "# https://stackoverflow.com/questions/56362785/calculate-the-longest-path-between-two-nodes-networkx"
   ]
  },
  {
   "cell_type": "code",
   "execution_count": 18,
   "metadata": {
    "ExecuteTime": {
     "end_time": "2020-03-21T13:35:11.409755Z",
     "start_time": "2020-03-21T13:35:11.177920Z"
    }
   },
   "outputs": [],
   "source": [
    "dist = {n:len(max(nx.all_simple_paths(G, n, 'Y'), key=lambda x: len(x)))-1 for n in G.nodes if n != 'Y'}\n",
    "dist.update({'Y':0})"
   ]
  },
  {
   "cell_type": "code",
   "execution_count": 19,
   "metadata": {
    "ExecuteTime": {
     "end_time": "2020-03-21T13:35:11.692762Z",
     "start_time": "2020-03-21T13:35:11.412193Z"
    }
   },
   "outputs": [
    {
     "data": {
      "text/plain": [
       "{'C': 3, 'S': 2, 'R': 1, 'Y': 0}"
      ]
     },
     "execution_count": 19,
     "metadata": {},
     "output_type": "execute_result"
    }
   ],
   "source": [
    "dist"
   ]
  },
  {
   "cell_type": "code",
   "execution_count": 20,
   "metadata": {
    "ExecuteTime": {
     "end_time": "2020-03-21T13:35:11.883478Z",
     "start_time": "2020-03-21T13:35:11.695098Z"
    }
   },
   "outputs": [
    {
     "data": {
      "text/plain": [
       "['Y', 'R', 'S', 'C']"
      ]
     },
     "execution_count": 20,
     "metadata": {},
     "output_type": "execute_result"
    }
   ],
   "source": [
    "node_array = sorted(dist.keys(), key= lambda k : dist[k])\n",
    "node_array"
   ]
  },
  {
   "cell_type": "code",
   "execution_count": 21,
   "metadata": {
    "ExecuteTime": {
     "end_time": "2020-03-21T13:35:12.090637Z",
     "start_time": "2020-03-21T13:35:11.885242Z"
    }
   },
   "outputs": [
    {
     "name": "stdout",
     "output_type": "stream",
     "text": [
      "['R'] Y\n",
      "['S'] R\n",
      "['C'] S\n",
      "[] C\n"
     ]
    }
   ],
   "source": [
    "for node in node_array:\n",
    "    xs = [x for x in G.predecessors(node)]\n",
    "    print(xs,node)"
   ]
  }
 ],
 "metadata": {
  "hide_input": false,
  "kernelspec": {
   "display_name": "Python 3",
   "language": "python",
   "name": "python3"
  },
  "language_info": {
   "codemirror_mode": {
    "name": "ipython",
    "version": 3
   },
   "file_extension": ".py",
   "mimetype": "text/x-python",
   "name": "python",
   "nbconvert_exporter": "python",
   "pygments_lexer": "ipython3",
   "version": "3.6.9"
  },
  "toc": {
   "base_numbering": 1,
   "nav_menu": {},
   "number_sections": true,
   "sideBar": true,
   "skip_h1_title": false,
   "title_cell": "Table of Contents",
   "title_sidebar": "Contents",
   "toc_cell": false,
   "toc_position": {
    "height": "calc(100% - 180px)",
    "left": "10px",
    "top": "150px",
    "width": "320px"
   },
   "toc_section_display": true,
   "toc_window_display": true
  },
  "varInspector": {
   "cols": {
    "lenName": 16,
    "lenType": 16,
    "lenVar": 40
   },
   "kernels_config": {
    "python": {
     "delete_cmd_postfix": "",
     "delete_cmd_prefix": "del ",
     "library": "var_list.py",
     "varRefreshCmd": "print(var_dic_list())"
    },
    "r": {
     "delete_cmd_postfix": ") ",
     "delete_cmd_prefix": "rm(",
     "library": "var_list.r",
     "varRefreshCmd": "cat(var_dic_list()) "
    }
   },
   "types_to_exclude": [
    "module",
    "function",
    "builtin_function_or_method",
    "instance",
    "_Feature"
   ],
   "window_display": false
  }
 },
 "nbformat": 4,
 "nbformat_minor": 2
}
