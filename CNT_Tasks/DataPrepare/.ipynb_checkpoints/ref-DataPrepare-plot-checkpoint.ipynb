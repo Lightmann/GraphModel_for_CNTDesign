{
 "cells": [
  {
   "cell_type": "markdown",
   "metadata": {
    "toc": true
   },
   "source": [
    "<h1>Table of Contents<span class=\"tocSkip\"></span></h1>\n",
    "<div class=\"toc\"><ul class=\"toc-item\"><li><span><a href=\"#Data\" data-toc-modified-id=\"Data-1\"><span class=\"toc-item-num\">1&nbsp;&nbsp;</span>Data</a></span></li><li><span><a href=\"#Add-columns\" data-toc-modified-id=\"Add-columns-2\"><span class=\"toc-item-num\">2&nbsp;&nbsp;</span>Add columns</a></span></li><li><span><a href=\"#add-probabilities\" data-toc-modified-id=\"add-probabilities-3\"><span class=\"toc-item-num\">3&nbsp;&nbsp;</span>add probabilities</a></span><ul class=\"toc-item\"><li><span><a href=\"#see\" data-toc-modified-id=\"see-3.1\"><span class=\"toc-item-num\">3.1&nbsp;&nbsp;</span>see</a></span></li></ul></li><li><span><a href=\"#save\" data-toc-modified-id=\"save-4\"><span class=\"toc-item-num\">4&nbsp;&nbsp;</span>save</a></span></li><li><span><a href=\"#tools---demo\" data-toc-modified-id=\"tools---demo-5\"><span class=\"toc-item-num\">5&nbsp;&nbsp;</span>tools - demo</a></span></li></ul></div>"
   ]
  },
  {
   "cell_type": "code",
   "execution_count": 1,
   "metadata": {
    "ExecuteTime": {
     "end_time": "2020-03-27T09:43:05.868266Z",
     "start_time": "2020-03-27T09:43:05.007632Z"
    }
   },
   "outputs": [],
   "source": [
    "import pandas as pd\n",
    "import matplotlib.pyplot as plt\n",
    "import numpy as np\n",
    "# from sklearn.linear_model import HuberRegressor, LinearRegression\n",
    "# from Tools import *"
   ]
  },
  {
   "cell_type": "code",
   "execution_count": 2,
   "metadata": {
    "ExecuteTime": {
     "end_time": "2020-03-27T09:43:06.548884Z",
     "start_time": "2020-03-27T09:43:05.871715Z"
    }
   },
   "outputs": [],
   "source": [
    "from sklearn.metrics.pairwise import euclidean_distances\n",
    "from scipy.spatial.distance import pdist, squareform"
   ]
  },
  {
   "cell_type": "markdown",
   "metadata": {},
   "source": [
    "## Data"
   ]
  },
  {
   "cell_type": "code",
   "execution_count": 3,
   "metadata": {
    "ExecuteTime": {
     "end_time": "2020-03-27T09:43:22.600689Z",
     "start_time": "2020-03-27T09:43:06.551008Z"
    }
   },
   "outputs": [],
   "source": [
    "data_orgs = []\n",
    "for i in range(1,13):\n",
    "#     data_orgs.append(pd.read_excel('../data/Run1_12_20200226.xlsx', sheet_name='Run %d'%i))\n",
    "    data_orgs.append(pd.read_excel('../data/Run1_13_20200304-modified.xlsx', sheet_name='Run %d'%i))        "
   ]
  },
  {
   "cell_type": "code",
   "execution_count": 4,
   "metadata": {
    "ExecuteTime": {
     "end_time": "2020-03-27T09:43:22.660992Z",
     "start_time": "2020-03-27T09:43:22.602725Z"
    }
   },
   "outputs": [],
   "source": [
    "data_org = pd.concat(data_orgs,ignore_index=True,sort=False).dropna(axis=0,how='all',)"
   ]
  },
  {
   "cell_type": "code",
   "execution_count": 5,
   "metadata": {
    "ExecuteTime": {
     "end_time": "2020-03-27T09:43:22.988048Z",
     "start_time": "2020-03-27T09:43:22.663082Z"
    }
   },
   "outputs": [
    {
     "data": {
      "text/html": [
       "<div>\n",
       "<style scoped>\n",
       "    .dataframe tbody tr th:only-of-type {\n",
       "        vertical-align: middle;\n",
       "    }\n",
       "\n",
       "    .dataframe tbody tr th {\n",
       "        vertical-align: top;\n",
       "    }\n",
       "\n",
       "    .dataframe thead th {\n",
       "        text-align: right;\n",
       "    }\n",
       "</style>\n",
       "<table border=\"1\" class=\"dataframe\">\n",
       "  <thead>\n",
       "    <tr style=\"text-align: right;\">\n",
       "      <th></th>\n",
       "      <th>Wafer No.</th>\n",
       "      <th>Sample No.</th>\n",
       "      <th>Droplet No.</th>\n",
       "      <th>P3HT vol (µL)</th>\n",
       "      <th>D1 vol (µL)</th>\n",
       "      <th>D2 vol (µL)</th>\n",
       "      <th>D6 vol (µL)</th>\n",
       "      <th>D8 vol (µL)</th>\n",
       "      <th>P3HT content (%)</th>\n",
       "      <th>D1 content (%)</th>\n",
       "      <th>...</th>\n",
       "      <th>Thickness \\nSt_Dev, (%)</th>\n",
       "      <th>Thickness inferred (legacy)</th>\n",
       "      <th>Sheet Resistance (ohm/sq)</th>\n",
       "      <th>Conductivity inferred (legacy)</th>\n",
       "      <th>Conductivity (measured) (S/cm)</th>\n",
       "      <th>BO_Target</th>\n",
       "      <th>Run</th>\n",
       "      <th>Unnamed: 26</th>\n",
       "      <th>Unnamed: 27</th>\n",
       "      <th>Unnamed: 28</th>\n",
       "    </tr>\n",
       "  </thead>\n",
       "  <tbody>\n",
       "    <tr>\n",
       "      <th>0</th>\n",
       "      <td>1</td>\n",
       "      <td>1</td>\n",
       "      <td>a</td>\n",
       "      <td>83.334</td>\n",
       "      <td>16.666</td>\n",
       "      <td>0.000</td>\n",
       "      <td>0.000</td>\n",
       "      <td>0.000</td>\n",
       "      <td>90.00000</td>\n",
       "      <td>10.0000</td>\n",
       "      <td>...</td>\n",
       "      <td>NaN</td>\n",
       "      <td>120.306361</td>\n",
       "      <td>227.790433</td>\n",
       "      <td>364.901735</td>\n",
       "      <td>NaN</td>\n",
       "      <td>Original</td>\n",
       "      <td>1</td>\n",
       "      <td>NaN</td>\n",
       "      <td>NaN</td>\n",
       "      <td>NaN</td>\n",
       "    </tr>\n",
       "    <tr>\n",
       "      <th>1</th>\n",
       "      <td>1</td>\n",
       "      <td>1</td>\n",
       "      <td>b</td>\n",
       "      <td>83.334</td>\n",
       "      <td>16.666</td>\n",
       "      <td>0.000</td>\n",
       "      <td>0.000</td>\n",
       "      <td>0.000</td>\n",
       "      <td>90.00000</td>\n",
       "      <td>10.0000</td>\n",
       "      <td>...</td>\n",
       "      <td>NaN</td>\n",
       "      <td>109.677186</td>\n",
       "      <td>154.559505</td>\n",
       "      <td>589.913018</td>\n",
       "      <td>NaN</td>\n",
       "      <td>Original</td>\n",
       "      <td>1</td>\n",
       "      <td>NaN</td>\n",
       "      <td>NaN</td>\n",
       "      <td>NaN</td>\n",
       "    </tr>\n",
       "    <tr>\n",
       "      <th>2</th>\n",
       "      <td>1</td>\n",
       "      <td>1</td>\n",
       "      <td>c</td>\n",
       "      <td>83.334</td>\n",
       "      <td>16.666</td>\n",
       "      <td>0.000</td>\n",
       "      <td>0.000</td>\n",
       "      <td>0.000</td>\n",
       "      <td>90.00000</td>\n",
       "      <td>10.0000</td>\n",
       "      <td>...</td>\n",
       "      <td>NaN</td>\n",
       "      <td>102.257569</td>\n",
       "      <td>263.852243</td>\n",
       "      <td>370.632712</td>\n",
       "      <td>NaN</td>\n",
       "      <td>Original</td>\n",
       "      <td>1</td>\n",
       "      <td>NaN</td>\n",
       "      <td>NaN</td>\n",
       "      <td>NaN</td>\n",
       "    </tr>\n",
       "    <tr>\n",
       "      <th>3</th>\n",
       "      <td>1</td>\n",
       "      <td>1</td>\n",
       "      <td>d</td>\n",
       "      <td>83.334</td>\n",
       "      <td>16.666</td>\n",
       "      <td>0.000</td>\n",
       "      <td>0.000</td>\n",
       "      <td>0.000</td>\n",
       "      <td>90.00000</td>\n",
       "      <td>10.0000</td>\n",
       "      <td>...</td>\n",
       "      <td>3.045408</td>\n",
       "      <td>106.733643</td>\n",
       "      <td>232.018561</td>\n",
       "      <td>403.808946</td>\n",
       "      <td>218.670726</td>\n",
       "      <td>Original</td>\n",
       "      <td>1</td>\n",
       "      <td>NaN</td>\n",
       "      <td>NaN</td>\n",
       "      <td>NaN</td>\n",
       "    </tr>\n",
       "    <tr>\n",
       "      <th>4</th>\n",
       "      <td>1</td>\n",
       "      <td>1</td>\n",
       "      <td>e</td>\n",
       "      <td>83.334</td>\n",
       "      <td>16.666</td>\n",
       "      <td>0.000</td>\n",
       "      <td>0.000</td>\n",
       "      <td>0.000</td>\n",
       "      <td>90.00000</td>\n",
       "      <td>10.0000</td>\n",
       "      <td>...</td>\n",
       "      <td>7.793672</td>\n",
       "      <td>NaN</td>\n",
       "      <td>200.000000</td>\n",
       "      <td>NaN</td>\n",
       "      <td>179.533214</td>\n",
       "      <td>Original</td>\n",
       "      <td>1</td>\n",
       "      <td>NaN</td>\n",
       "      <td>NaN</td>\n",
       "      <td>NaN</td>\n",
       "    </tr>\n",
       "    <tr>\n",
       "      <th>...</th>\n",
       "      <td>...</td>\n",
       "      <td>...</td>\n",
       "      <td>...</td>\n",
       "      <td>...</td>\n",
       "      <td>...</td>\n",
       "      <td>...</td>\n",
       "      <td>...</td>\n",
       "      <td>...</td>\n",
       "      <td>...</td>\n",
       "      <td>...</td>\n",
       "      <td>...</td>\n",
       "      <td>...</td>\n",
       "      <td>...</td>\n",
       "      <td>...</td>\n",
       "      <td>...</td>\n",
       "      <td>...</td>\n",
       "      <td>...</td>\n",
       "      <td>...</td>\n",
       "      <td>...</td>\n",
       "      <td>...</td>\n",
       "      <td>...</td>\n",
       "    </tr>\n",
       "    <tr>\n",
       "      <th>1718</th>\n",
       "      <td>5</td>\n",
       "      <td>4</td>\n",
       "      <td>b</td>\n",
       "      <td>99.988</td>\n",
       "      <td>0.003</td>\n",
       "      <td>0.003</td>\n",
       "      <td>0.003</td>\n",
       "      <td>0.003</td>\n",
       "      <td>99.99085</td>\n",
       "      <td>0.0018</td>\n",
       "      <td>...</td>\n",
       "      <td>NaN</td>\n",
       "      <td>NaN</td>\n",
       "      <td>1087.000000</td>\n",
       "      <td>NaN</td>\n",
       "      <td>NaN</td>\n",
       "      <td>Combined</td>\n",
       "      <td>12</td>\n",
       "      <td>NaN</td>\n",
       "      <td>NaN</td>\n",
       "      <td>NaN</td>\n",
       "    </tr>\n",
       "    <tr>\n",
       "      <th>1719</th>\n",
       "      <td>5</td>\n",
       "      <td>4</td>\n",
       "      <td>c</td>\n",
       "      <td>99.988</td>\n",
       "      <td>0.003</td>\n",
       "      <td>0.003</td>\n",
       "      <td>0.003</td>\n",
       "      <td>0.003</td>\n",
       "      <td>99.99085</td>\n",
       "      <td>0.0018</td>\n",
       "      <td>...</td>\n",
       "      <td>NaN</td>\n",
       "      <td>NaN</td>\n",
       "      <td>181.133110</td>\n",
       "      <td>NaN</td>\n",
       "      <td>NaN</td>\n",
       "      <td>Combined</td>\n",
       "      <td>12</td>\n",
       "      <td>NaN</td>\n",
       "      <td>NaN</td>\n",
       "      <td>NaN</td>\n",
       "    </tr>\n",
       "    <tr>\n",
       "      <th>1720</th>\n",
       "      <td>5</td>\n",
       "      <td>4</td>\n",
       "      <td>d</td>\n",
       "      <td>99.988</td>\n",
       "      <td>0.003</td>\n",
       "      <td>0.003</td>\n",
       "      <td>0.003</td>\n",
       "      <td>0.003</td>\n",
       "      <td>99.99085</td>\n",
       "      <td>0.0018</td>\n",
       "      <td>...</td>\n",
       "      <td>NaN</td>\n",
       "      <td>NaN</td>\n",
       "      <td>2361.637750</td>\n",
       "      <td>NaN</td>\n",
       "      <td>NaN</td>\n",
       "      <td>Combined</td>\n",
       "      <td>12</td>\n",
       "      <td>NaN</td>\n",
       "      <td>NaN</td>\n",
       "      <td>NaN</td>\n",
       "    </tr>\n",
       "    <tr>\n",
       "      <th>1721</th>\n",
       "      <td>5</td>\n",
       "      <td>4</td>\n",
       "      <td>e</td>\n",
       "      <td>99.988</td>\n",
       "      <td>0.003</td>\n",
       "      <td>0.003</td>\n",
       "      <td>0.003</td>\n",
       "      <td>0.003</td>\n",
       "      <td>99.99085</td>\n",
       "      <td>0.0018</td>\n",
       "      <td>...</td>\n",
       "      <td>NaN</td>\n",
       "      <td>NaN</td>\n",
       "      <td>1662.668570</td>\n",
       "      <td>NaN</td>\n",
       "      <td>NaN</td>\n",
       "      <td>Combined</td>\n",
       "      <td>12</td>\n",
       "      <td>NaN</td>\n",
       "      <td>NaN</td>\n",
       "      <td>NaN</td>\n",
       "    </tr>\n",
       "    <tr>\n",
       "      <th>1722</th>\n",
       "      <td>5</td>\n",
       "      <td>4</td>\n",
       "      <td>f</td>\n",
       "      <td>99.988</td>\n",
       "      <td>0.003</td>\n",
       "      <td>0.003</td>\n",
       "      <td>0.003</td>\n",
       "      <td>0.003</td>\n",
       "      <td>99.99085</td>\n",
       "      <td>0.0018</td>\n",
       "      <td>...</td>\n",
       "      <td>NaN</td>\n",
       "      <td>NaN</td>\n",
       "      <td>1225.753700</td>\n",
       "      <td>NaN</td>\n",
       "      <td>NaN</td>\n",
       "      <td>Combined</td>\n",
       "      <td>12</td>\n",
       "      <td>NaN</td>\n",
       "      <td>NaN</td>\n",
       "      <td>NaN</td>\n",
       "    </tr>\n",
       "  </tbody>\n",
       "</table>\n",
       "<p>1723 rows × 29 columns</p>\n",
       "</div>"
      ],
      "text/plain": [
       "      Wafer No.  Sample No. Droplet No.  P3HT vol (µL)  D1 vol (µL)  \\\n",
       "0             1           1           a         83.334       16.666   \n",
       "1             1           1           b         83.334       16.666   \n",
       "2             1           1           c         83.334       16.666   \n",
       "3             1           1           d         83.334       16.666   \n",
       "4             1           1           e         83.334       16.666   \n",
       "...         ...         ...         ...            ...          ...   \n",
       "1718          5           4           b         99.988        0.003   \n",
       "1719          5           4           c         99.988        0.003   \n",
       "1720          5           4           d         99.988        0.003   \n",
       "1721          5           4           e         99.988        0.003   \n",
       "1722          5           4           f         99.988        0.003   \n",
       "\n",
       "      D2 vol (µL)  D6 vol (µL)  D8 vol (µL)  P3HT content (%)  D1 content (%)  \\\n",
       "0           0.000        0.000        0.000          90.00000         10.0000   \n",
       "1           0.000        0.000        0.000          90.00000         10.0000   \n",
       "2           0.000        0.000        0.000          90.00000         10.0000   \n",
       "3           0.000        0.000        0.000          90.00000         10.0000   \n",
       "4           0.000        0.000        0.000          90.00000         10.0000   \n",
       "...           ...          ...          ...               ...             ...   \n",
       "1718        0.003        0.003        0.003          99.99085          0.0018   \n",
       "1719        0.003        0.003        0.003          99.99085          0.0018   \n",
       "1720        0.003        0.003        0.003          99.99085          0.0018   \n",
       "1721        0.003        0.003        0.003          99.99085          0.0018   \n",
       "1722        0.003        0.003        0.003          99.99085          0.0018   \n",
       "\n",
       "      ...  Thickness \\nSt_Dev, (%)  Thickness inferred (legacy)  \\\n",
       "0     ...                      NaN                   120.306361   \n",
       "1     ...                      NaN                   109.677186   \n",
       "2     ...                      NaN                   102.257569   \n",
       "3     ...                 3.045408                   106.733643   \n",
       "4     ...                 7.793672                          NaN   \n",
       "...   ...                      ...                          ...   \n",
       "1718  ...                      NaN                          NaN   \n",
       "1719  ...                      NaN                          NaN   \n",
       "1720  ...                      NaN                          NaN   \n",
       "1721  ...                      NaN                          NaN   \n",
       "1722  ...                      NaN                          NaN   \n",
       "\n",
       "      Sheet Resistance (ohm/sq)  Conductivity inferred (legacy)  \\\n",
       "0                    227.790433                      364.901735   \n",
       "1                    154.559505                      589.913018   \n",
       "2                    263.852243                      370.632712   \n",
       "3                    232.018561                      403.808946   \n",
       "4                    200.000000                             NaN   \n",
       "...                         ...                             ...   \n",
       "1718                1087.000000                             NaN   \n",
       "1719                 181.133110                             NaN   \n",
       "1720                2361.637750                             NaN   \n",
       "1721                1662.668570                             NaN   \n",
       "1722                1225.753700                             NaN   \n",
       "\n",
       "      Conductivity (measured) (S/cm)  BO_Target Run  Unnamed: 26  Unnamed: 27  \\\n",
       "0                                NaN   Original   1          NaN          NaN   \n",
       "1                                NaN   Original   1          NaN          NaN   \n",
       "2                                NaN   Original   1          NaN          NaN   \n",
       "3                         218.670726   Original   1          NaN          NaN   \n",
       "4                         179.533214   Original   1          NaN          NaN   \n",
       "...                              ...        ...  ..          ...          ...   \n",
       "1718                             NaN   Combined  12          NaN          NaN   \n",
       "1719                             NaN   Combined  12          NaN          NaN   \n",
       "1720                             NaN   Combined  12          NaN          NaN   \n",
       "1721                             NaN   Combined  12          NaN          NaN   \n",
       "1722                             NaN   Combined  12          NaN          NaN   \n",
       "\n",
       "      Unnamed: 28  \n",
       "0             NaN  \n",
       "1             NaN  \n",
       "2             NaN  \n",
       "3             NaN  \n",
       "4             NaN  \n",
       "...           ...  \n",
       "1718          NaN  \n",
       "1719          NaN  \n",
       "1720          NaN  \n",
       "1721          NaN  \n",
       "1722          NaN  \n",
       "\n",
       "[1723 rows x 29 columns]"
      ]
     },
     "execution_count": 5,
     "metadata": {},
     "output_type": "execute_result"
    }
   ],
   "source": [
    "data_org"
   ]
  },
  {
   "cell_type": "code",
   "execution_count": 6,
   "metadata": {
    "ExecuteTime": {
     "end_time": "2020-03-27T09:43:23.239823Z",
     "start_time": "2020-03-27T09:43:22.989825Z"
    }
   },
   "outputs": [
    {
     "data": {
      "text/plain": [
       "Index(['Wafer No.', 'Sample No.', 'Droplet No.', 'P3HT vol (µL)',\n",
       "       'D1 vol (µL)', 'D2 vol (µL)', 'D6 vol (µL)', 'D8 vol (µL)',\n",
       "       'P3HT content (%)', 'D1 content (%)', 'D2 content (%)',\n",
       "       'D6 content (%)', 'D8 content (%)', 'Absorption Ratio',\n",
       "       'Absorbance @525nm (doped)', 'Thickness \\n(Å, measured)',\n",
       "       'Thickness \\nL_Error (Å)', 'Thickness \\nR_Error (Å)',\n",
       "       'Thickness (nm, measured)', 'Thickness \\nSt_Dev, (%)',\n",
       "       'Thickness inferred (legacy)', 'Sheet Resistance (ohm/sq)',\n",
       "       'Conductivity inferred (legacy)', 'Conductivity (measured) (S/cm)',\n",
       "       'BO_Target', 'Run', 'Unnamed: 26', 'Unnamed: 27', 'Unnamed: 28'],\n",
       "      dtype='object')"
      ]
     },
     "execution_count": 6,
     "metadata": {},
     "output_type": "execute_result"
    }
   ],
   "source": [
    "data_org.columns"
   ]
  },
  {
   "cell_type": "markdown",
   "metadata": {},
   "source": [
    "## Add columns"
   ]
  },
  {
   "cell_type": "code",
   "execution_count": 7,
   "metadata": {
    "ExecuteTime": {
     "end_time": "2020-03-27T09:43:23.487931Z",
     "start_time": "2020-03-27T09:43:23.241204Z"
    }
   },
   "outputs": [],
   "source": [
    "idC = ['P3HT vol (µL)','D1 vol (µL)', 'D2 vol (µL)', 'D6 vol (µL)', 'D8 vol (µL)',]\n",
    "idAll = ['C','A','R','T','S','Y']"
   ]
  },
  {
   "cell_type": "code",
   "execution_count": 8,
   "metadata": {
    "ExecuteTime": {
     "end_time": "2020-03-27T09:43:23.701383Z",
     "start_time": "2020-03-27T09:43:23.490687Z"
    },
    "scrolled": true
   },
   "outputs": [],
   "source": [
    "data_org['Absorbance @525nm (log)'] = np.log(data_org['Absorbance @525nm (doped)'])\n",
    "data_org['Absorption Ratio (log)'] = np.log(data_org['Absorption Ratio'])\n",
    "data_org['Sheet Resistance (ohm/sq) (log)'] = np.log(data_org['Sheet Resistance (ohm/sq)'])\n",
    "data_org['Thickness (nm, measured) (log)'] = np.log(data_org['Thickness (nm, measured)'])\n",
    "data_org['Conductivity'] = 10000000/(data_org['Sheet Resistance (ohm/sq)'] * data_org['Thickness (nm, measured)'])\n",
    "data_org['Conductivity (log)'] = np.log(data_org['Conductivity'])"
   ]
  },
  {
   "cell_type": "code",
   "execution_count": 9,
   "metadata": {
    "ExecuteTime": {
     "end_time": "2020-03-27T09:43:23.956053Z",
     "start_time": "2020-03-27T09:43:23.703115Z"
    }
   },
   "outputs": [],
   "source": [
    "data_org['A'] = data_org['Absorbance @525nm (log)']\n",
    "data_org['R'] = data_org['Absorption Ratio (log)']\n",
    "data_org['T'] = data_org['Thickness (nm, measured) (log)']\n",
    "# data_org['T_org'] = data_org['Thickness (nm, measured) (log)']\n",
    "# data_org['T_ratio'] = np.log(data_org['Thickness (nm, measured)']/data_org['Absorbance @525nm (doped)'])\n",
    "data_org['S'] = data_org['Sheet Resistance (ohm/sq) (log)']\n",
    "data_org['Y'] = data_org['Conductivity (log)']"
   ]
  },
  {
   "cell_type": "code",
   "execution_count": 10,
   "metadata": {
    "ExecuteTime": {
     "end_time": "2020-03-27T09:43:24.157348Z",
     "start_time": "2020-03-27T09:43:23.957291Z"
    }
   },
   "outputs": [],
   "source": [
    "# idy = ['Absorbance @525nm (log)']; shortname = 'logAbs'\n",
    "# idy = ['Absorption Ratio (log)']; shortname = 'logAR'\n",
    "# idy = ['Sheet Resistance (ohm/sq) (log)']; shortname = 'logSheetRes'\n",
    "# idy = ['Thickness (nm, measured) (log)']; shortname = 'logThickness'"
   ]
  },
  {
   "cell_type": "code",
   "execution_count": 11,
   "metadata": {
    "ExecuteTime": {
     "end_time": "2020-03-27T09:43:24.419076Z",
     "start_time": "2020-03-27T09:43:24.158811Z"
    }
   },
   "outputs": [],
   "source": [
    "# idx = ['Absorbance @525nm (doped)']\n",
    "# idz = ['P3HT content (%)','D1 content (%)', 'D2 content (%)','D6 content (%)', 'D8 content (%)']\n",
    "# idy = 'Thickness (nm, measured)'\n",
    "# idym = 'log_ratio'"
   ]
  },
  {
   "cell_type": "code",
   "execution_count": 12,
   "metadata": {
    "ExecuteTime": {
     "end_time": "2020-03-27T09:43:25.169481Z",
     "start_time": "2020-03-27T09:43:24.420542Z"
    }
   },
   "outputs": [
    {
     "name": "stderr",
     "output_type": "stream",
     "text": [
      "/home/yqcai/anaconda3/envs/tf_gpu/lib/python3.6/site-packages/numpy/lib/histograms.py:839: RuntimeWarning: invalid value encountered in greater_equal\n",
      "  keep = (tmp_a >= first_edge)\n",
      "/home/yqcai/anaconda3/envs/tf_gpu/lib/python3.6/site-packages/numpy/lib/histograms.py:840: RuntimeWarning: invalid value encountered in less_equal\n",
      "  keep &= (tmp_a <= last_edge)\n"
     ]
    },
    {
     "data": {
      "text/plain": [
       "Text(0.5, 0, 'log(conductivity)')"
      ]
     },
     "execution_count": 12,
     "metadata": {},
     "output_type": "execute_result"
    },
    {
     "data": {
      "image/png": "[encoded data removed]",
      "text/plain": [
       "<Figure size 432x288 with 1 Axes>"
      ]
     },
     "metadata": {
      "needs_background": "light"
     },
     "output_type": "display_data"
    }
   ],
   "source": [
    "# plt.hist(data_org['Y'],range=[0.5,7.5],bins=7)\n",
    "plt.hist(data_org['Y'],bins=12);\n",
    "plt.xlabel('log(conductivity)')"
   ]
  },
  {
   "cell_type": "code",
   "execution_count": 13,
   "metadata": {
    "ExecuteTime": {
     "end_time": "2020-03-27T09:43:25.184664Z",
     "start_time": "2020-03-27T09:43:25.172701Z"
    }
   },
   "outputs": [],
   "source": [
    "def y_class(y):\n",
    "    if y<2.5:\n",
    "        return 0\n",
    "    elif y<4:\n",
    "        return 1\n",
    "    elif y<5:\n",
    "        return 2\n",
    "    elif y<6:\n",
    "        return 3\n",
    "    elif y<7:\n",
    "        return 4\n",
    "    else:\n",
    "        return -1"
   ]
  },
  {
   "cell_type": "code",
   "execution_count": 14,
   "metadata": {
    "ExecuteTime": {
     "end_time": "2020-03-27T09:43:25.381700Z",
     "start_time": "2020-03-27T09:43:25.187667Z"
    }
   },
   "outputs": [],
   "source": [
    "data_org['class'] = data_org['Y'].apply(y_class)"
   ]
  },
  {
   "cell_type": "code",
   "execution_count": 15,
   "metadata": {
    "ExecuteTime": {
     "end_time": "2020-03-27T09:43:25.543026Z",
     "start_time": "2020-03-27T09:43:25.382876Z"
    }
   },
   "outputs": [
    {
     "data": {
      "text/plain": [
       "6.807146993504233"
      ]
     },
     "execution_count": 15,
     "metadata": {},
     "output_type": "execute_result"
    }
   ],
   "source": [
    "data_org['Y'].max()"
   ]
  },
  {
   "cell_type": "code",
   "execution_count": 16,
   "metadata": {
    "ExecuteTime": {
     "end_time": "2020-03-27T09:43:25.776688Z",
     "start_time": "2020-03-27T09:43:25.544217Z"
    }
   },
   "outputs": [
    {
     "name": "stdout",
     "output_type": "stream",
     "text": [
      "train -  [973  22  36  26  60  29]   |   test -  [487  12  18  14  31  15]\n",
      "train -  [973  23  36  27  61  29]   |   test -  [487  11  18  13  30  15]\n",
      "train -  [974  23  36  27  61  30]   |   test -  [486  11  18  13  30  14]\n"
     ]
    }
   ],
   "source": [
    "from sklearn.model_selection import StratifiedKFold, KFold\n",
    "skf = StratifiedKFold(n_splits=3)\n",
    "X = data_org[idC];y = data_org['class']\n",
    "for train, test in skf.split(X, y):\n",
    "    print('train -  {}   |   test -  {}'.format(\n",
    "        np.bincount(y[train]+1), np.bincount(y[test]+1)))"
   ]
  },
  {
   "cell_type": "code",
   "execution_count": 17,
   "metadata": {
    "ExecuteTime": {
     "end_time": "2020-03-27T09:43:25.989102Z",
     "start_time": "2020-03-27T09:43:25.780961Z"
    }
   },
   "outputs": [],
   "source": [
    "from sklearn.model_selection import GridSearchCV\n",
    "from sklearn.model_selection import RandomizedSearchCV\n",
    "from sklearn import ensemble\n",
    "params = {'learning_rate': 0.01, 'loss': 'ls'}\n",
    "param_dist = {\"n_estimators\":range(50,500,10),\n",
    "                  \"max_depth\": [2,3, 4, 5,6,None],\n",
    "                  'min_samples_split': [2,3,4,5]}\n",
    "\n",
    "grad_boost = ensemble.GradientBoostingRegressor(**params)\n",
    "random_search = RandomizedSearchCV(grad_boost, param_distributions=param_dist,\n",
    "                                       n_iter=10, cv=4, iid=False)\n",
    "# random_search.fit(X, y)"
   ]
  },
  {
   "cell_type": "code",
   "execution_count": null,
   "metadata": {
    "ExecuteTime": {
     "start_time": "2020-03-27T09:43:05.342Z"
    }
   },
   "outputs": [],
   "source": [
    "random_search.fit(X, y,groups=data_org['class'])"
   ]
  },
  {
   "cell_type": "code",
   "execution_count": null,
   "metadata": {},
   "outputs": [],
   "source": []
  },
  {
   "cell_type": "code",
   "execution_count": null,
   "metadata": {},
   "outputs": [],
   "source": []
  },
  {
   "cell_type": "code",
   "execution_count": null,
   "metadata": {
    "ExecuteTime": {
     "start_time": "2020-03-27T09:43:05.349Z"
    }
   },
   "outputs": [],
   "source": [
    "data_org"
   ]
  },
  {
   "cell_type": "markdown",
   "metadata": {},
   "source": [
    "## add probabilities"
   ]
  },
  {
   "cell_type": "code",
   "execution_count": null,
   "metadata": {
    "ExecuteTime": {
     "start_time": "2020-03-27T09:43:05.478Z"
    }
   },
   "outputs": [],
   "source": [
    "data_all = data_org.dropna(axis=0,how='all',subset=idAll[1:]) # clear some rows"
   ]
  },
  {
   "cell_type": "code",
   "execution_count": null,
   "metadata": {
    "ExecuteTime": {
     "start_time": "2020-03-27T09:43:05.480Z"
    }
   },
   "outputs": [],
   "source": [
    "df = data_all\n",
    "df['ID'] = df['Run']*100 + df['Wafer No.']*10 + df['Sample No.']\n",
    "df['p-droplet'] = df[idAll[1:]].apply(lambda r:10**np.sum(r==r),axis=1)\n",
    "df['p-droplet'] = df['p-droplet']/df.groupby('ID')['p-droplet'].transform('sum')\n",
    "# df['count'] = df.groupby('ID')['ID'].transform('count')"
   ]
  },
  {
   "cell_type": "code",
   "execution_count": null,
   "metadata": {
    "ExecuteTime": {
     "start_time": "2020-03-27T09:43:05.482Z"
    }
   },
   "outputs": [],
   "source": [
    "def random_chosen(df):\n",
    "    # random choen samples -- one for each group\n",
    "    # e.g.: data,data_allvalid,data_supp = random_chosen(data_org)\n",
    "    fn = lambda obj: obj.loc[np.random.choice(obj.index, 1, True,p=obj['p-droplet']),:]\n",
    "    data = df.groupby('ID', as_index=False).apply(fn)\n",
    "\n",
    "    data_allvalid = data.dropna(axis=0,how='any',subset=idAll[1:])\n",
    "    data_supp = data.drop(index=data_allvalid.index)\n",
    "    \n",
    "    return data,data_allvalid,data_supp\n",
    "\n",
    "d0 = 1.0\n",
    "def invp_dist(x):\n",
    "#     d0 = 3.0\n",
    "#     d0 = 2.0\n",
    "#     d0 = 1.0\n",
    "    return np.exp(-x**2 / (2*d0**2))\n",
    "\n",
    "# def invp_dist(x,sigma):\n",
    "# #     d0 = 3.0\n",
    "# #     d0 = 2.0\n",
    "# #     d0 = 1.0\n",
    "#     return np.exp(-x**2 / (2*sigma**2))\n",
    "\n",
    "# data,data_allvalid,data_supp = random_chosen(data_org)\n",
    "data,data_allvalid,data_supp = random_chosen(data_all)\n",
    "len(data_allvalid),len(data_supp),len(data)"
   ]
  },
  {
   "cell_type": "code",
   "execution_count": null,
   "metadata": {
    "ExecuteTime": {
     "start_time": "2020-03-27T09:43:05.484Z"
    }
   },
   "outputs": [],
   "source": [
    "dist = euclidean_distances(data[idC],data[idC])\n",
    "invp = np.sum(invp_dist(dist),axis=0)\n",
    "p = 1/invp\n",
    "data['p-content'] = p\n",
    "data_all = pd.merge(data_all,data[['ID','p-content']],on='ID')\n",
    "data_all['d0'] = d0"
   ]
  },
  {
   "cell_type": "code",
   "execution_count": null,
   "metadata": {
    "ExecuteTime": {
     "start_time": "2020-03-27T09:43:05.486Z"
    }
   },
   "outputs": [],
   "source": [
    "plt.hist(data['class'],bins=12);"
   ]
  },
  {
   "cell_type": "code",
   "execution_count": null,
   "metadata": {
    "ExecuteTime": {
     "start_time": "2020-03-27T09:43:05.490Z"
    }
   },
   "outputs": [],
   "source": [
    "data_all"
   ]
  },
  {
   "cell_type": "markdown",
   "metadata": {},
   "source": [
    "### see"
   ]
  },
  {
   "cell_type": "code",
   "execution_count": null,
   "metadata": {
    "ExecuteTime": {
     "start_time": "2020-03-27T09:43:05.621Z"
    }
   },
   "outputs": [],
   "source": [
    "sum(p)"
   ]
  },
  {
   "cell_type": "code",
   "execution_count": null,
   "metadata": {
    "ExecuteTime": {
     "start_time": "2020-03-27T09:43:05.624Z"
    }
   },
   "outputs": [],
   "source": [
    "plt.plot(p,'.')"
   ]
  },
  {
   "cell_type": "code",
   "execution_count": null,
   "metadata": {
    "ExecuteTime": {
     "start_time": "2020-03-27T09:43:05.627Z"
    }
   },
   "outputs": [],
   "source": [
    "plt.plot(invp,'.')"
   ]
  },
  {
   "cell_type": "code",
   "execution_count": null,
   "metadata": {
    "ExecuteTime": {
     "start_time": "2020-03-27T09:43:05.630Z"
    }
   },
   "outputs": [],
   "source": [
    "np.argmax(invp)"
   ]
  },
  {
   "cell_type": "code",
   "execution_count": null,
   "metadata": {
    "ExecuteTime": {
     "start_time": "2020-03-27T09:43:05.632Z"
    },
    "scrolled": true
   },
   "outputs": [],
   "source": [
    "data[idC].iloc[np.argmax(invp):np.argmax(invp)+1]"
   ]
  },
  {
   "cell_type": "code",
   "execution_count": null,
   "metadata": {
    "ExecuteTime": {
     "start_time": "2020-03-27T09:43:05.636Z"
    }
   },
   "outputs": [],
   "source": [
    "dist.partition(1)"
   ]
  },
  {
   "cell_type": "code",
   "execution_count": null,
   "metadata": {
    "ExecuteTime": {
     "start_time": "2020-03-27T09:43:05.638Z"
    }
   },
   "outputs": [],
   "source": [
    "data['dist'] = dist[:,1]"
   ]
  },
  {
   "cell_type": "code",
   "execution_count": null,
   "metadata": {
    "ExecuteTime": {
     "start_time": "2020-03-27T09:43:05.641Z"
    },
    "scrolled": true
   },
   "outputs": [],
   "source": [
    "plt.plot(data['dist'].values,'.')"
   ]
  },
  {
   "cell_type": "code",
   "execution_count": null,
   "metadata": {
    "ExecuteTime": {
     "start_time": "2020-03-27T09:43:05.643Z"
    },
    "scrolled": true
   },
   "outputs": [],
   "source": [
    "data['dist'].describe()"
   ]
  },
  {
   "cell_type": "code",
   "execution_count": null,
   "metadata": {
    "ExecuteTime": {
     "start_time": "2020-03-27T09:43:05.646Z"
    }
   },
   "outputs": [],
   "source": [
    "len(data)"
   ]
  },
  {
   "cell_type": "code",
   "execution_count": null,
   "metadata": {
    "ExecuteTime": {
     "start_time": "2020-03-27T09:43:05.648Z"
    },
    "scrolled": true
   },
   "outputs": [],
   "source": [
    "plt.figure(figsize=[12,1])\n",
    "plt.boxplot(data['dist'],vert=False);\n",
    "# plt.xlabel('Distance to the closest content');"
   ]
  },
  {
   "cell_type": "markdown",
   "metadata": {},
   "source": [
    "## save"
   ]
  },
  {
   "cell_type": "code",
   "execution_count": null,
   "metadata": {
    "ExecuteTime": {
     "start_time": "2020-03-27T09:43:05.829Z"
    }
   },
   "outputs": [],
   "source": [
    "# data_all.to_excel('tmp_data_all.xlsx')\n",
    "data_all.to_excel('data_all.xlsx')\n",
    "len(data_all)"
   ]
  },
  {
   "cell_type": "code",
   "execution_count": null,
   "metadata": {
    "ExecuteTime": {
     "start_time": "2020-03-27T09:43:05.831Z"
    }
   },
   "outputs": [],
   "source": [
    "data = data_all.dropna(axis=0,how='any',subset=idC+['Y']) # 263 rows\n",
    "# data.to_excel('tmp_data_allvalid.xlsx')\n",
    "len(data)"
   ]
  },
  {
   "cell_type": "code",
   "execution_count": null,
   "metadata": {
    "ExecuteTime": {
     "start_time": "2020-03-27T09:43:05.834Z"
    }
   },
   "outputs": [],
   "source": [
    "data = data_org.dropna(axis=0,how='any',subset=idC+idAll[1:]) # 224 rows\n",
    "# data.to_excel('tmp_data_allvalid.xlsx')\n",
    "# data.to_excel('data_allvalid.xlsx')\n",
    "len(data)"
   ]
  },
  {
   "cell_type": "markdown",
   "metadata": {},
   "source": [
    "## tools - demo"
   ]
  },
  {
   "cell_type": "code",
   "execution_count": null,
   "metadata": {
    "ExecuteTime": {
     "start_time": "2020-03-27T09:43:05.977Z"
    }
   },
   "outputs": [],
   "source": [
    "data_all"
   ]
  },
  {
   "cell_type": "code",
   "execution_count": null,
   "metadata": {
    "ExecuteTime": {
     "start_time": "2020-03-27T09:43:05.979Z"
    }
   },
   "outputs": [],
   "source": [
    "from CNT_Dataset import *"
   ]
  },
  {
   "cell_type": "code",
   "execution_count": null,
   "metadata": {
    "ExecuteTime": {
     "start_time": "2020-03-27T09:43:05.983Z"
    }
   },
   "outputs": [],
   "source": [
    "data = random_resample(data_all,valid_split=False)"
   ]
  },
  {
   "cell_type": "code",
   "execution_count": null,
   "metadata": {
    "ExecuteTime": {
     "start_time": "2020-03-27T09:43:05.986Z"
    }
   },
   "outputs": [],
   "source": [
    "data"
   ]
  },
  {
   "cell_type": "code",
   "execution_count": null,
   "metadata": {
    "ExecuteTime": {
     "start_time": "2020-03-27T09:43:05.988Z"
    }
   },
   "outputs": [],
   "source": [
    "data.to_excel('sampling_data.xlsx')"
   ]
  },
  {
   "cell_type": "code",
   "execution_count": null,
   "metadata": {},
   "outputs": [],
   "source": []
  }
 ],
 "metadata": {
  "hide_input": false,
  "kernelspec": {
   "display_name": "Python 3",
   "language": "python",
   "name": "python3"
  },
  "language_info": {
   "codemirror_mode": {
    "name": "ipython",
    "version": 3
   },
   "file_extension": ".py",
   "mimetype": "text/x-python",
   "name": "python",
   "nbconvert_exporter": "python",
   "pygments_lexer": "ipython3",
   "version": "3.6.9"
  },
  "latex_envs": {
   "LaTeX_envs_menu_present": true,
   "autoclose": false,
   "autocomplete": true,
   "bibliofile": "biblio.bib",
   "cite_by": "apalike",
   "current_citInitial": 1,
   "eqLabelWithNumbers": true,
   "eqNumInitial": 1,
   "hotkeys": {
    "equation": "Ctrl-E",
    "itemize": "Ctrl-I"
   },
   "labels_anchors": false,
   "latex_user_defs": false,
   "report_style_numbering": false,
   "user_envs_cfg": false
  },
  "toc": {
   "base_numbering": 1,
   "nav_menu": {},
   "number_sections": true,
   "sideBar": true,
   "skip_h1_title": false,
   "title_cell": "Table of Contents",
   "title_sidebar": "Contents",
   "toc_cell": true,
   "toc_position": {
    "height": "calc(100% - 180px)",
    "left": "10px",
    "top": "150px",
    "width": "320px"
   },
   "toc_section_display": true,
   "toc_window_display": true
  },
  "varInspector": {
   "cols": {
    "lenName": 16,
    "lenType": 16,
    "lenVar": 40
   },
   "kernels_config": {
    "python": {
     "delete_cmd_postfix": "",
     "delete_cmd_prefix": "del ",
     "library": "var_list.py",
     "varRefreshCmd": "print(var_dic_list())"
    },
    "r": {
     "delete_cmd_postfix": ") ",
     "delete_cmd_prefix": "rm(",
     "library": "var_list.r",
     "varRefreshCmd": "cat(var_dic_list()) "
    }
   },
   "types_to_exclude": [
    "module",
    "function",
    "builtin_function_or_method",
    "instance",
    "_Feature"
   ],
   "window_display": false
  }
 },
 "nbformat": 4,
 "nbformat_minor": 2
}
