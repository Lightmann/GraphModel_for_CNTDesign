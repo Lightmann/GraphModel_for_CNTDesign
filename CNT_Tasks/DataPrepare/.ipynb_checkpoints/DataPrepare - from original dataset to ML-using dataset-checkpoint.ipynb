{
 "cells": [
  {
   "cell_type": "markdown",
   "metadata": {
    "toc": true
   },
   "source": [
    "<h1>Table of Contents<span class=\"tocSkip\"></span></h1>\n",
    "<div class=\"toc\"><ul class=\"toc-item\"><li><span><a href=\"#Load-original-data\" data-toc-modified-id=\"Load-original-data-1\"><span class=\"toc-item-num\">1&nbsp;&nbsp;</span>Load original data</a></span></li><li><span><a href=\"#Add-columns\" data-toc-modified-id=\"Add-columns-2\"><span class=\"toc-item-num\">2&nbsp;&nbsp;</span>Add columns</a></span><ul class=\"toc-item\"><li><span><a href=\"#A-simple-try\" data-toc-modified-id=\"A-simple-try-2.1\"><span class=\"toc-item-num\">2.1&nbsp;&nbsp;</span>A simple try</a></span></li></ul></li><li><span><a href=\"#Add-probabilities\" data-toc-modified-id=\"Add-probabilities-3\"><span class=\"toc-item-num\">3&nbsp;&nbsp;</span>Add probabilities</a></span><ul class=\"toc-item\"><li><span><a href=\"#Plot\" data-toc-modified-id=\"Plot-3.1\"><span class=\"toc-item-num\">3.1&nbsp;&nbsp;</span>Plot</a></span></li></ul></li><li><span><a href=\"#Save-data\" data-toc-modified-id=\"Save-data-4\"><span class=\"toc-item-num\">4&nbsp;&nbsp;</span>Save data</a></span></li><li><span><a href=\"#Change-back----no-log()-on-A\" data-toc-modified-id=\"Change-back----no-log()-on-A-5\"><span class=\"toc-item-num\">5&nbsp;&nbsp;</span>Change back -- no log() on A</a></span></li></ul></div>"
   ]
  },
  {
   "cell_type": "code",
   "execution_count": 1,
   "metadata": {
    "ExecuteTime": {
     "end_time": "2020-06-07T08:25:03.136226Z",
     "start_time": "2020-06-07T08:25:02.479982Z"
    }
   },
   "outputs": [],
   "source": [
    "import pandas as pd\n",
    "import matplotlib.pyplot as plt\n",
    "import numpy as np"
   ]
  },
  {
   "cell_type": "code",
   "execution_count": 2,
   "metadata": {
    "ExecuteTime": {
     "end_time": "2020-06-07T08:25:03.657550Z",
     "start_time": "2020-06-07T08:25:03.138281Z"
    }
   },
   "outputs": [],
   "source": [
    "from sklearn.metrics.pairwise import euclidean_distances\n",
    "from scipy.spatial.distance import pdist, squareform"
   ]
  },
  {
   "cell_type": "markdown",
   "metadata": {},
   "source": [
    "## Load original data"
   ]
  },
  {
   "cell_type": "code",
   "execution_count": 3,
   "metadata": {
    "ExecuteTime": {
     "end_time": "2020-06-07T08:25:10.383018Z",
     "start_time": "2020-06-07T08:25:03.659801Z"
    }
   },
   "outputs": [],
   "source": [
    "data_orgs = []\n",
    "for i in range(1,13):\n",
    "    data_orgs.append(pd.read_excel('Run1_13_20200304-modified.xlsx', sheet_name='Run %d'%i))        "
   ]
  },
  {
   "cell_type": "code",
   "execution_count": 4,
   "metadata": {
    "ExecuteTime": {
     "end_time": "2020-06-07T08:25:10.409847Z",
     "start_time": "2020-06-07T08:25:10.385300Z"
    }
   },
   "outputs": [],
   "source": [
    "data_org = pd.concat(data_orgs,ignore_index=True,sort=False).dropna(axis=0,how='all',)"
   ]
  },
  {
   "cell_type": "code",
   "execution_count": 5,
   "metadata": {
    "ExecuteTime": {
     "end_time": "2020-06-07T08:25:10.945946Z",
     "start_time": "2020-06-07T08:25:10.411609Z"
    }
   },
   "outputs": [
    {
     "data": {
      "text/html": [
       "<div>\n",
       "<style scoped>\n",
       "    .dataframe tbody tr th:only-of-type {\n",
       "        vertical-align: middle;\n",
       "    }\n",
       "\n",
       "    .dataframe tbody tr th {\n",
       "        vertical-align: top;\n",
       "    }\n",
       "\n",
       "    .dataframe thead th {\n",
       "        text-align: right;\n",
       "    }\n",
       "</style>\n",
       "<table border=\"1\" class=\"dataframe\">\n",
       "  <thead>\n",
       "    <tr style=\"text-align: right;\">\n",
       "      <th></th>\n",
       "      <th>Wafer No.</th>\n",
       "      <th>Sample No.</th>\n",
       "      <th>Droplet No.</th>\n",
       "      <th>P3HT vol (µL)</th>\n",
       "      <th>D1 vol (µL)</th>\n",
       "      <th>D2 vol (µL)</th>\n",
       "      <th>D6 vol (µL)</th>\n",
       "      <th>D8 vol (µL)</th>\n",
       "      <th>P3HT content (%)</th>\n",
       "      <th>D1 content (%)</th>\n",
       "      <th>...</th>\n",
       "      <th>Thickness \\nSt_Dev, (%)</th>\n",
       "      <th>Thickness inferred (legacy)</th>\n",
       "      <th>Sheet Resistance (ohm/sq)</th>\n",
       "      <th>Conductivity inferred (legacy)</th>\n",
       "      <th>Conductivity (measured) (S/cm)</th>\n",
       "      <th>BO_Target</th>\n",
       "      <th>Run</th>\n",
       "      <th>Unnamed: 26</th>\n",
       "      <th>Unnamed: 27</th>\n",
       "      <th>Unnamed: 28</th>\n",
       "    </tr>\n",
       "  </thead>\n",
       "  <tbody>\n",
       "    <tr>\n",
       "      <th>0</th>\n",
       "      <td>1</td>\n",
       "      <td>1</td>\n",
       "      <td>a</td>\n",
       "      <td>83.334</td>\n",
       "      <td>16.666</td>\n",
       "      <td>0.000</td>\n",
       "      <td>0.000</td>\n",
       "      <td>0.000</td>\n",
       "      <td>90.00000</td>\n",
       "      <td>10.0000</td>\n",
       "      <td>...</td>\n",
       "      <td>NaN</td>\n",
       "      <td>120.306361</td>\n",
       "      <td>227.790433</td>\n",
       "      <td>364.901735</td>\n",
       "      <td>NaN</td>\n",
       "      <td>Original</td>\n",
       "      <td>1</td>\n",
       "      <td>NaN</td>\n",
       "      <td>NaN</td>\n",
       "      <td>NaN</td>\n",
       "    </tr>\n",
       "    <tr>\n",
       "      <th>1</th>\n",
       "      <td>1</td>\n",
       "      <td>1</td>\n",
       "      <td>b</td>\n",
       "      <td>83.334</td>\n",
       "      <td>16.666</td>\n",
       "      <td>0.000</td>\n",
       "      <td>0.000</td>\n",
       "      <td>0.000</td>\n",
       "      <td>90.00000</td>\n",
       "      <td>10.0000</td>\n",
       "      <td>...</td>\n",
       "      <td>NaN</td>\n",
       "      <td>109.677186</td>\n",
       "      <td>154.559505</td>\n",
       "      <td>589.913018</td>\n",
       "      <td>NaN</td>\n",
       "      <td>Original</td>\n",
       "      <td>1</td>\n",
       "      <td>NaN</td>\n",
       "      <td>NaN</td>\n",
       "      <td>NaN</td>\n",
       "    </tr>\n",
       "    <tr>\n",
       "      <th>2</th>\n",
       "      <td>1</td>\n",
       "      <td>1</td>\n",
       "      <td>c</td>\n",
       "      <td>83.334</td>\n",
       "      <td>16.666</td>\n",
       "      <td>0.000</td>\n",
       "      <td>0.000</td>\n",
       "      <td>0.000</td>\n",
       "      <td>90.00000</td>\n",
       "      <td>10.0000</td>\n",
       "      <td>...</td>\n",
       "      <td>NaN</td>\n",
       "      <td>102.257569</td>\n",
       "      <td>263.852243</td>\n",
       "      <td>370.632712</td>\n",
       "      <td>NaN</td>\n",
       "      <td>Original</td>\n",
       "      <td>1</td>\n",
       "      <td>NaN</td>\n",
       "      <td>NaN</td>\n",
       "      <td>NaN</td>\n",
       "    </tr>\n",
       "    <tr>\n",
       "      <th>3</th>\n",
       "      <td>1</td>\n",
       "      <td>1</td>\n",
       "      <td>d</td>\n",
       "      <td>83.334</td>\n",
       "      <td>16.666</td>\n",
       "      <td>0.000</td>\n",
       "      <td>0.000</td>\n",
       "      <td>0.000</td>\n",
       "      <td>90.00000</td>\n",
       "      <td>10.0000</td>\n",
       "      <td>...</td>\n",
       "      <td>3.045408</td>\n",
       "      <td>106.733643</td>\n",
       "      <td>232.018561</td>\n",
       "      <td>403.808946</td>\n",
       "      <td>218.670726</td>\n",
       "      <td>Original</td>\n",
       "      <td>1</td>\n",
       "      <td>NaN</td>\n",
       "      <td>NaN</td>\n",
       "      <td>NaN</td>\n",
       "    </tr>\n",
       "    <tr>\n",
       "      <th>4</th>\n",
       "      <td>1</td>\n",
       "      <td>1</td>\n",
       "      <td>e</td>\n",
       "      <td>83.334</td>\n",
       "      <td>16.666</td>\n",
       "      <td>0.000</td>\n",
       "      <td>0.000</td>\n",
       "      <td>0.000</td>\n",
       "      <td>90.00000</td>\n",
       "      <td>10.0000</td>\n",
       "      <td>...</td>\n",
       "      <td>7.793672</td>\n",
       "      <td>NaN</td>\n",
       "      <td>200.000000</td>\n",
       "      <td>NaN</td>\n",
       "      <td>179.533214</td>\n",
       "      <td>Original</td>\n",
       "      <td>1</td>\n",
       "      <td>NaN</td>\n",
       "      <td>NaN</td>\n",
       "      <td>NaN</td>\n",
       "    </tr>\n",
       "    <tr>\n",
       "      <th>...</th>\n",
       "      <td>...</td>\n",
       "      <td>...</td>\n",
       "      <td>...</td>\n",
       "      <td>...</td>\n",
       "      <td>...</td>\n",
       "      <td>...</td>\n",
       "      <td>...</td>\n",
       "      <td>...</td>\n",
       "      <td>...</td>\n",
       "      <td>...</td>\n",
       "      <td>...</td>\n",
       "      <td>...</td>\n",
       "      <td>...</td>\n",
       "      <td>...</td>\n",
       "      <td>...</td>\n",
       "      <td>...</td>\n",
       "      <td>...</td>\n",
       "      <td>...</td>\n",
       "      <td>...</td>\n",
       "      <td>...</td>\n",
       "      <td>...</td>\n",
       "    </tr>\n",
       "    <tr>\n",
       "      <th>1718</th>\n",
       "      <td>5</td>\n",
       "      <td>4</td>\n",
       "      <td>b</td>\n",
       "      <td>99.988</td>\n",
       "      <td>0.003</td>\n",
       "      <td>0.003</td>\n",
       "      <td>0.003</td>\n",
       "      <td>0.003</td>\n",
       "      <td>99.99085</td>\n",
       "      <td>0.0018</td>\n",
       "      <td>...</td>\n",
       "      <td>NaN</td>\n",
       "      <td>NaN</td>\n",
       "      <td>1087.000000</td>\n",
       "      <td>NaN</td>\n",
       "      <td>NaN</td>\n",
       "      <td>Combined</td>\n",
       "      <td>12</td>\n",
       "      <td>NaN</td>\n",
       "      <td>NaN</td>\n",
       "      <td>NaN</td>\n",
       "    </tr>\n",
       "    <tr>\n",
       "      <th>1719</th>\n",
       "      <td>5</td>\n",
       "      <td>4</td>\n",
       "      <td>c</td>\n",
       "      <td>99.988</td>\n",
       "      <td>0.003</td>\n",
       "      <td>0.003</td>\n",
       "      <td>0.003</td>\n",
       "      <td>0.003</td>\n",
       "      <td>99.99085</td>\n",
       "      <td>0.0018</td>\n",
       "      <td>...</td>\n",
       "      <td>NaN</td>\n",
       "      <td>NaN</td>\n",
       "      <td>181.133110</td>\n",
       "      <td>NaN</td>\n",
       "      <td>NaN</td>\n",
       "      <td>Combined</td>\n",
       "      <td>12</td>\n",
       "      <td>NaN</td>\n",
       "      <td>NaN</td>\n",
       "      <td>NaN</td>\n",
       "    </tr>\n",
       "    <tr>\n",
       "      <th>1720</th>\n",
       "      <td>5</td>\n",
       "      <td>4</td>\n",
       "      <td>d</td>\n",
       "      <td>99.988</td>\n",
       "      <td>0.003</td>\n",
       "      <td>0.003</td>\n",
       "      <td>0.003</td>\n",
       "      <td>0.003</td>\n",
       "      <td>99.99085</td>\n",
       "      <td>0.0018</td>\n",
       "      <td>...</td>\n",
       "      <td>NaN</td>\n",
       "      <td>NaN</td>\n",
       "      <td>2361.637750</td>\n",
       "      <td>NaN</td>\n",
       "      <td>NaN</td>\n",
       "      <td>Combined</td>\n",
       "      <td>12</td>\n",
       "      <td>NaN</td>\n",
       "      <td>NaN</td>\n",
       "      <td>NaN</td>\n",
       "    </tr>\n",
       "    <tr>\n",
       "      <th>1721</th>\n",
       "      <td>5</td>\n",
       "      <td>4</td>\n",
       "      <td>e</td>\n",
       "      <td>99.988</td>\n",
       "      <td>0.003</td>\n",
       "      <td>0.003</td>\n",
       "      <td>0.003</td>\n",
       "      <td>0.003</td>\n",
       "      <td>99.99085</td>\n",
       "      <td>0.0018</td>\n",
       "      <td>...</td>\n",
       "      <td>NaN</td>\n",
       "      <td>NaN</td>\n",
       "      <td>1662.668570</td>\n",
       "      <td>NaN</td>\n",
       "      <td>NaN</td>\n",
       "      <td>Combined</td>\n",
       "      <td>12</td>\n",
       "      <td>NaN</td>\n",
       "      <td>NaN</td>\n",
       "      <td>NaN</td>\n",
       "    </tr>\n",
       "    <tr>\n",
       "      <th>1722</th>\n",
       "      <td>5</td>\n",
       "      <td>4</td>\n",
       "      <td>f</td>\n",
       "      <td>99.988</td>\n",
       "      <td>0.003</td>\n",
       "      <td>0.003</td>\n",
       "      <td>0.003</td>\n",
       "      <td>0.003</td>\n",
       "      <td>99.99085</td>\n",
       "      <td>0.0018</td>\n",
       "      <td>...</td>\n",
       "      <td>NaN</td>\n",
       "      <td>NaN</td>\n",
       "      <td>1225.753700</td>\n",
       "      <td>NaN</td>\n",
       "      <td>NaN</td>\n",
       "      <td>Combined</td>\n",
       "      <td>12</td>\n",
       "      <td>NaN</td>\n",
       "      <td>NaN</td>\n",
       "      <td>NaN</td>\n",
       "    </tr>\n",
       "  </tbody>\n",
       "</table>\n",
       "<p>1723 rows × 29 columns</p>\n",
       "</div>"
      ],
      "text/plain": [
       "      Wafer No.  Sample No. Droplet No.  P3HT vol (µL)  D1 vol (µL)  \\\n",
       "0             1           1           a         83.334       16.666   \n",
       "1             1           1           b         83.334       16.666   \n",
       "2             1           1           c         83.334       16.666   \n",
       "3             1           1           d         83.334       16.666   \n",
       "4             1           1           e         83.334       16.666   \n",
       "...         ...         ...         ...            ...          ...   \n",
       "1718          5           4           b         99.988        0.003   \n",
       "1719          5           4           c         99.988        0.003   \n",
       "1720          5           4           d         99.988        0.003   \n",
       "1721          5           4           e         99.988        0.003   \n",
       "1722          5           4           f         99.988        0.003   \n",
       "\n",
       "      D2 vol (µL)  D6 vol (µL)  D8 vol (µL)  P3HT content (%)  D1 content (%)  \\\n",
       "0           0.000        0.000        0.000          90.00000         10.0000   \n",
       "1           0.000        0.000        0.000          90.00000         10.0000   \n",
       "2           0.000        0.000        0.000          90.00000         10.0000   \n",
       "3           0.000        0.000        0.000          90.00000         10.0000   \n",
       "4           0.000        0.000        0.000          90.00000         10.0000   \n",
       "...           ...          ...          ...               ...             ...   \n",
       "1718        0.003        0.003        0.003          99.99085          0.0018   \n",
       "1719        0.003        0.003        0.003          99.99085          0.0018   \n",
       "1720        0.003        0.003        0.003          99.99085          0.0018   \n",
       "1721        0.003        0.003        0.003          99.99085          0.0018   \n",
       "1722        0.003        0.003        0.003          99.99085          0.0018   \n",
       "\n",
       "      ...  Thickness \\nSt_Dev, (%)  Thickness inferred (legacy)  \\\n",
       "0     ...                      NaN                   120.306361   \n",
       "1     ...                      NaN                   109.677186   \n",
       "2     ...                      NaN                   102.257569   \n",
       "3     ...                 3.045408                   106.733643   \n",
       "4     ...                 7.793672                          NaN   \n",
       "...   ...                      ...                          ...   \n",
       "1718  ...                      NaN                          NaN   \n",
       "1719  ...                      NaN                          NaN   \n",
       "1720  ...                      NaN                          NaN   \n",
       "1721  ...                      NaN                          NaN   \n",
       "1722  ...                      NaN                          NaN   \n",
       "\n",
       "      Sheet Resistance (ohm/sq)  Conductivity inferred (legacy)  \\\n",
       "0                    227.790433                      364.901735   \n",
       "1                    154.559505                      589.913018   \n",
       "2                    263.852243                      370.632712   \n",
       "3                    232.018561                      403.808946   \n",
       "4                    200.000000                             NaN   \n",
       "...                         ...                             ...   \n",
       "1718                1087.000000                             NaN   \n",
       "1719                 181.133110                             NaN   \n",
       "1720                2361.637750                             NaN   \n",
       "1721                1662.668570                             NaN   \n",
       "1722                1225.753700                             NaN   \n",
       "\n",
       "      Conductivity (measured) (S/cm)  BO_Target Run  Unnamed: 26  Unnamed: 27  \\\n",
       "0                                NaN   Original   1          NaN          NaN   \n",
       "1                                NaN   Original   1          NaN          NaN   \n",
       "2                                NaN   Original   1          NaN          NaN   \n",
       "3                         218.670726   Original   1          NaN          NaN   \n",
       "4                         179.533214   Original   1          NaN          NaN   \n",
       "...                              ...        ...  ..          ...          ...   \n",
       "1718                             NaN   Combined  12          NaN          NaN   \n",
       "1719                             NaN   Combined  12          NaN          NaN   \n",
       "1720                             NaN   Combined  12          NaN          NaN   \n",
       "1721                             NaN   Combined  12          NaN          NaN   \n",
       "1722                             NaN   Combined  12          NaN          NaN   \n",
       "\n",
       "      Unnamed: 28  \n",
       "0             NaN  \n",
       "1             NaN  \n",
       "2             NaN  \n",
       "3             NaN  \n",
       "4             NaN  \n",
       "...           ...  \n",
       "1718          NaN  \n",
       "1719          NaN  \n",
       "1720          NaN  \n",
       "1721          NaN  \n",
       "1722          NaN  \n",
       "\n",
       "[1723 rows x 29 columns]"
      ]
     },
     "execution_count": 5,
     "metadata": {},
     "output_type": "execute_result"
    }
   ],
   "source": [
    "data_org"
   ]
  },
  {
   "cell_type": "code",
   "execution_count": 6,
   "metadata": {
    "ExecuteTime": {
     "end_time": "2020-06-07T08:25:11.129741Z",
     "start_time": "2020-06-07T08:25:10.947428Z"
    }
   },
   "outputs": [
    {
     "data": {
      "text/plain": [
       "Index(['Wafer No.', 'Sample No.', 'Droplet No.', 'P3HT vol (µL)',\n",
       "       'D1 vol (µL)', 'D2 vol (µL)', 'D6 vol (µL)', 'D8 vol (µL)',\n",
       "       'P3HT content (%)', 'D1 content (%)', 'D2 content (%)',\n",
       "       'D6 content (%)', 'D8 content (%)', 'Absorption Ratio',\n",
       "       'Absorbance @525nm (doped)', 'Thickness \\n(Å, measured)',\n",
       "       'Thickness \\nL_Error (Å)', 'Thickness \\nR_Error (Å)',\n",
       "       'Thickness (nm, measured)', 'Thickness \\nSt_Dev, (%)',\n",
       "       'Thickness inferred (legacy)', 'Sheet Resistance (ohm/sq)',\n",
       "       'Conductivity inferred (legacy)', 'Conductivity (measured) (S/cm)',\n",
       "       'BO_Target', 'Run', 'Unnamed: 26', 'Unnamed: 27', 'Unnamed: 28'],\n",
       "      dtype='object')"
      ]
     },
     "execution_count": 6,
     "metadata": {},
     "output_type": "execute_result"
    }
   ],
   "source": [
    "data_org.columns"
   ]
  },
  {
   "cell_type": "markdown",
   "metadata": {},
   "source": [
    "## Add columns"
   ]
  },
  {
   "cell_type": "code",
   "execution_count": 7,
   "metadata": {
    "ExecuteTime": {
     "end_time": "2020-06-07T08:25:11.368428Z",
     "start_time": "2020-06-07T08:25:11.131748Z"
    }
   },
   "outputs": [],
   "source": [
    "idC = ['P3HT vol (µL)','D1 vol (µL)', 'D2 vol (µL)', 'D6 vol (µL)', 'D8 vol (µL)',]\n",
    "idAll = ['C','A','R','T','S','Y']"
   ]
  },
  {
   "cell_type": "code",
   "execution_count": 8,
   "metadata": {
    "ExecuteTime": {
     "end_time": "2020-06-07T08:25:11.610080Z",
     "start_time": "2020-06-07T08:25:11.371335Z"
    },
    "scrolled": true
   },
   "outputs": [],
   "source": [
    "data_org['Absorbance @525nm (log)'] = np.log(data_org['Absorbance @525nm (doped)'])\n",
    "data_org['Absorption Ratio (log)'] = np.log(data_org['Absorption Ratio'])\n",
    "data_org['Sheet Resistance (ohm/sq) (log)'] = np.log(data_org['Sheet Resistance (ohm/sq)'])\n",
    "data_org['Thickness (nm, measured) (log)'] = np.log(data_org['Thickness (nm, measured)'])\n",
    "data_org['Conductivity'] = 10000000/(data_org['Sheet Resistance (ohm/sq)'] * data_org['Thickness (nm, measured)'])\n",
    "data_org['Conductivity (log)'] = np.log(data_org['Conductivity'])"
   ]
  },
  {
   "cell_type": "code",
   "execution_count": 9,
   "metadata": {
    "ExecuteTime": {
     "end_time": "2020-06-07T08:25:11.959224Z",
     "start_time": "2020-06-07T08:25:11.612289Z"
    }
   },
   "outputs": [],
   "source": [
    "data_org['A'] = data_org['Absorbance @525nm (log)']\n",
    "data_org['R'] = data_org['Absorption Ratio (log)']\n",
    "data_org['T'] = data_org['Thickness (nm, measured) (log)']\n",
    "# data_org['T_org'] = data_org['Thickness (nm, measured) (log)']\n",
    "# data_org['T_ratio'] = np.log(data_org['Thickness (nm, measured)']/data_org['Absorbance @525nm (doped)'])\n",
    "data_org['S'] = data_org['Sheet Resistance (ohm/sq) (log)']\n",
    "data_org['Y'] = data_org['Conductivity (log)']"
   ]
  },
  {
   "cell_type": "code",
   "execution_count": 10,
   "metadata": {
    "ExecuteTime": {
     "end_time": "2020-06-07T08:25:12.143644Z",
     "start_time": "2020-06-07T08:25:11.961251Z"
    }
   },
   "outputs": [],
   "source": [
    "# idy = ['Absorbance @525nm (log)']; shortname = 'logAbs'\n",
    "# idy = ['Absorption Ratio (log)']; shortname = 'logAR'\n",
    "# idy = ['Sheet Resistance (ohm/sq) (log)']; shortname = 'logSheetRes'\n",
    "# idy = ['Thickness (nm, measured) (log)']; shortname = 'logThickness'"
   ]
  },
  {
   "cell_type": "code",
   "execution_count": 11,
   "metadata": {
    "ExecuteTime": {
     "end_time": "2020-06-07T08:25:12.357709Z",
     "start_time": "2020-06-07T08:25:12.145757Z"
    }
   },
   "outputs": [],
   "source": [
    "# idx = ['Absorbance @525nm (doped)']\n",
    "# idz = ['P3HT content (%)','D1 content (%)', 'D2 content (%)','D6 content (%)', 'D8 content (%)']\n",
    "# idy = 'Thickness (nm, measured)'\n",
    "# idym = 'log_ratio'"
   ]
  },
  {
   "cell_type": "code",
   "execution_count": 12,
   "metadata": {
    "ExecuteTime": {
     "end_time": "2020-06-07T08:25:12.893788Z",
     "start_time": "2020-06-07T08:25:12.359683Z"
    }
   },
   "outputs": [
    {
     "name": "stderr",
     "output_type": "stream",
     "text": [
      "/home/yqcai/.local/lib/python3.6/site-packages/numpy/lib/histograms.py:839: RuntimeWarning: invalid value encountered in greater_equal\n",
      "  keep = (tmp_a >= first_edge)\n",
      "/home/yqcai/.local/lib/python3.6/site-packages/numpy/lib/histograms.py:840: RuntimeWarning: invalid value encountered in less_equal\n",
      "  keep &= (tmp_a <= last_edge)\n"
     ]
    },
    {
     "data": {
      "image/png": "[encoded data removed]",
      "text/plain": [
       "<Figure size 432x288 with 1 Axes>"
      ]
     },
     "metadata": {
      "needs_background": "light"
     },
     "output_type": "display_data"
    }
   ],
   "source": [
    "# plt.hist(data_org['Y'],range=[0.5,7.5],bins=7)\n",
    "plt.hist(data_org['Y'],bins=12);\n",
    "plt.xlabel('log(conductivity)');\n",
    "plt.tight_layout();\n",
    "plt.savefig('hist log conductivity.png')\n",
    "plt.savefig('hist log conductivity.pdf')"
   ]
  },
  {
   "cell_type": "code",
   "execution_count": 13,
   "metadata": {
    "ExecuteTime": {
     "end_time": "2020-06-07T08:25:13.273841Z",
     "start_time": "2020-06-07T08:25:12.895734Z"
    }
   },
   "outputs": [],
   "source": [
    "def y_class(y):\n",
    "    if y<2.5:\n",
    "        return 0\n",
    "    elif y<4:\n",
    "        return 1\n",
    "    elif y<5:\n",
    "        return 2\n",
    "    elif y<6:\n",
    "        return 3\n",
    "    elif y<7:\n",
    "        return 4\n",
    "    else:\n",
    "        return -1"
   ]
  },
  {
   "cell_type": "code",
   "execution_count": 14,
   "metadata": {
    "ExecuteTime": {
     "end_time": "2020-06-07T08:25:13.564766Z",
     "start_time": "2020-06-07T08:25:13.275857Z"
    }
   },
   "outputs": [],
   "source": [
    "data_org['class'] = data_org['Y'].apply(y_class)"
   ]
  },
  {
   "cell_type": "code",
   "execution_count": 15,
   "metadata": {
    "ExecuteTime": {
     "end_time": "2020-06-07T08:25:13.755375Z",
     "start_time": "2020-06-07T08:25:13.566468Z"
    }
   },
   "outputs": [
    {
     "data": {
      "text/plain": [
       "6.807146993504233"
      ]
     },
     "execution_count": 15,
     "metadata": {},
     "output_type": "execute_result"
    }
   ],
   "source": [
    "data_org['Y'].max()"
   ]
  },
  {
   "cell_type": "markdown",
   "metadata": {},
   "source": [
    "### A simple try "
   ]
  },
  {
   "cell_type": "code",
   "execution_count": 16,
   "metadata": {
    "ExecuteTime": {
     "end_time": "2020-06-07T08:25:13.941994Z",
     "start_time": "2020-06-07T08:25:13.757635Z"
    }
   },
   "outputs": [
    {
     "name": "stdout",
     "output_type": "stream",
     "text": [
      "train -  [973  22  36  26  60  29]   |   test -  [487  12  18  14  31  15]\n",
      "train -  [973  23  36  27  61  29]   |   test -  [487  11  18  13  30  15]\n",
      "train -  [974  23  36  27  61  30]   |   test -  [486  11  18  13  30  14]\n"
     ]
    }
   ],
   "source": [
    "from sklearn.model_selection import StratifiedKFold, KFold\n",
    "skf = StratifiedKFold(n_splits=3)\n",
    "X = data_org[idC];y = data_org['class']\n",
    "for train, test in skf.split(X, y):\n",
    "    print('train -  {}   |   test -  {}'.format(\n",
    "        np.bincount(y[train]+1), np.bincount(y[test]+1)))"
   ]
  },
  {
   "cell_type": "code",
   "execution_count": 17,
   "metadata": {
    "ExecuteTime": {
     "end_time": "2020-06-07T08:25:14.156888Z",
     "start_time": "2020-06-07T08:25:13.943825Z"
    }
   },
   "outputs": [],
   "source": [
    "from sklearn.model_selection import GridSearchCV\n",
    "from sklearn.model_selection import RandomizedSearchCV\n",
    "from sklearn import ensemble\n",
    "params = {'learning_rate': 0.01, 'loss': 'ls'}\n",
    "param_dist = {\"n_estimators\":range(50,500,10),\n",
    "                  \"max_depth\": [2,3, 4, 5,6,None],\n",
    "                  'min_samples_split': [2,3,4,5]}\n",
    "\n",
    "grad_boost = ensemble.GradientBoostingRegressor(**params)\n",
    "random_search = RandomizedSearchCV(grad_boost, param_distributions=param_dist,\n",
    "                                       n_iter=10, cv=4, iid=False)\n",
    "# random_search.fit(X, y)"
   ]
  },
  {
   "cell_type": "code",
   "execution_count": 18,
   "metadata": {
    "ExecuteTime": {
     "end_time": "2020-06-07T08:25:25.184430Z",
     "start_time": "2020-06-07T08:25:14.158828Z"
    }
   },
   "outputs": [
    {
     "data": {
      "text/plain": [
       "RandomizedSearchCV(cv=4, error_score='raise-deprecating',\n",
       "                   estimator=GradientBoostingRegressor(alpha=0.9,\n",
       "                                                       criterion='friedman_mse',\n",
       "                                                       init=None,\n",
       "                                                       learning_rate=0.01,\n",
       "                                                       loss='ls', max_depth=3,\n",
       "                                                       max_features=None,\n",
       "                                                       max_leaf_nodes=None,\n",
       "                                                       min_impurity_decrease=0.0,\n",
       "                                                       min_impurity_split=None,\n",
       "                                                       min_samples_leaf=1,\n",
       "                                                       min_samples_split=2,\n",
       "                                                       min_weight_fraction_leaf=0.0,\n",
       "                                                       n_estimators=100...\n",
       "                                                       presort='auto',\n",
       "                                                       random_state=None,\n",
       "                                                       subsample=1.0,\n",
       "                                                       tol=0.0001,\n",
       "                                                       validation_fraction=0.1,\n",
       "                                                       verbose=0,\n",
       "                                                       warm_start=False),\n",
       "                   iid=False, n_iter=10, n_jobs=None,\n",
       "                   param_distributions={'max_depth': [2, 3, 4, 5, 6, None],\n",
       "                                        'min_samples_split': [2, 3, 4, 5],\n",
       "                                        'n_estimators': range(50, 500, 10)},\n",
       "                   pre_dispatch='2*n_jobs', random_state=None, refit=True,\n",
       "                   return_train_score=False, scoring=None, verbose=0)"
      ]
     },
     "execution_count": 18,
     "metadata": {},
     "output_type": "execute_result"
    }
   ],
   "source": [
    "random_search.fit(X, y,groups=data_org['class'])"
   ]
  },
  {
   "cell_type": "code",
   "execution_count": 19,
   "metadata": {
    "ExecuteTime": {
     "end_time": "2020-06-07T08:25:25.211347Z",
     "start_time": "2020-06-07T08:25:25.185992Z"
    }
   },
   "outputs": [
    {
     "data": {
      "text/html": [
       "<div>\n",
       "<style scoped>\n",
       "    .dataframe tbody tr th:only-of-type {\n",
       "        vertical-align: middle;\n",
       "    }\n",
       "\n",
       "    .dataframe tbody tr th {\n",
       "        vertical-align: top;\n",
       "    }\n",
       "\n",
       "    .dataframe thead th {\n",
       "        text-align: right;\n",
       "    }\n",
       "</style>\n",
       "<table border=\"1\" class=\"dataframe\">\n",
       "  <thead>\n",
       "    <tr style=\"text-align: right;\">\n",
       "      <th></th>\n",
       "      <th>Wafer No.</th>\n",
       "      <th>Sample No.</th>\n",
       "      <th>Droplet No.</th>\n",
       "      <th>P3HT vol (µL)</th>\n",
       "      <th>D1 vol (µL)</th>\n",
       "      <th>D2 vol (µL)</th>\n",
       "      <th>D6 vol (µL)</th>\n",
       "      <th>D8 vol (µL)</th>\n",
       "      <th>P3HT content (%)</th>\n",
       "      <th>D1 content (%)</th>\n",
       "      <th>...</th>\n",
       "      <th>Sheet Resistance (ohm/sq) (log)</th>\n",
       "      <th>Thickness (nm, measured) (log)</th>\n",
       "      <th>Conductivity</th>\n",
       "      <th>Conductivity (log)</th>\n",
       "      <th>A</th>\n",
       "      <th>R</th>\n",
       "      <th>T</th>\n",
       "      <th>S</th>\n",
       "      <th>Y</th>\n",
       "      <th>class</th>\n",
       "    </tr>\n",
       "  </thead>\n",
       "  <tbody>\n",
       "    <tr>\n",
       "      <th>0</th>\n",
       "      <td>1</td>\n",
       "      <td>1</td>\n",
       "      <td>a</td>\n",
       "      <td>83.334</td>\n",
       "      <td>16.666</td>\n",
       "      <td>0.000</td>\n",
       "      <td>0.000</td>\n",
       "      <td>0.000</td>\n",
       "      <td>90.00000</td>\n",
       "      <td>10.0000</td>\n",
       "      <td>...</td>\n",
       "      <td>5.428426</td>\n",
       "      <td>NaN</td>\n",
       "      <td>NaN</td>\n",
       "      <td>NaN</td>\n",
       "      <td>-1.629134</td>\n",
       "      <td>-0.153699</td>\n",
       "      <td>NaN</td>\n",
       "      <td>5.428426</td>\n",
       "      <td>NaN</td>\n",
       "      <td>-1</td>\n",
       "    </tr>\n",
       "    <tr>\n",
       "      <th>1</th>\n",
       "      <td>1</td>\n",
       "      <td>1</td>\n",
       "      <td>b</td>\n",
       "      <td>83.334</td>\n",
       "      <td>16.666</td>\n",
       "      <td>0.000</td>\n",
       "      <td>0.000</td>\n",
       "      <td>0.000</td>\n",
       "      <td>90.00000</td>\n",
       "      <td>10.0000</td>\n",
       "      <td>...</td>\n",
       "      <td>5.040579</td>\n",
       "      <td>NaN</td>\n",
       "      <td>NaN</td>\n",
       "      <td>NaN</td>\n",
       "      <td>-1.721634</td>\n",
       "      <td>-0.155320</td>\n",
       "      <td>NaN</td>\n",
       "      <td>5.040579</td>\n",
       "      <td>NaN</td>\n",
       "      <td>-1</td>\n",
       "    </tr>\n",
       "    <tr>\n",
       "      <th>2</th>\n",
       "      <td>1</td>\n",
       "      <td>1</td>\n",
       "      <td>c</td>\n",
       "      <td>83.334</td>\n",
       "      <td>16.666</td>\n",
       "      <td>0.000</td>\n",
       "      <td>0.000</td>\n",
       "      <td>0.000</td>\n",
       "      <td>90.00000</td>\n",
       "      <td>10.0000</td>\n",
       "      <td>...</td>\n",
       "      <td>5.575389</td>\n",
       "      <td>NaN</td>\n",
       "      <td>NaN</td>\n",
       "      <td>NaN</td>\n",
       "      <td>-1.791680</td>\n",
       "      <td>-0.165509</td>\n",
       "      <td>NaN</td>\n",
       "      <td>5.575389</td>\n",
       "      <td>NaN</td>\n",
       "      <td>-1</td>\n",
       "    </tr>\n",
       "    <tr>\n",
       "      <th>3</th>\n",
       "      <td>1</td>\n",
       "      <td>1</td>\n",
       "      <td>d</td>\n",
       "      <td>83.334</td>\n",
       "      <td>16.666</td>\n",
       "      <td>0.000</td>\n",
       "      <td>0.000</td>\n",
       "      <td>0.000</td>\n",
       "      <td>90.00000</td>\n",
       "      <td>10.0000</td>\n",
       "      <td>...</td>\n",
       "      <td>5.446817</td>\n",
       "      <td>5.283711</td>\n",
       "      <td>218.670726</td>\n",
       "      <td>5.387567</td>\n",
       "      <td>-1.748839</td>\n",
       "      <td>-0.165984</td>\n",
       "      <td>5.283711</td>\n",
       "      <td>5.446817</td>\n",
       "      <td>5.387567</td>\n",
       "      <td>3</td>\n",
       "    </tr>\n",
       "    <tr>\n",
       "      <th>4</th>\n",
       "      <td>1</td>\n",
       "      <td>1</td>\n",
       "      <td>e</td>\n",
       "      <td>83.334</td>\n",
       "      <td>16.666</td>\n",
       "      <td>0.000</td>\n",
       "      <td>0.000</td>\n",
       "      <td>0.000</td>\n",
       "      <td>90.00000</td>\n",
       "      <td>10.0000</td>\n",
       "      <td>...</td>\n",
       "      <td>5.298317</td>\n",
       "      <td>5.629418</td>\n",
       "      <td>179.533214</td>\n",
       "      <td>5.190360</td>\n",
       "      <td>NaN</td>\n",
       "      <td>NaN</td>\n",
       "      <td>5.629418</td>\n",
       "      <td>5.298317</td>\n",
       "      <td>5.190360</td>\n",
       "      <td>3</td>\n",
       "    </tr>\n",
       "    <tr>\n",
       "      <th>...</th>\n",
       "      <td>...</td>\n",
       "      <td>...</td>\n",
       "      <td>...</td>\n",
       "      <td>...</td>\n",
       "      <td>...</td>\n",
       "      <td>...</td>\n",
       "      <td>...</td>\n",
       "      <td>...</td>\n",
       "      <td>...</td>\n",
       "      <td>...</td>\n",
       "      <td>...</td>\n",
       "      <td>...</td>\n",
       "      <td>...</td>\n",
       "      <td>...</td>\n",
       "      <td>...</td>\n",
       "      <td>...</td>\n",
       "      <td>...</td>\n",
       "      <td>...</td>\n",
       "      <td>...</td>\n",
       "      <td>...</td>\n",
       "      <td>...</td>\n",
       "    </tr>\n",
       "    <tr>\n",
       "      <th>1718</th>\n",
       "      <td>5</td>\n",
       "      <td>4</td>\n",
       "      <td>b</td>\n",
       "      <td>99.988</td>\n",
       "      <td>0.003</td>\n",
       "      <td>0.003</td>\n",
       "      <td>0.003</td>\n",
       "      <td>0.003</td>\n",
       "      <td>99.99085</td>\n",
       "      <td>0.0018</td>\n",
       "      <td>...</td>\n",
       "      <td>6.991177</td>\n",
       "      <td>NaN</td>\n",
       "      <td>NaN</td>\n",
       "      <td>NaN</td>\n",
       "      <td>-1.736363</td>\n",
       "      <td>-0.503619</td>\n",
       "      <td>NaN</td>\n",
       "      <td>6.991177</td>\n",
       "      <td>NaN</td>\n",
       "      <td>-1</td>\n",
       "    </tr>\n",
       "    <tr>\n",
       "      <th>1719</th>\n",
       "      <td>5</td>\n",
       "      <td>4</td>\n",
       "      <td>c</td>\n",
       "      <td>99.988</td>\n",
       "      <td>0.003</td>\n",
       "      <td>0.003</td>\n",
       "      <td>0.003</td>\n",
       "      <td>0.003</td>\n",
       "      <td>99.99085</td>\n",
       "      <td>0.0018</td>\n",
       "      <td>...</td>\n",
       "      <td>5.199232</td>\n",
       "      <td>NaN</td>\n",
       "      <td>NaN</td>\n",
       "      <td>NaN</td>\n",
       "      <td>-1.458607</td>\n",
       "      <td>-0.563047</td>\n",
       "      <td>NaN</td>\n",
       "      <td>5.199232</td>\n",
       "      <td>NaN</td>\n",
       "      <td>-1</td>\n",
       "    </tr>\n",
       "    <tr>\n",
       "      <th>1720</th>\n",
       "      <td>5</td>\n",
       "      <td>4</td>\n",
       "      <td>d</td>\n",
       "      <td>99.988</td>\n",
       "      <td>0.003</td>\n",
       "      <td>0.003</td>\n",
       "      <td>0.003</td>\n",
       "      <td>0.003</td>\n",
       "      <td>99.99085</td>\n",
       "      <td>0.0018</td>\n",
       "      <td>...</td>\n",
       "      <td>7.767111</td>\n",
       "      <td>NaN</td>\n",
       "      <td>NaN</td>\n",
       "      <td>NaN</td>\n",
       "      <td>-1.284388</td>\n",
       "      <td>-0.532167</td>\n",
       "      <td>NaN</td>\n",
       "      <td>7.767111</td>\n",
       "      <td>NaN</td>\n",
       "      <td>-1</td>\n",
       "    </tr>\n",
       "    <tr>\n",
       "      <th>1721</th>\n",
       "      <td>5</td>\n",
       "      <td>4</td>\n",
       "      <td>e</td>\n",
       "      <td>99.988</td>\n",
       "      <td>0.003</td>\n",
       "      <td>0.003</td>\n",
       "      <td>0.003</td>\n",
       "      <td>0.003</td>\n",
       "      <td>99.99085</td>\n",
       "      <td>0.0018</td>\n",
       "      <td>...</td>\n",
       "      <td>7.416179</td>\n",
       "      <td>NaN</td>\n",
       "      <td>NaN</td>\n",
       "      <td>NaN</td>\n",
       "      <td>-1.421963</td>\n",
       "      <td>-0.449078</td>\n",
       "      <td>NaN</td>\n",
       "      <td>7.416179</td>\n",
       "      <td>NaN</td>\n",
       "      <td>-1</td>\n",
       "    </tr>\n",
       "    <tr>\n",
       "      <th>1722</th>\n",
       "      <td>5</td>\n",
       "      <td>4</td>\n",
       "      <td>f</td>\n",
       "      <td>99.988</td>\n",
       "      <td>0.003</td>\n",
       "      <td>0.003</td>\n",
       "      <td>0.003</td>\n",
       "      <td>0.003</td>\n",
       "      <td>99.99085</td>\n",
       "      <td>0.0018</td>\n",
       "      <td>...</td>\n",
       "      <td>7.111311</td>\n",
       "      <td>NaN</td>\n",
       "      <td>NaN</td>\n",
       "      <td>NaN</td>\n",
       "      <td>-1.334993</td>\n",
       "      <td>-0.439930</td>\n",
       "      <td>NaN</td>\n",
       "      <td>7.111311</td>\n",
       "      <td>NaN</td>\n",
       "      <td>-1</td>\n",
       "    </tr>\n",
       "  </tbody>\n",
       "</table>\n",
       "<p>1723 rows × 41 columns</p>\n",
       "</div>"
      ],
      "text/plain": [
       "      Wafer No.  Sample No. Droplet No.  P3HT vol (µL)  D1 vol (µL)  \\\n",
       "0             1           1           a         83.334       16.666   \n",
       "1             1           1           b         83.334       16.666   \n",
       "2             1           1           c         83.334       16.666   \n",
       "3             1           1           d         83.334       16.666   \n",
       "4             1           1           e         83.334       16.666   \n",
       "...         ...         ...         ...            ...          ...   \n",
       "1718          5           4           b         99.988        0.003   \n",
       "1719          5           4           c         99.988        0.003   \n",
       "1720          5           4           d         99.988        0.003   \n",
       "1721          5           4           e         99.988        0.003   \n",
       "1722          5           4           f         99.988        0.003   \n",
       "\n",
       "      D2 vol (µL)  D6 vol (µL)  D8 vol (µL)  P3HT content (%)  D1 content (%)  \\\n",
       "0           0.000        0.000        0.000          90.00000         10.0000   \n",
       "1           0.000        0.000        0.000          90.00000         10.0000   \n",
       "2           0.000        0.000        0.000          90.00000         10.0000   \n",
       "3           0.000        0.000        0.000          90.00000         10.0000   \n",
       "4           0.000        0.000        0.000          90.00000         10.0000   \n",
       "...           ...          ...          ...               ...             ...   \n",
       "1718        0.003        0.003        0.003          99.99085          0.0018   \n",
       "1719        0.003        0.003        0.003          99.99085          0.0018   \n",
       "1720        0.003        0.003        0.003          99.99085          0.0018   \n",
       "1721        0.003        0.003        0.003          99.99085          0.0018   \n",
       "1722        0.003        0.003        0.003          99.99085          0.0018   \n",
       "\n",
       "      ...  Sheet Resistance (ohm/sq) (log)  Thickness (nm, measured) (log)  \\\n",
       "0     ...                         5.428426                             NaN   \n",
       "1     ...                         5.040579                             NaN   \n",
       "2     ...                         5.575389                             NaN   \n",
       "3     ...                         5.446817                        5.283711   \n",
       "4     ...                         5.298317                        5.629418   \n",
       "...   ...                              ...                             ...   \n",
       "1718  ...                         6.991177                             NaN   \n",
       "1719  ...                         5.199232                             NaN   \n",
       "1720  ...                         7.767111                             NaN   \n",
       "1721  ...                         7.416179                             NaN   \n",
       "1722  ...                         7.111311                             NaN   \n",
       "\n",
       "      Conductivity  Conductivity (log)         A         R         T  \\\n",
       "0              NaN                 NaN -1.629134 -0.153699       NaN   \n",
       "1              NaN                 NaN -1.721634 -0.155320       NaN   \n",
       "2              NaN                 NaN -1.791680 -0.165509       NaN   \n",
       "3       218.670726            5.387567 -1.748839 -0.165984  5.283711   \n",
       "4       179.533214            5.190360       NaN       NaN  5.629418   \n",
       "...            ...                 ...       ...       ...       ...   \n",
       "1718           NaN                 NaN -1.736363 -0.503619       NaN   \n",
       "1719           NaN                 NaN -1.458607 -0.563047       NaN   \n",
       "1720           NaN                 NaN -1.284388 -0.532167       NaN   \n",
       "1721           NaN                 NaN -1.421963 -0.449078       NaN   \n",
       "1722           NaN                 NaN -1.334993 -0.439930       NaN   \n",
       "\n",
       "             S         Y  class  \n",
       "0     5.428426       NaN     -1  \n",
       "1     5.040579       NaN     -1  \n",
       "2     5.575389       NaN     -1  \n",
       "3     5.446817  5.387567      3  \n",
       "4     5.298317  5.190360      3  \n",
       "...        ...       ...    ...  \n",
       "1718  6.991177       NaN     -1  \n",
       "1719  5.199232       NaN     -1  \n",
       "1720  7.767111       NaN     -1  \n",
       "1721  7.416179       NaN     -1  \n",
       "1722  7.111311       NaN     -1  \n",
       "\n",
       "[1723 rows x 41 columns]"
      ]
     },
     "execution_count": 19,
     "metadata": {},
     "output_type": "execute_result"
    }
   ],
   "source": [
    "data_org"
   ]
  },
  {
   "cell_type": "markdown",
   "metadata": {},
   "source": [
    "## Add probabilities"
   ]
  },
  {
   "cell_type": "code",
   "execution_count": 20,
   "metadata": {
    "ExecuteTime": {
     "end_time": "2020-06-07T08:25:25.566773Z",
     "start_time": "2020-06-07T08:25:25.213263Z"
    }
   },
   "outputs": [],
   "source": [
    "data_all = data_org.dropna(axis=0,how='all',subset=idAll[1:]) # clear some rows"
   ]
  },
  {
   "cell_type": "code",
   "execution_count": 21,
   "metadata": {
    "ExecuteTime": {
     "end_time": "2020-06-07T08:25:26.639202Z",
     "start_time": "2020-06-07T08:25:25.568691Z"
    }
   },
   "outputs": [
    {
     "name": "stderr",
     "output_type": "stream",
     "text": [
      "/home/yqcai/anaconda3/envs/tf_gpu/lib/python3.6/site-packages/ipykernel_launcher.py:2: SettingWithCopyWarning: \n",
      "A value is trying to be set on a copy of a slice from a DataFrame.\n",
      "Try using .loc[row_indexer,col_indexer] = value instead\n",
      "\n",
      "See the caveats in the documentation: http://pandas.pydata.org/pandas-docs/stable/user_guide/indexing.html#returning-a-view-versus-a-copy\n",
      "  \n",
      "/home/yqcai/anaconda3/envs/tf_gpu/lib/python3.6/site-packages/ipykernel_launcher.py:3: SettingWithCopyWarning: \n",
      "A value is trying to be set on a copy of a slice from a DataFrame.\n",
      "Try using .loc[row_indexer,col_indexer] = value instead\n",
      "\n",
      "See the caveats in the documentation: http://pandas.pydata.org/pandas-docs/stable/user_guide/indexing.html#returning-a-view-versus-a-copy\n",
      "  This is separate from the ipykernel package so we can avoid doing imports until\n",
      "/home/yqcai/anaconda3/envs/tf_gpu/lib/python3.6/site-packages/ipykernel_launcher.py:4: SettingWithCopyWarning: \n",
      "A value is trying to be set on a copy of a slice from a DataFrame.\n",
      "Try using .loc[row_indexer,col_indexer] = value instead\n",
      "\n",
      "See the caveats in the documentation: http://pandas.pydata.org/pandas-docs/stable/user_guide/indexing.html#returning-a-view-versus-a-copy\n",
      "  after removing the cwd from sys.path.\n"
     ]
    }
   ],
   "source": [
    "df = data_all\n",
    "df['ID'] = df['Run']*100 + df['Wafer No.']*10 + df['Sample No.']\n",
    "df['p-droplet'] = df[idAll[1:]].apply(lambda r:10**np.sum(r==r),axis=1)\n",
    "df['p-droplet'] = df['p-droplet']/df.groupby('ID')['p-droplet'].transform('sum')\n",
    "# df['count'] = df.groupby('ID')['ID'].transform('count')"
   ]
  },
  {
   "cell_type": "code",
   "execution_count": 22,
   "metadata": {
    "ExecuteTime": {
     "end_time": "2020-06-07T08:25:27.534551Z",
     "start_time": "2020-06-07T08:25:26.641272Z"
    }
   },
   "outputs": [
    {
     "data": {
      "text/plain": [
       "(177, 136, 313)"
      ]
     },
     "execution_count": 22,
     "metadata": {},
     "output_type": "execute_result"
    }
   ],
   "source": [
    "def random_chosen(df):\n",
    "    # random choen samples -- one for each group\n",
    "    # e.g.: data,data_allvalid,data_supp = random_chosen(data_org)\n",
    "    fn = lambda obj: obj.loc[np.random.choice(obj.index, 1, True,p=obj['p-droplet']),:]\n",
    "    data = df.groupby('ID', as_index=False).apply(fn)\n",
    "\n",
    "    data_allvalid = data.dropna(axis=0,how='any',subset=idAll[1:])\n",
    "    data_supp = data.drop(index=data_allvalid.index)\n",
    "    \n",
    "    return data,data_allvalid,data_supp\n",
    "\n",
    "d0 = 1.0\n",
    "def invp_dist(x):\n",
    "#     d0 = 3.0\n",
    "#     d0 = 2.0\n",
    "#     d0 = 1.0\n",
    "    return np.exp(-x**2 / (2*d0**2))\n",
    "\n",
    "# data,data_allvalid,data_supp = random_chosen(data_org)\n",
    "data,data_allvalid,data_supp = random_chosen(data_all)\n",
    "len(data_allvalid),len(data_supp),len(data)"
   ]
  },
  {
   "cell_type": "code",
   "execution_count": 23,
   "metadata": {
    "ExecuteTime": {
     "end_time": "2020-06-07T08:25:27.562899Z",
     "start_time": "2020-06-07T08:25:27.539647Z"
    }
   },
   "outputs": [],
   "source": [
    "dist = euclidean_distances(data[idC],data[idC])\n",
    "invp = np.sum(invp_dist(dist),axis=0)\n",
    "p = 1/invp\n",
    "data['p-content'] = p\n",
    "data_all = pd.merge(data_all,data[['ID','p-content']],on='ID')\n",
    "data_all['d0'] = d0"
   ]
  },
  {
   "cell_type": "code",
   "execution_count": 24,
   "metadata": {
    "ExecuteTime": {
     "end_time": "2020-06-07T08:25:27.913195Z",
     "start_time": "2020-06-07T08:25:27.565751Z"
    }
   },
   "outputs": [
    {
     "data": {
      "image/png": "[encoded data removed]",
      "text/plain": [
       "<Figure size 432x288 with 1 Axes>"
      ]
     },
     "metadata": {
      "needs_background": "light"
     },
     "output_type": "display_data"
    }
   ],
   "source": [
    "plt.hist(data['class'],bins=12);"
   ]
  },
  {
   "cell_type": "code",
   "execution_count": 25,
   "metadata": {
    "ExecuteTime": {
     "end_time": "2020-06-07T08:25:28.030185Z",
     "start_time": "2020-06-07T08:25:27.914979Z"
    }
   },
   "outputs": [
    {
     "data": {
      "text/html": [
       "<div>\n",
       "<style scoped>\n",
       "    .dataframe tbody tr th:only-of-type {\n",
       "        vertical-align: middle;\n",
       "    }\n",
       "\n",
       "    .dataframe tbody tr th {\n",
       "        vertical-align: top;\n",
       "    }\n",
       "\n",
       "    .dataframe thead th {\n",
       "        text-align: right;\n",
       "    }\n",
       "</style>\n",
       "<table border=\"1\" class=\"dataframe\">\n",
       "  <thead>\n",
       "    <tr style=\"text-align: right;\">\n",
       "      <th></th>\n",
       "      <th>Wafer No.</th>\n",
       "      <th>Sample No.</th>\n",
       "      <th>Droplet No.</th>\n",
       "      <th>P3HT vol (µL)</th>\n",
       "      <th>D1 vol (µL)</th>\n",
       "      <th>D2 vol (µL)</th>\n",
       "      <th>D6 vol (µL)</th>\n",
       "      <th>D8 vol (µL)</th>\n",
       "      <th>P3HT content (%)</th>\n",
       "      <th>D1 content (%)</th>\n",
       "      <th>...</th>\n",
       "      <th>A</th>\n",
       "      <th>R</th>\n",
       "      <th>T</th>\n",
       "      <th>S</th>\n",
       "      <th>Y</th>\n",
       "      <th>class</th>\n",
       "      <th>ID</th>\n",
       "      <th>p-droplet</th>\n",
       "      <th>p-content</th>\n",
       "      <th>d0</th>\n",
       "    </tr>\n",
       "  </thead>\n",
       "  <tbody>\n",
       "    <tr>\n",
       "      <th>0</th>\n",
       "      <td>1</td>\n",
       "      <td>1</td>\n",
       "      <td>a</td>\n",
       "      <td>83.334</td>\n",
       "      <td>16.666</td>\n",
       "      <td>0.000</td>\n",
       "      <td>0.000</td>\n",
       "      <td>0.000</td>\n",
       "      <td>90.00000</td>\n",
       "      <td>10.0000</td>\n",
       "      <td>...</td>\n",
       "      <td>-1.629134</td>\n",
       "      <td>-0.153699</td>\n",
       "      <td>NaN</td>\n",
       "      <td>5.428426</td>\n",
       "      <td>NaN</td>\n",
       "      <td>-1</td>\n",
       "      <td>111</td>\n",
       "      <td>0.009614</td>\n",
       "      <td>0.856040</td>\n",
       "      <td>1.0</td>\n",
       "    </tr>\n",
       "    <tr>\n",
       "      <th>1</th>\n",
       "      <td>1</td>\n",
       "      <td>1</td>\n",
       "      <td>b</td>\n",
       "      <td>83.334</td>\n",
       "      <td>16.666</td>\n",
       "      <td>0.000</td>\n",
       "      <td>0.000</td>\n",
       "      <td>0.000</td>\n",
       "      <td>90.00000</td>\n",
       "      <td>10.0000</td>\n",
       "      <td>...</td>\n",
       "      <td>-1.721634</td>\n",
       "      <td>-0.155320</td>\n",
       "      <td>NaN</td>\n",
       "      <td>5.040579</td>\n",
       "      <td>NaN</td>\n",
       "      <td>-1</td>\n",
       "      <td>111</td>\n",
       "      <td>0.009614</td>\n",
       "      <td>0.856040</td>\n",
       "      <td>1.0</td>\n",
       "    </tr>\n",
       "    <tr>\n",
       "      <th>2</th>\n",
       "      <td>1</td>\n",
       "      <td>1</td>\n",
       "      <td>c</td>\n",
       "      <td>83.334</td>\n",
       "      <td>16.666</td>\n",
       "      <td>0.000</td>\n",
       "      <td>0.000</td>\n",
       "      <td>0.000</td>\n",
       "      <td>90.00000</td>\n",
       "      <td>10.0000</td>\n",
       "      <td>...</td>\n",
       "      <td>-1.791680</td>\n",
       "      <td>-0.165509</td>\n",
       "      <td>NaN</td>\n",
       "      <td>5.575389</td>\n",
       "      <td>NaN</td>\n",
       "      <td>-1</td>\n",
       "      <td>111</td>\n",
       "      <td>0.009614</td>\n",
       "      <td>0.856040</td>\n",
       "      <td>1.0</td>\n",
       "    </tr>\n",
       "    <tr>\n",
       "      <th>3</th>\n",
       "      <td>1</td>\n",
       "      <td>1</td>\n",
       "      <td>d</td>\n",
       "      <td>83.334</td>\n",
       "      <td>16.666</td>\n",
       "      <td>0.000</td>\n",
       "      <td>0.000</td>\n",
       "      <td>0.000</td>\n",
       "      <td>90.00000</td>\n",
       "      <td>10.0000</td>\n",
       "      <td>...</td>\n",
       "      <td>-1.748839</td>\n",
       "      <td>-0.165984</td>\n",
       "      <td>5.283711</td>\n",
       "      <td>5.446817</td>\n",
       "      <td>5.387567</td>\n",
       "      <td>3</td>\n",
       "      <td>111</td>\n",
       "      <td>0.961446</td>\n",
       "      <td>0.856040</td>\n",
       "      <td>1.0</td>\n",
       "    </tr>\n",
       "    <tr>\n",
       "      <th>4</th>\n",
       "      <td>1</td>\n",
       "      <td>1</td>\n",
       "      <td>e</td>\n",
       "      <td>83.334</td>\n",
       "      <td>16.666</td>\n",
       "      <td>0.000</td>\n",
       "      <td>0.000</td>\n",
       "      <td>0.000</td>\n",
       "      <td>90.00000</td>\n",
       "      <td>10.0000</td>\n",
       "      <td>...</td>\n",
       "      <td>NaN</td>\n",
       "      <td>NaN</td>\n",
       "      <td>5.629418</td>\n",
       "      <td>5.298317</td>\n",
       "      <td>5.190360</td>\n",
       "      <td>3</td>\n",
       "      <td>111</td>\n",
       "      <td>0.009614</td>\n",
       "      <td>0.856040</td>\n",
       "      <td>1.0</td>\n",
       "    </tr>\n",
       "    <tr>\n",
       "      <th>...</th>\n",
       "      <td>...</td>\n",
       "      <td>...</td>\n",
       "      <td>...</td>\n",
       "      <td>...</td>\n",
       "      <td>...</td>\n",
       "      <td>...</td>\n",
       "      <td>...</td>\n",
       "      <td>...</td>\n",
       "      <td>...</td>\n",
       "      <td>...</td>\n",
       "      <td>...</td>\n",
       "      <td>...</td>\n",
       "      <td>...</td>\n",
       "      <td>...</td>\n",
       "      <td>...</td>\n",
       "      <td>...</td>\n",
       "      <td>...</td>\n",
       "      <td>...</td>\n",
       "      <td>...</td>\n",
       "      <td>...</td>\n",
       "      <td>...</td>\n",
       "    </tr>\n",
       "    <tr>\n",
       "      <th>1703</th>\n",
       "      <td>5</td>\n",
       "      <td>4</td>\n",
       "      <td>b</td>\n",
       "      <td>99.988</td>\n",
       "      <td>0.003</td>\n",
       "      <td>0.003</td>\n",
       "      <td>0.003</td>\n",
       "      <td>0.003</td>\n",
       "      <td>99.99085</td>\n",
       "      <td>0.0018</td>\n",
       "      <td>...</td>\n",
       "      <td>-1.736363</td>\n",
       "      <td>-0.503619</td>\n",
       "      <td>NaN</td>\n",
       "      <td>6.991177</td>\n",
       "      <td>NaN</td>\n",
       "      <td>-1</td>\n",
       "      <td>1254</td>\n",
       "      <td>0.166667</td>\n",
       "      <td>0.999999</td>\n",
       "      <td>1.0</td>\n",
       "    </tr>\n",
       "    <tr>\n",
       "      <th>1704</th>\n",
       "      <td>5</td>\n",
       "      <td>4</td>\n",
       "      <td>c</td>\n",
       "      <td>99.988</td>\n",
       "      <td>0.003</td>\n",
       "      <td>0.003</td>\n",
       "      <td>0.003</td>\n",
       "      <td>0.003</td>\n",
       "      <td>99.99085</td>\n",
       "      <td>0.0018</td>\n",
       "      <td>...</td>\n",
       "      <td>-1.458607</td>\n",
       "      <td>-0.563047</td>\n",
       "      <td>NaN</td>\n",
       "      <td>5.199232</td>\n",
       "      <td>NaN</td>\n",
       "      <td>-1</td>\n",
       "      <td>1254</td>\n",
       "      <td>0.166667</td>\n",
       "      <td>0.999999</td>\n",
       "      <td>1.0</td>\n",
       "    </tr>\n",
       "    <tr>\n",
       "      <th>1705</th>\n",
       "      <td>5</td>\n",
       "      <td>4</td>\n",
       "      <td>d</td>\n",
       "      <td>99.988</td>\n",
       "      <td>0.003</td>\n",
       "      <td>0.003</td>\n",
       "      <td>0.003</td>\n",
       "      <td>0.003</td>\n",
       "      <td>99.99085</td>\n",
       "      <td>0.0018</td>\n",
       "      <td>...</td>\n",
       "      <td>-1.284388</td>\n",
       "      <td>-0.532167</td>\n",
       "      <td>NaN</td>\n",
       "      <td>7.767111</td>\n",
       "      <td>NaN</td>\n",
       "      <td>-1</td>\n",
       "      <td>1254</td>\n",
       "      <td>0.166667</td>\n",
       "      <td>0.999999</td>\n",
       "      <td>1.0</td>\n",
       "    </tr>\n",
       "    <tr>\n",
       "      <th>1706</th>\n",
       "      <td>5</td>\n",
       "      <td>4</td>\n",
       "      <td>e</td>\n",
       "      <td>99.988</td>\n",
       "      <td>0.003</td>\n",
       "      <td>0.003</td>\n",
       "      <td>0.003</td>\n",
       "      <td>0.003</td>\n",
       "      <td>99.99085</td>\n",
       "      <td>0.0018</td>\n",
       "      <td>...</td>\n",
       "      <td>-1.421963</td>\n",
       "      <td>-0.449078</td>\n",
       "      <td>NaN</td>\n",
       "      <td>7.416179</td>\n",
       "      <td>NaN</td>\n",
       "      <td>-1</td>\n",
       "      <td>1254</td>\n",
       "      <td>0.166667</td>\n",
       "      <td>0.999999</td>\n",
       "      <td>1.0</td>\n",
       "    </tr>\n",
       "    <tr>\n",
       "      <th>1707</th>\n",
       "      <td>5</td>\n",
       "      <td>4</td>\n",
       "      <td>f</td>\n",
       "      <td>99.988</td>\n",
       "      <td>0.003</td>\n",
       "      <td>0.003</td>\n",
       "      <td>0.003</td>\n",
       "      <td>0.003</td>\n",
       "      <td>99.99085</td>\n",
       "      <td>0.0018</td>\n",
       "      <td>...</td>\n",
       "      <td>-1.334993</td>\n",
       "      <td>-0.439930</td>\n",
       "      <td>NaN</td>\n",
       "      <td>7.111311</td>\n",
       "      <td>NaN</td>\n",
       "      <td>-1</td>\n",
       "      <td>1254</td>\n",
       "      <td>0.166667</td>\n",
       "      <td>0.999999</td>\n",
       "      <td>1.0</td>\n",
       "    </tr>\n",
       "  </tbody>\n",
       "</table>\n",
       "<p>1708 rows × 45 columns</p>\n",
       "</div>"
      ],
      "text/plain": [
       "      Wafer No.  Sample No. Droplet No.  P3HT vol (µL)  D1 vol (µL)  \\\n",
       "0             1           1           a         83.334       16.666   \n",
       "1             1           1           b         83.334       16.666   \n",
       "2             1           1           c         83.334       16.666   \n",
       "3             1           1           d         83.334       16.666   \n",
       "4             1           1           e         83.334       16.666   \n",
       "...         ...         ...         ...            ...          ...   \n",
       "1703          5           4           b         99.988        0.003   \n",
       "1704          5           4           c         99.988        0.003   \n",
       "1705          5           4           d         99.988        0.003   \n",
       "1706          5           4           e         99.988        0.003   \n",
       "1707          5           4           f         99.988        0.003   \n",
       "\n",
       "      D2 vol (µL)  D6 vol (µL)  D8 vol (µL)  P3HT content (%)  D1 content (%)  \\\n",
       "0           0.000        0.000        0.000          90.00000         10.0000   \n",
       "1           0.000        0.000        0.000          90.00000         10.0000   \n",
       "2           0.000        0.000        0.000          90.00000         10.0000   \n",
       "3           0.000        0.000        0.000          90.00000         10.0000   \n",
       "4           0.000        0.000        0.000          90.00000         10.0000   \n",
       "...           ...          ...          ...               ...             ...   \n",
       "1703        0.003        0.003        0.003          99.99085          0.0018   \n",
       "1704        0.003        0.003        0.003          99.99085          0.0018   \n",
       "1705        0.003        0.003        0.003          99.99085          0.0018   \n",
       "1706        0.003        0.003        0.003          99.99085          0.0018   \n",
       "1707        0.003        0.003        0.003          99.99085          0.0018   \n",
       "\n",
       "      ...         A         R         T         S         Y  class    ID  \\\n",
       "0     ... -1.629134 -0.153699       NaN  5.428426       NaN     -1   111   \n",
       "1     ... -1.721634 -0.155320       NaN  5.040579       NaN     -1   111   \n",
       "2     ... -1.791680 -0.165509       NaN  5.575389       NaN     -1   111   \n",
       "3     ... -1.748839 -0.165984  5.283711  5.446817  5.387567      3   111   \n",
       "4     ...       NaN       NaN  5.629418  5.298317  5.190360      3   111   \n",
       "...   ...       ...       ...       ...       ...       ...    ...   ...   \n",
       "1703  ... -1.736363 -0.503619       NaN  6.991177       NaN     -1  1254   \n",
       "1704  ... -1.458607 -0.563047       NaN  5.199232       NaN     -1  1254   \n",
       "1705  ... -1.284388 -0.532167       NaN  7.767111       NaN     -1  1254   \n",
       "1706  ... -1.421963 -0.449078       NaN  7.416179       NaN     -1  1254   \n",
       "1707  ... -1.334993 -0.439930       NaN  7.111311       NaN     -1  1254   \n",
       "\n",
       "      p-droplet  p-content   d0  \n",
       "0      0.009614   0.856040  1.0  \n",
       "1      0.009614   0.856040  1.0  \n",
       "2      0.009614   0.856040  1.0  \n",
       "3      0.961446   0.856040  1.0  \n",
       "4      0.009614   0.856040  1.0  \n",
       "...         ...        ...  ...  \n",
       "1703   0.166667   0.999999  1.0  \n",
       "1704   0.166667   0.999999  1.0  \n",
       "1705   0.166667   0.999999  1.0  \n",
       "1706   0.166667   0.999999  1.0  \n",
       "1707   0.166667   0.999999  1.0  \n",
       "\n",
       "[1708 rows x 45 columns]"
      ]
     },
     "execution_count": 25,
     "metadata": {},
     "output_type": "execute_result"
    }
   ],
   "source": [
    "data_all"
   ]
  },
  {
   "cell_type": "markdown",
   "metadata": {},
   "source": [
    "### Plot"
   ]
  },
  {
   "cell_type": "code",
   "execution_count": 26,
   "metadata": {
    "ExecuteTime": {
     "end_time": "2020-06-07T08:25:28.238900Z",
     "start_time": "2020-06-07T08:25:28.032132Z"
    }
   },
   "outputs": [
    {
     "data": {
      "text/plain": [
       "256.75896416518964"
      ]
     },
     "execution_count": 26,
     "metadata": {},
     "output_type": "execute_result"
    }
   ],
   "source": [
    "sum(p)"
   ]
  },
  {
   "cell_type": "code",
   "execution_count": 27,
   "metadata": {
    "ExecuteTime": {
     "end_time": "2020-06-07T08:25:28.574485Z",
     "start_time": "2020-06-07T08:25:28.240767Z"
    }
   },
   "outputs": [
    {
     "data": {
      "text/plain": [
       "[<matplotlib.lines.Line2D at 0x7f3b923d0a90>]"
      ]
     },
     "execution_count": 27,
     "metadata": {},
     "output_type": "execute_result"
    },
    {
     "data": {
      "image/png": "[encoded data removed]",
      "text/plain": [
       "<Figure size 432x288 with 1 Axes>"
      ]
     },
     "metadata": {
      "needs_background": "light"
     },
     "output_type": "display_data"
    }
   ],
   "source": [
    "plt.plot(p,'.')"
   ]
  },
  {
   "cell_type": "code",
   "execution_count": 28,
   "metadata": {
    "ExecuteTime": {
     "end_time": "2020-06-07T08:25:28.793815Z",
     "start_time": "2020-06-07T08:25:28.576165Z"
    }
   },
   "outputs": [
    {
     "data": {
      "text/plain": [
       "[<matplotlib.lines.Line2D at 0x7f3b927dd5f8>]"
      ]
     },
     "execution_count": 28,
     "metadata": {},
     "output_type": "execute_result"
    },
    {
     "data": {
      "image/png": "[encoded data removed]",
      "text/plain": [
       "<Figure size 432x288 with 1 Axes>"
      ]
     },
     "metadata": {
      "needs_background": "light"
     },
     "output_type": "display_data"
    }
   ],
   "source": [
    "plt.plot(invp,'.')"
   ]
  },
  {
   "cell_type": "code",
   "execution_count": 29,
   "metadata": {
    "ExecuteTime": {
     "end_time": "2020-06-07T08:25:28.948591Z",
     "start_time": "2020-06-07T08:25:28.795617Z"
    }
   },
   "outputs": [
    {
     "data": {
      "text/plain": [
       "130"
      ]
     },
     "execution_count": 29,
     "metadata": {},
     "output_type": "execute_result"
    }
   ],
   "source": [
    "np.argmax(invp)"
   ]
  },
  {
   "cell_type": "code",
   "execution_count": 30,
   "metadata": {
    "ExecuteTime": {
     "end_time": "2020-06-07T08:25:29.183102Z",
     "start_time": "2020-06-07T08:25:28.950332Z"
    },
    "scrolled": true
   },
   "outputs": [
    {
     "data": {
      "text/html": [
       "<div>\n",
       "<style scoped>\n",
       "    .dataframe tbody tr th:only-of-type {\n",
       "        vertical-align: middle;\n",
       "    }\n",
       "\n",
       "    .dataframe tbody tr th {\n",
       "        vertical-align: top;\n",
       "    }\n",
       "\n",
       "    .dataframe thead th {\n",
       "        text-align: right;\n",
       "    }\n",
       "</style>\n",
       "<table border=\"1\" class=\"dataframe\">\n",
       "  <thead>\n",
       "    <tr style=\"text-align: right;\">\n",
       "      <th></th>\n",
       "      <th></th>\n",
       "      <th>P3HT vol (µL)</th>\n",
       "      <th>D1 vol (µL)</th>\n",
       "      <th>D2 vol (µL)</th>\n",
       "      <th>D6 vol (µL)</th>\n",
       "      <th>D8 vol (µL)</th>\n",
       "    </tr>\n",
       "  </thead>\n",
       "  <tbody>\n",
       "    <tr>\n",
       "      <th>130</th>\n",
       "      <th>703</th>\n",
       "      <td>15.44184</td>\n",
       "      <td>82.523806</td>\n",
       "      <td>0.815455</td>\n",
       "      <td>0.76183</td>\n",
       "      <td>0.473776</td>\n",
       "    </tr>\n",
       "  </tbody>\n",
       "</table>\n",
       "</div>"
      ],
      "text/plain": [
       "         P3HT vol (µL)  D1 vol (µL)  D2 vol (µL)  D6 vol (µL)  D8 vol (µL)\n",
       "130 703       15.44184    82.523806     0.815455      0.76183     0.473776"
      ]
     },
     "execution_count": 30,
     "metadata": {},
     "output_type": "execute_result"
    }
   ],
   "source": [
    "data[idC].iloc[np.argmax(invp):np.argmax(invp)+1]"
   ]
  },
  {
   "cell_type": "code",
   "execution_count": 31,
   "metadata": {
    "ExecuteTime": {
     "end_time": "2020-06-07T08:25:29.536453Z",
     "start_time": "2020-06-07T08:25:29.185328Z"
    }
   },
   "outputs": [],
   "source": [
    "dist.partition(1)"
   ]
  },
  {
   "cell_type": "code",
   "execution_count": 32,
   "metadata": {
    "ExecuteTime": {
     "end_time": "2020-06-07T08:25:29.767247Z",
     "start_time": "2020-06-07T08:25:29.538432Z"
    }
   },
   "outputs": [],
   "source": [
    "data['dist'] = dist[:,1]"
   ]
  },
  {
   "cell_type": "code",
   "execution_count": 33,
   "metadata": {
    "ExecuteTime": {
     "end_time": "2020-06-07T08:25:30.373070Z",
     "start_time": "2020-06-07T08:25:29.769228Z"
    },
    "scrolled": true
   },
   "outputs": [
    {
     "data": {
      "text/plain": [
       "[<matplotlib.lines.Line2D at 0x7f3b92771940>]"
      ]
     },
     "execution_count": 33,
     "metadata": {},
     "output_type": "execute_result"
    },
    {
     "data": {
      "image/png": "[encoded data removed]",
      "text/plain": [
       "<Figure size 432x288 with 1 Axes>"
      ]
     },
     "metadata": {
      "needs_background": "light"
     },
     "output_type": "display_data"
    }
   ],
   "source": [
    "plt.plot(data['dist'].values,'.')"
   ]
  },
  {
   "cell_type": "code",
   "execution_count": 34,
   "metadata": {
    "ExecuteTime": {
     "end_time": "2020-06-07T08:25:30.742047Z",
     "start_time": "2020-06-07T08:25:30.375102Z"
    },
    "scrolled": true
   },
   "outputs": [
    {
     "data": {
      "text/plain": [
       "count    313.000000\n",
       "mean       3.316445\n",
       "std        3.302009\n",
       "min        0.336114\n",
       "25%        1.652108\n",
       "50%        2.511922\n",
       "75%        3.446903\n",
       "max       27.268982\n",
       "Name: dist, dtype: float64"
      ]
     },
     "execution_count": 34,
     "metadata": {},
     "output_type": "execute_result"
    }
   ],
   "source": [
    "data['dist'].describe()"
   ]
  },
  {
   "cell_type": "code",
   "execution_count": 35,
   "metadata": {
    "ExecuteTime": {
     "end_time": "2020-06-07T08:25:30.928298Z",
     "start_time": "2020-06-07T08:25:30.743678Z"
    }
   },
   "outputs": [
    {
     "data": {
      "text/plain": [
       "313"
      ]
     },
     "execution_count": 35,
     "metadata": {},
     "output_type": "execute_result"
    }
   ],
   "source": [
    "len(data)"
   ]
  },
  {
   "cell_type": "code",
   "execution_count": 36,
   "metadata": {
    "ExecuteTime": {
     "end_time": "2020-06-07T08:25:31.440637Z",
     "start_time": "2020-06-07T08:25:30.930075Z"
    },
    "scrolled": true
   },
   "outputs": [
    {
     "data": {
      "image/png": "[encoded data removed]",
      "text/plain": [
       "<Figure size 864x72 with 1 Axes>"
      ]
     },
     "metadata": {
      "needs_background": "light"
     },
     "output_type": "display_data"
    }
   ],
   "source": [
    "plt.figure(figsize=[12,1])\n",
    "plt.boxplot(data['dist'],vert=False);\n",
    "# plt.xlabel('Distance to the closest content');\n",
    "plt.tight_layout();\n",
    "plt.savefig('Distance to the closest content.png')\n",
    "plt.savefig('Distance to the closest content.pdf')"
   ]
  },
  {
   "cell_type": "markdown",
   "metadata": {},
   "source": [
    "## Save data"
   ]
  },
  {
   "cell_type": "code",
   "execution_count": 37,
   "metadata": {
    "ExecuteTime": {
     "end_time": "2020-06-07T08:25:31.657212Z",
     "start_time": "2020-06-07T08:25:31.441958Z"
    }
   },
   "outputs": [
    {
     "data": {
      "text/plain": [
       "1708"
      ]
     },
     "execution_count": 37,
     "metadata": {},
     "output_type": "execute_result"
    }
   ],
   "source": [
    "# data_all.to_excel('tmp_data_all.xlsx')\n",
    "# data_all.to_excel('data_all.xlsx')\n",
    "len(data_all)"
   ]
  },
  {
   "cell_type": "code",
   "execution_count": 38,
   "metadata": {
    "ExecuteTime": {
     "end_time": "2020-06-07T08:25:31.869348Z",
     "start_time": "2020-06-07T08:25:31.658583Z"
    }
   },
   "outputs": [
    {
     "data": {
      "text/plain": [
       "263"
      ]
     },
     "execution_count": 38,
     "metadata": {},
     "output_type": "execute_result"
    }
   ],
   "source": [
    "data = data_all.dropna(axis=0,how='any',subset=idC+['Y']) # 263 rows\n",
    "# data.to_excel('tmp_data_allvalid.xlsx')\n",
    "len(data)"
   ]
  },
  {
   "cell_type": "code",
   "execution_count": 39,
   "metadata": {
    "ExecuteTime": {
     "end_time": "2020-06-07T08:25:32.266336Z",
     "start_time": "2020-06-07T08:25:31.871561Z"
    }
   },
   "outputs": [
    {
     "data": {
      "text/plain": [
       "224"
      ]
     },
     "execution_count": 39,
     "metadata": {},
     "output_type": "execute_result"
    }
   ],
   "source": [
    "data = data_org.dropna(axis=0,how='any',subset=idC+idAll[1:]) # 224 rows\n",
    "# data.to_excel('tmp_data_allvalid.xlsx')\n",
    "# data.to_excel('data_allvalid.xlsx')\n",
    "len(data)"
   ]
  },
  {
   "cell_type": "markdown",
   "metadata": {},
   "source": [
    "## Change back -- no log() on A"
   ]
  },
  {
   "cell_type": "code",
   "execution_count": 40,
   "metadata": {
    "ExecuteTime": {
     "end_time": "2020-06-07T08:25:34.314088Z",
     "start_time": "2020-06-07T08:25:32.268011Z"
    }
   },
   "outputs": [
    {
     "data": {
      "text/plain": [
       "1708"
      ]
     },
     "execution_count": 40,
     "metadata": {},
     "output_type": "execute_result"
    }
   ],
   "source": [
    "# data_all.to_excel('tmp_data_all.xlsx')\n",
    "# for s in ['A','R','T','S','Y']:\n",
    "# for s in ['A','R']:\n",
    "for s in ['A']:\n",
    "    data_all[s] = np.exp(data_all[s])\n",
    "# data_all.to_excel('data_all_back_AR.xlsx')\n",
    "data_all.to_excel('data_all_back_A.xlsx') # no log on A\n",
    "len(data_all)"
   ]
  }
 ],
 "metadata": {
  "hide_input": false,
  "kernelspec": {
   "display_name": "Python 3",
   "language": "python",
   "name": "python3"
  },
  "language_info": {
   "codemirror_mode": {
    "name": "ipython",
    "version": 3
   },
   "file_extension": ".py",
   "mimetype": "text/x-python",
   "name": "python",
   "nbconvert_exporter": "python",
   "pygments_lexer": "ipython3",
   "version": "3.7.3"
  },
  "latex_envs": {
   "LaTeX_envs_menu_present": true,
   "autoclose": false,
   "autocomplete": true,
   "bibliofile": "biblio.bib",
   "cite_by": "apalike",
   "current_citInitial": 1,
   "eqLabelWithNumbers": true,
   "eqNumInitial": 1,
   "hotkeys": {
    "equation": "Ctrl-E",
    "itemize": "Ctrl-I"
   },
   "labels_anchors": false,
   "latex_user_defs": false,
   "report_style_numbering": false,
   "user_envs_cfg": false
  },
  "toc": {
   "base_numbering": 1,
   "nav_menu": {},
   "number_sections": true,
   "sideBar": true,
   "skip_h1_title": false,
   "title_cell": "Table of Contents",
   "title_sidebar": "Contents",
   "toc_cell": true,
   "toc_position": {
    "height": "calc(100% - 180px)",
    "left": "10px",
    "top": "150px",
    "width": "320px"
   },
   "toc_section_display": true,
   "toc_window_display": true
  },
  "varInspector": {
   "cols": {
    "lenName": 16,
    "lenType": 16,
    "lenVar": 40
   },
   "kernels_config": {
    "python": {
     "delete_cmd_postfix": "",
     "delete_cmd_prefix": "del ",
     "library": "var_list.py",
     "varRefreshCmd": "print(var_dic_list())"
    },
    "r": {
     "delete_cmd_postfix": ") ",
     "delete_cmd_prefix": "rm(",
     "library": "var_list.r",
     "varRefreshCmd": "cat(var_dic_list()) "
    }
   },
   "types_to_exclude": [
    "module",
    "function",
    "builtin_function_or_method",
    "instance",
    "_Feature"
   ],
   "window_display": false
  }
 },
 "nbformat": 4,
 "nbformat_minor": 2
}
