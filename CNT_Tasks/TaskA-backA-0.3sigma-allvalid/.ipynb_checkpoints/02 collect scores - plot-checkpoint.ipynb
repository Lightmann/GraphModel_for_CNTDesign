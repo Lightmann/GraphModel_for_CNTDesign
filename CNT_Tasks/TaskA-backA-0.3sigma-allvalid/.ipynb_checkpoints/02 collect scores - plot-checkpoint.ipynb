{
 "cells": [
  {
   "cell_type": "code",
   "execution_count": 1,
   "metadata": {
    "ExecuteTime": {
     "end_time": "2020-03-29T07:44:48.639192Z",
     "start_time": "2020-03-29T07:44:48.265892Z"
    }
   },
   "outputs": [],
   "source": [
    "import pandas as pd\n",
    "import matplotlib.pyplot as plt\n",
    "import numpy as np"
   ]
  },
  {
   "cell_type": "code",
   "execution_count": 2,
   "metadata": {
    "ExecuteTime": {
     "end_time": "2020-03-29T07:44:48.788777Z",
     "start_time": "2020-03-29T07:44:48.640660Z"
    }
   },
   "outputs": [],
   "source": [
    "import networkx as nx "
   ]
  },
  {
   "cell_type": "markdown",
   "metadata": {},
   "source": [
    "## graphs"
   ]
  },
  {
   "cell_type": "code",
   "execution_count": 3,
   "metadata": {
    "ExecuteTime": {
     "end_time": "2020-03-29T07:44:48.923259Z",
     "start_time": "2020-03-29T07:44:48.790326Z"
    }
   },
   "outputs": [
    {
     "ename": "NameError",
     "evalue": "name 'data_load' is not defined",
     "output_type": "error",
     "traceback": [
      "\u001b[0;31m---------------------------------------------------------------------------\u001b[0m",
      "\u001b[0;31mNameError\u001b[0m                                 Traceback (most recent call last)",
      "\u001b[0;32m<ipython-input-3-90202595f46b>\u001b[0m in \u001b[0;36m<module>\u001b[0;34m\u001b[0m\n\u001b[0;32m----> 1\u001b[0;31m \u001b[0mgraph_array\u001b[0m \u001b[0;34m=\u001b[0m \u001b[0mdata_load\u001b[0m\u001b[0;34m(\u001b[0m\u001b[0;34m'graph_array_368.dat'\u001b[0m\u001b[0;34m)\u001b[0m\u001b[0;34m\u001b[0m\u001b[0;34m\u001b[0m\u001b[0m\n\u001b[0m\u001b[1;32m      2\u001b[0m \u001b[0;31m# id_graph = 9\u001b[0m\u001b[0;34m\u001b[0m\u001b[0;34m\u001b[0m\u001b[0;34m\u001b[0m\u001b[0m\n\u001b[1;32m      3\u001b[0m \u001b[0;31m# id_graph\u001b[0m\u001b[0;34m\u001b[0m\u001b[0;34m\u001b[0m\u001b[0;34m\u001b[0m\u001b[0m\n",
      "\u001b[0;31mNameError\u001b[0m: name 'data_load' is not defined"
     ]
    }
   ],
   "source": [
    "graph_array = data_load('graph_array_368.dat')\n",
    "# id_graph = 9\n",
    "# id_graph"
   ]
  },
  {
   "cell_type": "code",
   "execution_count": null,
   "metadata": {
    "ExecuteTime": {
     "end_time": "2020-03-29T07:44:48.926800Z",
     "start_time": "2020-03-29T07:44:48.332Z"
    }
   },
   "outputs": [],
   "source": [
    "G0 = nx.Graph()\n",
    "G0.add_nodes_from(['Y','S','R','C','A','T'], size=10)\n",
    "# pos = nx.spring_layout(G,k=12,seed=12) #9\n",
    "# pos = nx.circular_layout(G) \n",
    "pos = nx.circular_layout(G0)\n",
    "def plot_graph(G):\n",
    "#     G = nx.DiGraph() # Graph()\n",
    "#     G = graph_array[id_graph]\n",
    "    G.add_nodes_from(['Y','S','R','C','A','T'])\n",
    "    # G.add_edges_from(all_edges) \n",
    "    # G.add_weighted_edges_from([(1, 2, 0.5), (3, 1, 0.75)])\n",
    "    # G.add_weighted_edges_from(all_edges_weights)\n",
    "    nx.draw_networkx(G, pos,with_label = True,node_color ='green',node_size = 1000,font_size=16) "
   ]
  },
  {
   "cell_type": "code",
   "execution_count": null,
   "metadata": {
    "ExecuteTime": {
     "end_time": "2020-03-29T07:44:48.927378Z",
     "start_time": "2020-03-29T07:44:48.334Z"
    }
   },
   "outputs": [],
   "source": [
    "def graph_length(G):\n",
    "    return nx.algorithms.dag.dag_longest_path_length(G)"
   ]
  },
  {
   "cell_type": "code",
   "execution_count": null,
   "metadata": {
    "ExecuteTime": {
     "end_time": "2020-03-29T07:44:48.927867Z",
     "start_time": "2020-03-29T07:44:48.336Z"
    }
   },
   "outputs": [],
   "source": [
    "def get_task_list(G):\n",
    "    dist = {n:len(max(nx.all_simple_paths(G, n, 'Y'), key=lambda x: len(x)))-1 for n in G.nodes if n != 'Y'}\n",
    "    dist.update({'Y':0}) # {'C': 3, 'A': 1, 'R': 2, 'S': 1, 'Y': 0}\n",
    "    \n",
    "    node_array = sorted(dist.keys(), key= lambda k : dist[k]) # ['Y', 'A', 'S', 'R', 'C']\n",
    "    \n",
    "    xy_array = []\n",
    "    for node in node_array[:-1]: # last one is 'C'\n",
    "        xs = [x for x in G.predecessors(node)]\n",
    "#         xs = xs_regular(xs)\n",
    "        xy_array.append([xs,node])\n",
    "    return xy_array"
   ]
  },
  {
   "cell_type": "code",
   "execution_count": null,
   "metadata": {
    "ExecuteTime": {
     "end_time": "2020-03-29T07:44:48.928332Z",
     "start_time": "2020-03-29T07:44:48.339Z"
    }
   },
   "outputs": [],
   "source": [
    "def to_str(G):\n",
    "    xy_array = get_task_list(G)\n",
    "    s = []\n",
    "    for xy in xy_array[::-1]:\n",
    "        if s != []:\n",
    "            s += ', '\n",
    "        s += ''.join(xy[0]) +'->' + xy[1]\n",
    "    s = ''.join(s)\n",
    "    return s"
   ]
  },
  {
   "cell_type": "code",
   "execution_count": null,
   "metadata": {
    "ExecuteTime": {
     "end_time": "2020-03-29T07:44:48.929951Z",
     "start_time": "2020-03-29T07:44:48.342Z"
    }
   },
   "outputs": [],
   "source": [
    "graph_array[0].nodes"
   ]
  },
  {
   "cell_type": "code",
   "execution_count": null,
   "metadata": {
    "ExecuteTime": {
     "end_time": "2020-03-29T07:44:48.931586Z",
     "start_time": "2020-03-29T07:44:48.345Z"
    },
    "scrolled": true
   },
   "outputs": [],
   "source": [
    "length_array,nodes_array,str_array = [],[],[]\n",
    "for G in graph_array:\n",
    "    length_array.append(graph_length(G))\n",
    "    nodes_array.append(''.join(G.nodes))\n",
    "    str_array.append(to_str(G))\n",
    "#     print(''.join(G.nodes))"
   ]
  },
  {
   "cell_type": "code",
   "execution_count": null,
   "metadata": {
    "ExecuteTime": {
     "end_time": "2020-03-29T07:44:48.933273Z",
     "start_time": "2020-03-29T07:44:48.347Z"
    }
   },
   "outputs": [],
   "source": [
    "plot_graph(G)"
   ]
  },
  {
   "cell_type": "code",
   "execution_count": null,
   "metadata": {
    "ExecuteTime": {
     "end_time": "2020-03-29T07:44:48.934951Z",
     "start_time": "2020-03-29T07:44:48.350Z"
    }
   },
   "outputs": [],
   "source": [
    "to_str(G)"
   ]
  },
  {
   "cell_type": "code",
   "execution_count": null,
   "metadata": {
    "ExecuteTime": {
     "end_time": "2020-03-29T07:44:48.936616Z",
     "start_time": "2020-03-29T07:44:48.353Z"
    }
   },
   "outputs": [],
   "source": [
    "id_graph = 8\n",
    "plot_graph(graph_array[id_graph])\n",
    "graph_length(graph_array[id_graph])"
   ]
  },
  {
   "cell_type": "markdown",
   "metadata": {},
   "source": [
    "## load"
   ]
  },
  {
   "cell_type": "code",
   "execution_count": 4,
   "metadata": {
    "ExecuteTime": {
     "end_time": "2020-03-29T07:45:18.993292Z",
     "start_time": "2020-03-29T07:45:18.944982Z"
    }
   },
   "outputs": [
    {
     "data": {
      "text/html": [
       "<div>\n",
       "<style scoped>\n",
       "    .dataframe tbody tr th:only-of-type {\n",
       "        vertical-align: middle;\n",
       "    }\n",
       "\n",
       "    .dataframe tbody tr th {\n",
       "        vertical-align: top;\n",
       "    }\n",
       "\n",
       "    .dataframe thead th {\n",
       "        text-align: right;\n",
       "    }\n",
       "</style>\n",
       "<table border=\"1\" class=\"dataframe\">\n",
       "  <thead>\n",
       "    <tr style=\"text-align: right;\">\n",
       "      <th></th>\n",
       "      <th>Unnamed: 0</th>\n",
       "      <th>r2_score</th>\n",
       "      <th>mean_squared_error</th>\n",
       "      <th>scaled_rmse</th>\n",
       "      <th>r2_score (median pred)</th>\n",
       "      <th>mean_squared_error (median pred)</th>\n",
       "      <th>scaled_rmse (median pred)</th>\n",
       "      <th>KL_Gaussian (ps mean)</th>\n",
       "      <th>KL_Gaussian_var (ps mean)</th>\n",
       "      <th>KL_Gaussian (ps median)</th>\n",
       "      <th>KL_Gaussian_var (ps median)</th>\n",
       "      <th>KL_Gaussian(p) (ps mean)</th>\n",
       "      <th>KL_Gaussian_var(p) (ps mean)</th>\n",
       "      <th>KL_Gaussian(p) (ps median)</th>\n",
       "      <th>KL_Gaussian_var(p) (ps median)</th>\n",
       "      <th>model</th>\n",
       "    </tr>\n",
       "  </thead>\n",
       "  <tbody>\n",
       "    <tr>\n",
       "      <th>0</th>\n",
       "      <td>0</td>\n",
       "      <td>0.761563</td>\n",
       "      <td>0.560894</td>\n",
       "      <td>0.157268</td>\n",
       "      <td>0.760548</td>\n",
       "      <td>0.563283</td>\n",
       "      <td>0.157603</td>\n",
       "      <td>24.504111</td>\n",
       "      <td>24.242139</td>\n",
       "      <td>6.706535</td>\n",
       "      <td>6.706535</td>\n",
       "      <td>46.176207</td>\n",
       "      <td>45.627178</td>\n",
       "      <td>10.620480</td>\n",
       "      <td>10.570977</td>\n",
       "      <td>C-&gt;A(GradientBoostingRegressor), CA-&gt;T(Gradien...</td>\n",
       "    </tr>\n",
       "    <tr>\n",
       "      <th>1</th>\n",
       "      <td>0</td>\n",
       "      <td>0.798153</td>\n",
       "      <td>0.469180</td>\n",
       "      <td>0.147069</td>\n",
       "      <td>0.797141</td>\n",
       "      <td>0.471532</td>\n",
       "      <td>0.147437</td>\n",
       "      <td>139.825488</td>\n",
       "      <td>136.297301</td>\n",
       "      <td>51.929482</td>\n",
       "      <td>51.098906</td>\n",
       "      <td>251.055490</td>\n",
       "      <td>242.616648</td>\n",
       "      <td>50.143684</td>\n",
       "      <td>46.151424</td>\n",
       "      <td>C-&gt;A(GradientBoostingRegressor), CA-&gt;T(Gradien...</td>\n",
       "    </tr>\n",
       "    <tr>\n",
       "      <th>2</th>\n",
       "      <td>0</td>\n",
       "      <td>0.784417</td>\n",
       "      <td>0.485352</td>\n",
       "      <td>0.147592</td>\n",
       "      <td>0.784531</td>\n",
       "      <td>0.485095</td>\n",
       "      <td>0.147553</td>\n",
       "      <td>172.113702</td>\n",
       "      <td>168.856632</td>\n",
       "      <td>48.408563</td>\n",
       "      <td>46.124527</td>\n",
       "      <td>207.018459</td>\n",
       "      <td>202.890838</td>\n",
       "      <td>43.747763</td>\n",
       "      <td>41.651629</td>\n",
       "      <td>C-&gt;A(GradientBoostingRegressor), CA-&gt;T(Gradien...</td>\n",
       "    </tr>\n",
       "    <tr>\n",
       "      <th>3</th>\n",
       "      <td>0</td>\n",
       "      <td>0.769235</td>\n",
       "      <td>0.526380</td>\n",
       "      <td>0.154079</td>\n",
       "      <td>0.765336</td>\n",
       "      <td>0.535276</td>\n",
       "      <td>0.155376</td>\n",
       "      <td>38.550665</td>\n",
       "      <td>38.139327</td>\n",
       "      <td>5.366794</td>\n",
       "      <td>5.184984</td>\n",
       "      <td>61.729176</td>\n",
       "      <td>60.387027</td>\n",
       "      <td>8.630439</td>\n",
       "      <td>8.630439</td>\n",
       "      <td>C-&gt;A(GradientBoostingRegressor), CA-&gt;T(Gradien...</td>\n",
       "    </tr>\n",
       "    <tr>\n",
       "      <th>4</th>\n",
       "      <td>0</td>\n",
       "      <td>0.801348</td>\n",
       "      <td>0.450903</td>\n",
       "      <td>0.143422</td>\n",
       "      <td>0.802762</td>\n",
       "      <td>0.447693</td>\n",
       "      <td>0.142911</td>\n",
       "      <td>117.772934</td>\n",
       "      <td>115.420824</td>\n",
       "      <td>37.736617</td>\n",
       "      <td>35.209089</td>\n",
       "      <td>252.099940</td>\n",
       "      <td>247.852110</td>\n",
       "      <td>46.090758</td>\n",
       "      <td>45.336298</td>\n",
       "      <td>C-&gt;A(GradientBoostingRegressor), CA-&gt;T(Gradien...</td>\n",
       "    </tr>\n",
       "    <tr>\n",
       "      <th>5</th>\n",
       "      <td>0</td>\n",
       "      <td>0.794241</td>\n",
       "      <td>0.468380</td>\n",
       "      <td>0.145824</td>\n",
       "      <td>0.784020</td>\n",
       "      <td>0.491646</td>\n",
       "      <td>0.149402</td>\n",
       "      <td>18.116080</td>\n",
       "      <td>17.960405</td>\n",
       "      <td>3.844733</td>\n",
       "      <td>3.778591</td>\n",
       "      <td>33.209495</td>\n",
       "      <td>32.747733</td>\n",
       "      <td>5.113165</td>\n",
       "      <td>5.110162</td>\n",
       "      <td>C-&gt;A(GradientBoostingRegressor), CA-&gt;T(Gradien...</td>\n",
       "    </tr>\n",
       "    <tr>\n",
       "      <th>6</th>\n",
       "      <td>0</td>\n",
       "      <td>0.814480</td>\n",
       "      <td>0.417455</td>\n",
       "      <td>0.136549</td>\n",
       "      <td>0.814587</td>\n",
       "      <td>0.417214</td>\n",
       "      <td>0.136510</td>\n",
       "      <td>217.153485</td>\n",
       "      <td>212.211877</td>\n",
       "      <td>55.130997</td>\n",
       "      <td>53.140159</td>\n",
       "      <td>269.801714</td>\n",
       "      <td>262.961626</td>\n",
       "      <td>64.352478</td>\n",
       "      <td>62.978054</td>\n",
       "      <td>C-&gt;A(GradientBoostingRegressor), CA-&gt;T(Gradien...</td>\n",
       "    </tr>\n",
       "    <tr>\n",
       "      <th>7</th>\n",
       "      <td>0</td>\n",
       "      <td>0.777508</td>\n",
       "      <td>0.532010</td>\n",
       "      <td>0.155073</td>\n",
       "      <td>0.774254</td>\n",
       "      <td>0.539790</td>\n",
       "      <td>0.156202</td>\n",
       "      <td>113.450371</td>\n",
       "      <td>112.143957</td>\n",
       "      <td>19.044301</td>\n",
       "      <td>17.572325</td>\n",
       "      <td>268.202457</td>\n",
       "      <td>264.735798</td>\n",
       "      <td>26.673200</td>\n",
       "      <td>21.509050</td>\n",
       "      <td>C-&gt;A(GradientBoostingRegressor), CA-&gt;T(Gradien...</td>\n",
       "    </tr>\n",
       "    <tr>\n",
       "      <th>8</th>\n",
       "      <td>0</td>\n",
       "      <td>0.781309</td>\n",
       "      <td>0.480316</td>\n",
       "      <td>0.145283</td>\n",
       "      <td>0.778275</td>\n",
       "      <td>0.486980</td>\n",
       "      <td>0.146287</td>\n",
       "      <td>129.895155</td>\n",
       "      <td>129.293522</td>\n",
       "      <td>4.362983</td>\n",
       "      <td>4.247193</td>\n",
       "      <td>704.624021</td>\n",
       "      <td>701.173649</td>\n",
       "      <td>4.284502</td>\n",
       "      <td>4.063544</td>\n",
       "      <td>C-&gt;A(GradientBoostingRegressor), CA-&gt;T(Gradien...</td>\n",
       "    </tr>\n",
       "    <tr>\n",
       "      <th>9</th>\n",
       "      <td>0</td>\n",
       "      <td>0.753900</td>\n",
       "      <td>0.591484</td>\n",
       "      <td>0.165609</td>\n",
       "      <td>0.753178</td>\n",
       "      <td>0.593218</td>\n",
       "      <td>0.165852</td>\n",
       "      <td>86.763322</td>\n",
       "      <td>86.074288</td>\n",
       "      <td>17.969360</td>\n",
       "      <td>17.732219</td>\n",
       "      <td>113.522778</td>\n",
       "      <td>112.257880</td>\n",
       "      <td>26.521446</td>\n",
       "      <td>25.296572</td>\n",
       "      <td>C-&gt;A(GradientBoostingRegressor), CA-&gt;T(Gradien...</td>\n",
       "    </tr>\n",
       "    <tr>\n",
       "      <th>10</th>\n",
       "      <td>0</td>\n",
       "      <td>0.769322</td>\n",
       "      <td>0.532639</td>\n",
       "      <td>0.156828</td>\n",
       "      <td>0.764839</td>\n",
       "      <td>0.542991</td>\n",
       "      <td>0.158345</td>\n",
       "      <td>122.704938</td>\n",
       "      <td>121.439492</td>\n",
       "      <td>20.315031</td>\n",
       "      <td>19.399531</td>\n",
       "      <td>206.502826</td>\n",
       "      <td>203.235576</td>\n",
       "      <td>31.718283</td>\n",
       "      <td>27.888269</td>\n",
       "      <td>C-&gt;A(GradientBoostingRegressor), CA-&gt;T(Gradien...</td>\n",
       "    </tr>\n",
       "    <tr>\n",
       "      <th>11</th>\n",
       "      <td>0</td>\n",
       "      <td>0.793562</td>\n",
       "      <td>0.498272</td>\n",
       "      <td>0.150000</td>\n",
       "      <td>0.791593</td>\n",
       "      <td>0.503026</td>\n",
       "      <td>0.150714</td>\n",
       "      <td>65.717869</td>\n",
       "      <td>65.203752</td>\n",
       "      <td>14.471976</td>\n",
       "      <td>14.469359</td>\n",
       "      <td>127.667042</td>\n",
       "      <td>126.119439</td>\n",
       "      <td>12.985890</td>\n",
       "      <td>12.587515</td>\n",
       "      <td>C-&gt;A(GradientBoostingRegressor), CA-&gt;T(Gradien...</td>\n",
       "    </tr>\n",
       "    <tr>\n",
       "      <th>12</th>\n",
       "      <td>0</td>\n",
       "      <td>0.809483</td>\n",
       "      <td>0.442693</td>\n",
       "      <td>0.141976</td>\n",
       "      <td>0.807583</td>\n",
       "      <td>0.447108</td>\n",
       "      <td>0.142683</td>\n",
       "      <td>247.795927</td>\n",
       "      <td>242.810896</td>\n",
       "      <td>42.511473</td>\n",
       "      <td>38.715886</td>\n",
       "      <td>452.007444</td>\n",
       "      <td>440.785666</td>\n",
       "      <td>77.543208</td>\n",
       "      <td>69.869287</td>\n",
       "      <td>C-&gt;A(GradientBoostingRegressor), CA-&gt;T(Gradien...</td>\n",
       "    </tr>\n",
       "    <tr>\n",
       "      <th>13</th>\n",
       "      <td>0</td>\n",
       "      <td>0.785981</td>\n",
       "      <td>0.485240</td>\n",
       "      <td>0.148297</td>\n",
       "      <td>0.786925</td>\n",
       "      <td>0.483102</td>\n",
       "      <td>0.147969</td>\n",
       "      <td>350.314752</td>\n",
       "      <td>343.390935</td>\n",
       "      <td>80.379663</td>\n",
       "      <td>69.495082</td>\n",
       "      <td>484.987393</td>\n",
       "      <td>475.829011</td>\n",
       "      <td>121.086703</td>\n",
       "      <td>110.599350</td>\n",
       "      <td>C-&gt;A(GradientBoostingRegressor), CA-&gt;T(Gradien...</td>\n",
       "    </tr>\n",
       "    <tr>\n",
       "      <th>14</th>\n",
       "      <td>0</td>\n",
       "      <td>0.775616</td>\n",
       "      <td>0.504543</td>\n",
       "      <td>0.151048</td>\n",
       "      <td>0.768649</td>\n",
       "      <td>0.520209</td>\n",
       "      <td>0.153375</td>\n",
       "      <td>38.302523</td>\n",
       "      <td>37.771124</td>\n",
       "      <td>10.055658</td>\n",
       "      <td>10.055658</td>\n",
       "      <td>71.973550</td>\n",
       "      <td>70.099276</td>\n",
       "      <td>17.171459</td>\n",
       "      <td>16.100186</td>\n",
       "      <td>C-&gt;A(GradientBoostingRegressor), CA-&gt;T(Gradien...</td>\n",
       "    </tr>\n",
       "    <tr>\n",
       "      <th>15</th>\n",
       "      <td>0</td>\n",
       "      <td>0.764780</td>\n",
       "      <td>0.561048</td>\n",
       "      <td>0.160286</td>\n",
       "      <td>0.748248</td>\n",
       "      <td>0.600481</td>\n",
       "      <td>0.165824</td>\n",
       "      <td>64.335277</td>\n",
       "      <td>63.841354</td>\n",
       "      <td>9.058533</td>\n",
       "      <td>8.293489</td>\n",
       "      <td>151.403166</td>\n",
       "      <td>150.098497</td>\n",
       "      <td>16.037251</td>\n",
       "      <td>16.035339</td>\n",
       "      <td>C-&gt;A(GradientBoostingRegressor), CA-&gt;T(Gradien...</td>\n",
       "    </tr>\n",
       "    <tr>\n",
       "      <th>16</th>\n",
       "      <td>0</td>\n",
       "      <td>0.848015</td>\n",
       "      <td>0.358134</td>\n",
       "      <td>0.127372</td>\n",
       "      <td>0.847781</td>\n",
       "      <td>0.358685</td>\n",
       "      <td>0.127470</td>\n",
       "      <td>193.490404</td>\n",
       "      <td>189.659554</td>\n",
       "      <td>52.130828</td>\n",
       "      <td>50.863222</td>\n",
       "      <td>518.868458</td>\n",
       "      <td>507.446352</td>\n",
       "      <td>49.183325</td>\n",
       "      <td>47.690096</td>\n",
       "      <td>C-&gt;A(GradientBoostingRegressor), CA-&gt;T(Gradien...</td>\n",
       "    </tr>\n",
       "    <tr>\n",
       "      <th>17</th>\n",
       "      <td>0</td>\n",
       "      <td>0.836516</td>\n",
       "      <td>0.369356</td>\n",
       "      <td>0.127789</td>\n",
       "      <td>0.836642</td>\n",
       "      <td>0.369073</td>\n",
       "      <td>0.127740</td>\n",
       "      <td>183.624847</td>\n",
       "      <td>180.143917</td>\n",
       "      <td>38.777563</td>\n",
       "      <td>36.870342</td>\n",
       "      <td>276.366919</td>\n",
       "      <td>270.307214</td>\n",
       "      <td>43.820206</td>\n",
       "      <td>38.488650</td>\n",
       "      <td>C-&gt;A(GradientBoostingRegressor), CA-&gt;T(Gradien...</td>\n",
       "    </tr>\n",
       "    <tr>\n",
       "      <th>18</th>\n",
       "      <td>0</td>\n",
       "      <td>0.808837</td>\n",
       "      <td>0.446128</td>\n",
       "      <td>0.143134</td>\n",
       "      <td>0.807687</td>\n",
       "      <td>0.448811</td>\n",
       "      <td>0.143564</td>\n",
       "      <td>227.513306</td>\n",
       "      <td>223.701182</td>\n",
       "      <td>50.227561</td>\n",
       "      <td>49.373381</td>\n",
       "      <td>516.955317</td>\n",
       "      <td>509.875827</td>\n",
       "      <td>67.458853</td>\n",
       "      <td>61.622342</td>\n",
       "      <td>C-&gt;A(GradientBoostingRegressor), CA-&gt;T(Gradien...</td>\n",
       "    </tr>\n",
       "    <tr>\n",
       "      <th>19</th>\n",
       "      <td>0</td>\n",
       "      <td>0.810376</td>\n",
       "      <td>0.449696</td>\n",
       "      <td>0.141695</td>\n",
       "      <td>0.808254</td>\n",
       "      <td>0.454729</td>\n",
       "      <td>0.142486</td>\n",
       "      <td>38.827711</td>\n",
       "      <td>38.297078</td>\n",
       "      <td>8.180539</td>\n",
       "      <td>8.045295</td>\n",
       "      <td>85.252140</td>\n",
       "      <td>84.149229</td>\n",
       "      <td>10.866123</td>\n",
       "      <td>10.233916</td>\n",
       "      <td>C-&gt;A(GradientBoostingRegressor), CA-&gt;T(Gradien...</td>\n",
       "    </tr>\n",
       "  </tbody>\n",
       "</table>\n",
       "</div>"
      ],
      "text/plain": [
       "    Unnamed: 0  r2_score  mean_squared_error  scaled_rmse  \\\n",
       "0            0  0.761563            0.560894     0.157268   \n",
       "1            0  0.798153            0.469180     0.147069   \n",
       "2            0  0.784417            0.485352     0.147592   \n",
       "3            0  0.769235            0.526380     0.154079   \n",
       "4            0  0.801348            0.450903     0.143422   \n",
       "5            0  0.794241            0.468380     0.145824   \n",
       "6            0  0.814480            0.417455     0.136549   \n",
       "7            0  0.777508            0.532010     0.155073   \n",
       "8            0  0.781309            0.480316     0.145283   \n",
       "9            0  0.753900            0.591484     0.165609   \n",
       "10           0  0.769322            0.532639     0.156828   \n",
       "11           0  0.793562            0.498272     0.150000   \n",
       "12           0  0.809483            0.442693     0.141976   \n",
       "13           0  0.785981            0.485240     0.148297   \n",
       "14           0  0.775616            0.504543     0.151048   \n",
       "15           0  0.764780            0.561048     0.160286   \n",
       "16           0  0.848015            0.358134     0.127372   \n",
       "17           0  0.836516            0.369356     0.127789   \n",
       "18           0  0.808837            0.446128     0.143134   \n",
       "19           0  0.810376            0.449696     0.141695   \n",
       "\n",
       "    r2_score (median pred)  mean_squared_error (median pred)  \\\n",
       "0                 0.760548                          0.563283   \n",
       "1                 0.797141                          0.471532   \n",
       "2                 0.784531                          0.485095   \n",
       "3                 0.765336                          0.535276   \n",
       "4                 0.802762                          0.447693   \n",
       "5                 0.784020                          0.491646   \n",
       "6                 0.814587                          0.417214   \n",
       "7                 0.774254                          0.539790   \n",
       "8                 0.778275                          0.486980   \n",
       "9                 0.753178                          0.593218   \n",
       "10                0.764839                          0.542991   \n",
       "11                0.791593                          0.503026   \n",
       "12                0.807583                          0.447108   \n",
       "13                0.786925                          0.483102   \n",
       "14                0.768649                          0.520209   \n",
       "15                0.748248                          0.600481   \n",
       "16                0.847781                          0.358685   \n",
       "17                0.836642                          0.369073   \n",
       "18                0.807687                          0.448811   \n",
       "19                0.808254                          0.454729   \n",
       "\n",
       "    scaled_rmse (median pred)  KL_Gaussian (ps mean)  \\\n",
       "0                    0.157603              24.504111   \n",
       "1                    0.147437             139.825488   \n",
       "2                    0.147553             172.113702   \n",
       "3                    0.155376              38.550665   \n",
       "4                    0.142911             117.772934   \n",
       "5                    0.149402              18.116080   \n",
       "6                    0.136510             217.153485   \n",
       "7                    0.156202             113.450371   \n",
       "8                    0.146287             129.895155   \n",
       "9                    0.165852              86.763322   \n",
       "10                   0.158345             122.704938   \n",
       "11                   0.150714              65.717869   \n",
       "12                   0.142683             247.795927   \n",
       "13                   0.147969             350.314752   \n",
       "14                   0.153375              38.302523   \n",
       "15                   0.165824              64.335277   \n",
       "16                   0.127470             193.490404   \n",
       "17                   0.127740             183.624847   \n",
       "18                   0.143564             227.513306   \n",
       "19                   0.142486              38.827711   \n",
       "\n",
       "    KL_Gaussian_var (ps mean)  KL_Gaussian (ps median)  \\\n",
       "0                   24.242139                 6.706535   \n",
       "1                  136.297301                51.929482   \n",
       "2                  168.856632                48.408563   \n",
       "3                   38.139327                 5.366794   \n",
       "4                  115.420824                37.736617   \n",
       "5                   17.960405                 3.844733   \n",
       "6                  212.211877                55.130997   \n",
       "7                  112.143957                19.044301   \n",
       "8                  129.293522                 4.362983   \n",
       "9                   86.074288                17.969360   \n",
       "10                 121.439492                20.315031   \n",
       "11                  65.203752                14.471976   \n",
       "12                 242.810896                42.511473   \n",
       "13                 343.390935                80.379663   \n",
       "14                  37.771124                10.055658   \n",
       "15                  63.841354                 9.058533   \n",
       "16                 189.659554                52.130828   \n",
       "17                 180.143917                38.777563   \n",
       "18                 223.701182                50.227561   \n",
       "19                  38.297078                 8.180539   \n",
       "\n",
       "    KL_Gaussian_var (ps median)  KL_Gaussian(p) (ps mean)  \\\n",
       "0                      6.706535                 46.176207   \n",
       "1                     51.098906                251.055490   \n",
       "2                     46.124527                207.018459   \n",
       "3                      5.184984                 61.729176   \n",
       "4                     35.209089                252.099940   \n",
       "5                      3.778591                 33.209495   \n",
       "6                     53.140159                269.801714   \n",
       "7                     17.572325                268.202457   \n",
       "8                      4.247193                704.624021   \n",
       "9                     17.732219                113.522778   \n",
       "10                    19.399531                206.502826   \n",
       "11                    14.469359                127.667042   \n",
       "12                    38.715886                452.007444   \n",
       "13                    69.495082                484.987393   \n",
       "14                    10.055658                 71.973550   \n",
       "15                     8.293489                151.403166   \n",
       "16                    50.863222                518.868458   \n",
       "17                    36.870342                276.366919   \n",
       "18                    49.373381                516.955317   \n",
       "19                     8.045295                 85.252140   \n",
       "\n",
       "    KL_Gaussian_var(p) (ps mean)  KL_Gaussian(p) (ps median)  \\\n",
       "0                      45.627178                   10.620480   \n",
       "1                     242.616648                   50.143684   \n",
       "2                     202.890838                   43.747763   \n",
       "3                      60.387027                    8.630439   \n",
       "4                     247.852110                   46.090758   \n",
       "5                      32.747733                    5.113165   \n",
       "6                     262.961626                   64.352478   \n",
       "7                     264.735798                   26.673200   \n",
       "8                     701.173649                    4.284502   \n",
       "9                     112.257880                   26.521446   \n",
       "10                    203.235576                   31.718283   \n",
       "11                    126.119439                   12.985890   \n",
       "12                    440.785666                   77.543208   \n",
       "13                    475.829011                  121.086703   \n",
       "14                     70.099276                   17.171459   \n",
       "15                    150.098497                   16.037251   \n",
       "16                    507.446352                   49.183325   \n",
       "17                    270.307214                   43.820206   \n",
       "18                    509.875827                   67.458853   \n",
       "19                     84.149229                   10.866123   \n",
       "\n",
       "    KL_Gaussian_var(p) (ps median)  \\\n",
       "0                        10.570977   \n",
       "1                        46.151424   \n",
       "2                        41.651629   \n",
       "3                         8.630439   \n",
       "4                        45.336298   \n",
       "5                         5.110162   \n",
       "6                        62.978054   \n",
       "7                        21.509050   \n",
       "8                         4.063544   \n",
       "9                        25.296572   \n",
       "10                       27.888269   \n",
       "11                       12.587515   \n",
       "12                       69.869287   \n",
       "13                      110.599350   \n",
       "14                       16.100186   \n",
       "15                       16.035339   \n",
       "16                       47.690096   \n",
       "17                       38.488650   \n",
       "18                       61.622342   \n",
       "19                       10.233916   \n",
       "\n",
       "                                                model  \n",
       "0   C->A(GradientBoostingRegressor), CA->T(Gradien...  \n",
       "1   C->A(GradientBoostingRegressor), CA->T(Gradien...  \n",
       "2   C->A(GradientBoostingRegressor), CA->T(Gradien...  \n",
       "3   C->A(GradientBoostingRegressor), CA->T(Gradien...  \n",
       "4   C->A(GradientBoostingRegressor), CA->T(Gradien...  \n",
       "5   C->A(GradientBoostingRegressor), CA->T(Gradien...  \n",
       "6   C->A(GradientBoostingRegressor), CA->T(Gradien...  \n",
       "7   C->A(GradientBoostingRegressor), CA->T(Gradien...  \n",
       "8   C->A(GradientBoostingRegressor), CA->T(Gradien...  \n",
       "9   C->A(GradientBoostingRegressor), CA->T(Gradien...  \n",
       "10  C->A(GradientBoostingRegressor), CA->T(Gradien...  \n",
       "11  C->A(GradientBoostingRegressor), CA->T(Gradien...  \n",
       "12  C->A(GradientBoostingRegressor), CA->T(Gradien...  \n",
       "13  C->A(GradientBoostingRegressor), CA->T(Gradien...  \n",
       "14  C->A(GradientBoostingRegressor), CA->T(Gradien...  \n",
       "15  C->A(GradientBoostingRegressor), CA->T(Gradien...  \n",
       "16  C->A(GradientBoostingRegressor), CA->T(Gradien...  \n",
       "17  C->A(GradientBoostingRegressor), CA->T(Gradien...  \n",
       "18  C->A(GradientBoostingRegressor), CA->T(Gradien...  \n",
       "19  C->A(GradientBoostingRegressor), CA->T(Gradien...  "
      ]
     },
     "execution_count": 4,
     "metadata": {},
     "output_type": "execute_result"
    }
   ],
   "source": [
    "pd.read_excel('scores/score_graph_212.xlsx',)"
   ]
  },
  {
   "cell_type": "code",
   "execution_count": null,
   "metadata": {
    "ExecuteTime": {
     "end_time": "2020-03-29T07:44:48.938270Z",
     "start_time": "2020-03-29T07:44:48.440Z"
    }
   },
   "outputs": [],
   "source": [
    "score_array = []\n",
    "metric_value_array_all = []\n",
    "for i in range(368):\n",
    "    metric_value_array = data_load('scores/score_graph_%d.dat'%i)\n",
    "    metric_value_array_all.append(np.mean(metric_value_array,axis=0)[0])\n",
    "    score = np.mean(metric_value_array,axis=0)[0][0]\n",
    "    score_array.append(score)"
   ]
  },
  {
   "cell_type": "code",
   "execution_count": null,
   "metadata": {
    "ExecuteTime": {
     "end_time": "2020-03-29T07:44:48.940665Z",
     "start_time": "2020-03-29T07:44:48.442Z"
    }
   },
   "outputs": [],
   "source": [
    "data_load('scores/score_graph_%d.dat'%0)"
   ]
  },
  {
   "cell_type": "code",
   "execution_count": null,
   "metadata": {
    "ExecuteTime": {
     "end_time": "2020-03-29T07:44:48.941480Z",
     "start_time": "2020-03-29T07:44:48.445Z"
    }
   },
   "outputs": [],
   "source": [
    "np.mean(data_load('scores/score_graph_%d.dat'%0),axis=0)[0]"
   ]
  },
  {
   "cell_type": "code",
   "execution_count": null,
   "metadata": {
    "ExecuteTime": {
     "end_time": "2020-03-29T07:44:48.942093Z",
     "start_time": "2020-03-29T07:44:48.447Z"
    }
   },
   "outputs": [],
   "source": [
    "np.mean(data_load('scores/score_graph_%d.dat'%8),axis=0)[0]"
   ]
  },
  {
   "cell_type": "code",
   "execution_count": null,
   "metadata": {
    "ExecuteTime": {
     "end_time": "2020-03-29T07:44:48.942659Z",
     "start_time": "2020-03-29T07:44:48.451Z"
    }
   },
   "outputs": [],
   "source": [
    "metrics = [r2_score, mean_squared_error, scaled_rmse]\n",
    "metric_name = [[m.__name__ for m in metrics]]"
   ]
  },
  {
   "cell_type": "code",
   "execution_count": null,
   "metadata": {
    "ExecuteTime": {
     "end_time": "2020-03-29T07:44:48.943246Z",
     "start_time": "2020-03-29T07:44:48.454Z"
    },
    "scrolled": true
   },
   "outputs": [],
   "source": [
    "metric_array = np.array(metric_value_array_all)\n",
    "df = pd.DataFrame(metric_array,columns=metric_name)\n",
    "df['length'] = length_array\n",
    "df['nodes'] = nodes_array\n",
    "df['str'] = str_array\n",
    "df.to_excel('tmp.xlsx')"
   ]
  },
  {
   "cell_type": "code",
   "execution_count": null,
   "metadata": {
    "ExecuteTime": {
     "end_time": "2020-03-29T07:44:48.943896Z",
     "start_time": "2020-03-29T07:44:48.457Z"
    }
   },
   "outputs": [],
   "source": [
    "i = np.argmax(score_array)\n",
    "i"
   ]
  },
  {
   "cell_type": "code",
   "execution_count": null,
   "metadata": {
    "ExecuteTime": {
     "end_time": "2020-03-29T07:44:48.944587Z",
     "start_time": "2020-03-29T07:44:48.460Z"
    }
   },
   "outputs": [],
   "source": [
    "plot_graph(graph_array[i])\n",
    "plt.title('r2-score = %g'%score_array[i]);\n",
    "plt.savefig('graph-B-GB-best.png')"
   ]
  },
  {
   "cell_type": "code",
   "execution_count": null,
   "metadata": {
    "ExecuteTime": {
     "end_time": "2020-03-29T07:44:48.945184Z",
     "start_time": "2020-03-29T07:44:48.463Z"
    }
   },
   "outputs": [],
   "source": [
    "plt.plot(score_array,'.')"
   ]
  },
  {
   "cell_type": "code",
   "execution_count": null,
   "metadata": {
    "ExecuteTime": {
     "end_time": "2020-03-29T07:44:48.945763Z",
     "start_time": "2020-03-29T07:44:48.465Z"
    }
   },
   "outputs": [],
   "source": [
    "i = 64\n",
    "i = 0\n",
    "plot_graph(graph_array[i])\n",
    "plt.title('r2-score = %g'%score_array[i]);"
   ]
  },
  {
   "cell_type": "code",
   "execution_count": null,
   "metadata": {
    "ExecuteTime": {
     "end_time": "2020-03-29T07:44:48.946443Z",
     "start_time": "2020-03-29T07:44:48.467Z"
    }
   },
   "outputs": [],
   "source": [
    "tops = np.argsort(score_array)"
   ]
  },
  {
   "cell_type": "code",
   "execution_count": null,
   "metadata": {
    "ExecuteTime": {
     "end_time": "2020-03-29T07:44:48.947120Z",
     "start_time": "2020-03-29T07:44:48.471Z"
    },
    "scrolled": false
   },
   "outputs": [],
   "source": [
    "for t in range(1,60):\n",
    "    i = tops[-t]\n",
    "    plot_graph(graph_array[i])\n",
    "#     plt.title('top %d, '%t + 'r2-score = %g'%score_array[i]);\n",
    "    plt.title('top %d, id = %d, '%(t,i) + 'r2-score = %g'%score_array[i]);\n",
    "\n",
    "    plt.savefig('graph-B-GB-top-%d.png'%t);\n",
    "    plt.show();"
   ]
  },
  {
   "cell_type": "code",
   "execution_count": null,
   "metadata": {
    "ExecuteTime": {
     "end_time": "2020-03-29T07:44:48.947704Z",
     "start_time": "2020-03-29T07:44:48.473Z"
    }
   },
   "outputs": [],
   "source": [
    "max(score_array)"
   ]
  },
  {
   "cell_type": "code",
   "execution_count": null,
   "metadata": {
    "ExecuteTime": {
     "end_time": "2020-03-29T07:44:48.948296Z",
     "start_time": "2020-03-29T07:44:48.476Z"
    },
    "scrolled": true
   },
   "outputs": [],
   "source": [
    "max_score = max(score_array)\n",
    "i_array = []\n",
    "for i in range(len(score_array)):\n",
    "    if score_array[i] > max_score * 0.95:\n",
    "        i_array.append(i)\n",
    "#         plot_graph(graph_array[i])\n",
    "#         plt.title('r2-score = %g'%score_array[i]);\n",
    "#         plt.show()"
   ]
  },
  {
   "cell_type": "code",
   "execution_count": null,
   "metadata": {
    "ExecuteTime": {
     "end_time": "2020-03-29T07:44:48.948885Z",
     "start_time": "2020-03-29T07:44:48.478Z"
    }
   },
   "outputs": [],
   "source": [
    "len(i_array)"
   ]
  },
  {
   "cell_type": "markdown",
   "metadata": {},
   "source": [
    "## all"
   ]
  },
  {
   "cell_type": "code",
   "execution_count": null,
   "metadata": {
    "ExecuteTime": {
     "end_time": "2020-03-29T07:44:48.949483Z",
     "start_time": "2020-03-29T07:44:48.569Z"
    }
   },
   "outputs": [],
   "source": [
    "# score_org\n",
    "def edge_score(node_in,node_out):\n",
    "    score = 0\n",
    "    for i in i_array:\n",
    "        G = graph_array[i]\n",
    "        if G.has_edge(node_in,node_out):\n",
    "            score +=1\n",
    "    return score\n",
    "        "
   ]
  },
  {
   "cell_type": "code",
   "execution_count": null,
   "metadata": {
    "ExecuteTime": {
     "end_time": "2020-03-08T04:44:41.752049Z",
     "start_time": "2020-03-08T04:44:41.748197Z"
    }
   },
   "outputs": [],
   "source": []
  },
  {
   "cell_type": "code",
   "execution_count": null,
   "metadata": {},
   "outputs": [],
   "source": []
  },
  {
   "cell_type": "code",
   "execution_count": null,
   "metadata": {
    "ExecuteTime": {
     "end_time": "2020-03-29T07:44:48.950162Z",
     "start_time": "2020-03-29T07:44:48.574Z"
    }
   },
   "outputs": [],
   "source": [
    "all_edges = []\n",
    "all_edges_weights = []\n",
    "for i in list('CARTSY'):\n",
    "    out = 'CARTSY'#.replace(i,'').replace('C','')\n",
    "#     for o in list('CARTSY'):\n",
    "    for o in list(out):\n",
    "        w = edge_score(i,o)\n",
    "        all_edges.append((i,o))\n",
    "        all_edges_weights.append((i,o,w))"
   ]
  },
  {
   "cell_type": "code",
   "execution_count": null,
   "metadata": {
    "ExecuteTime": {
     "end_time": "2020-03-29T07:44:48.950745Z",
     "start_time": "2020-03-29T07:44:48.576Z"
    }
   },
   "outputs": [],
   "source": [
    "all_edges_weights"
   ]
  },
  {
   "cell_type": "code",
   "execution_count": null,
   "metadata": {
    "ExecuteTime": {
     "end_time": "2020-03-29T07:44:48.951330Z",
     "start_time": "2020-03-29T07:44:48.579Z"
    }
   },
   "outputs": [],
   "source": [
    "all_edges_weights = [(i,o,w) for (i,o,w) in all_edges_weights if w>0]"
   ]
  },
  {
   "cell_type": "code",
   "execution_count": null,
   "metadata": {
    "ExecuteTime": {
     "end_time": "2020-03-29T07:44:48.951963Z",
     "start_time": "2020-03-29T07:44:48.581Z"
    }
   },
   "outputs": [],
   "source": [
    "G = nx.DiGraph() # Graph()\n",
    "# G.add_edges_from(all_edges) \n",
    "# G.add_weighted_edges_from([(1, 2, 0.5), (3, 1, 0.75)])\n",
    "G.add_weighted_edges_from(all_edges_weights)\n",
    "nx.draw_networkx(G, pos,with_label = True,node_color ='green',node_size = 1000,font_size=16) "
   ]
  },
  {
   "cell_type": "code",
   "execution_count": null,
   "metadata": {
    "ExecuteTime": {
     "end_time": "2020-03-29T07:44:48.952637Z",
     "start_time": "2020-03-29T07:44:48.583Z"
    }
   },
   "outputs": [],
   "source": [
    "edges,weights = zip(*nx.get_edge_attributes(G,'weight').items())\n",
    "\n",
    "nx.draw_networkx(G, pos,with_label = True,node_color ='green',node_size = 1000,font_size=16,\n",
    "#                  arrowsize=1, #arrowstyle='fancy',\n",
    "#         edge_color=np.array(weights)*10+2, \n",
    "                 width=np.array(weights)/10)\n",
    "# plt.savefig('graph-B-GB.png')\n",
    "# plt.savefig('graph-B-Linear.png')"
   ]
  },
  {
   "cell_type": "code",
   "execution_count": null,
   "metadata": {
    "ExecuteTime": {
     "end_time": "2020-03-29T07:44:48.953225Z",
     "start_time": "2020-03-29T07:44:48.586Z"
    }
   },
   "outputs": [],
   "source": [
    "# nx.draw(G,pos)\n",
    "labels = nx.get_edge_attributes(G,'weight')\n",
    "nx.draw_networkx_edge_labels(G,pos,edge_labels=labels)\n",
    "nx.draw_networkx(G, pos,with_label = True,node_color ='green',node_size = 1000,font_size=16,\n",
    "#                  edge_labels=labels,\n",
    "#                  arrowsize=1, #arrowstyle='fancy',\n",
    "#         edge_color=np.array(weights)*10+2, \n",
    "                 width=np.array(weights)/10)\n",
    "plt.savefig('graph-B-GB.png')"
   ]
  },
  {
   "cell_type": "code",
   "execution_count": null,
   "metadata": {
    "ExecuteTime": {
     "end_time": "2020-03-29T07:44:48.953804Z",
     "start_time": "2020-03-29T07:44:48.589Z"
    }
   },
   "outputs": [],
   "source": [
    "labels"
   ]
  },
  {
   "cell_type": "code",
   "execution_count": null,
   "metadata": {
    "ExecuteTime": {
     "end_time": "2020-03-29T07:44:48.954376Z",
     "start_time": "2020-03-29T07:44:48.591Z"
    }
   },
   "outputs": [],
   "source": [
    "G.edges"
   ]
  },
  {
   "cell_type": "code",
   "execution_count": null,
   "metadata": {
    "ExecuteTime": {
     "end_time": "2020-03-29T07:44:48.954928Z",
     "start_time": "2020-03-29T07:44:48.595Z"
    }
   },
   "outputs": [],
   "source": [
    "[c for c in G.successors('C')]"
   ]
  },
  {
   "cell_type": "code",
   "execution_count": null,
   "metadata": {
    "ExecuteTime": {
     "end_time": "2020-03-29T07:44:48.955500Z",
     "start_time": "2020-03-29T07:44:48.598Z"
    }
   },
   "outputs": [],
   "source": [
    "# G = graph_array[2]"
   ]
  },
  {
   "cell_type": "code",
   "execution_count": null,
   "metadata": {
    "ExecuteTime": {
     "end_time": "2020-03-29T07:44:48.956125Z",
     "start_time": "2020-03-29T07:44:48.600Z"
    }
   },
   "outputs": [],
   "source": [
    "xy_array = get_task_list(G)\n",
    "xy_array"
   ]
  },
  {
   "cell_type": "code",
   "execution_count": null,
   "metadata": {
    "ExecuteTime": {
     "end_time": "2020-03-29T07:44:48.956755Z",
     "start_time": "2020-03-29T07:44:48.603Z"
    }
   },
   "outputs": [],
   "source": [
    "to_str(graph_array[1])"
   ]
  },
  {
   "cell_type": "code",
   "execution_count": null,
   "metadata": {},
   "outputs": [],
   "source": []
  },
  {
   "cell_type": "code",
   "execution_count": null,
   "metadata": {},
   "outputs": [],
   "source": []
  },
  {
   "cell_type": "code",
   "execution_count": null,
   "metadata": {
    "ExecuteTime": {
     "end_time": "2020-03-29T07:44:48.957764Z",
     "start_time": "2020-03-29T07:44:48.607Z"
    }
   },
   "outputs": [],
   "source": [
    "N = 100\n",
    "y = np.random.rand(N)**2+1\n",
    "y_ = y+np.random.randn(N)/10"
   ]
  },
  {
   "cell_type": "code",
   "execution_count": null,
   "metadata": {
    "ExecuteTime": {
     "end_time": "2020-03-29T07:44:48.958897Z",
     "start_time": "2020-03-29T07:44:48.610Z"
    }
   },
   "outputs": [],
   "source": [
    "r2_score(y,y_)"
   ]
  },
  {
   "cell_type": "code",
   "execution_count": null,
   "metadata": {
    "ExecuteTime": {
     "end_time": "2020-03-29T07:44:48.959927Z",
     "start_time": "2020-03-29T07:44:48.613Z"
    }
   },
   "outputs": [],
   "source": [
    "plt.plot(y,y_,'.')\n",
    "plt.plot(y,y);"
   ]
  },
  {
   "cell_type": "code",
   "execution_count": null,
   "metadata": {},
   "outputs": [],
   "source": []
  }
 ],
 "metadata": {
  "hide_input": false,
  "kernelspec": {
   "display_name": "Python 3",
   "language": "python",
   "name": "python3"
  },
  "language_info": {
   "codemirror_mode": {
    "name": "ipython",
    "version": 3
   },
   "file_extension": ".py",
   "mimetype": "text/x-python",
   "name": "python",
   "nbconvert_exporter": "python",
   "pygments_lexer": "ipython3",
   "version": "3.6.9"
  },
  "toc": {
   "base_numbering": 1,
   "nav_menu": {},
   "number_sections": true,
   "sideBar": true,
   "skip_h1_title": false,
   "title_cell": "Table of Contents",
   "title_sidebar": "Contents",
   "toc_cell": false,
   "toc_position": {
    "height": "calc(100% - 180px)",
    "left": "10px",
    "top": "150px",
    "width": "390.66px"
   },
   "toc_section_display": true,
   "toc_window_display": true
  },
  "varInspector": {
   "cols": {
    "lenName": 16,
    "lenType": 16,
    "lenVar": 40
   },
   "kernels_config": {
    "python": {
     "delete_cmd_postfix": "",
     "delete_cmd_prefix": "del ",
     "library": "var_list.py",
     "varRefreshCmd": "print(var_dic_list())"
    },
    "r": {
     "delete_cmd_postfix": ") ",
     "delete_cmd_prefix": "rm(",
     "library": "var_list.r",
     "varRefreshCmd": "cat(var_dic_list()) "
    }
   },
   "types_to_exclude": [
    "module",
    "function",
    "builtin_function_or_method",
    "instance",
    "_Feature"
   ],
   "window_display": false
  }
 },
 "nbformat": 4,
 "nbformat_minor": 2
}
