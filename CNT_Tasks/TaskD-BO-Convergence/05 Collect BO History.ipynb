{
 "cells": [
  {
   "cell_type": "markdown",
   "metadata": {},
   "source": [
    "## Design the call function (basic)\n",
    "\n",
    "Aim: given a batch of x=content, fill the properties by graph models."
   ]
  },
  {
   "cell_type": "code",
   "execution_count": 1,
   "metadata": {
    "ExecuteTime": {
     "end_time": "2020-07-01T16:00:42.240381Z",
     "start_time": "2020-07-01T16:00:41.425988Z"
    }
   },
   "outputs": [],
   "source": [
    "import sys\n",
    "for path in ['../','../../','../../../','../../../../']:\n",
    "    sys.path.append(path+\"CNT_Code/V1.05.22\")\n",
    "    \n",
    "import pandas as pd\n",
    "import matplotlib.pyplot as plt\n",
    "import numpy as np\n",
    "\n",
    "from RegressionTools import *\n",
    "from GraphTools import *\n",
    "from GeneralTools import *\n",
    "# from GraphModel import *\n",
    "from GraphModel_cnt import *\n",
    "from CNT_Dataset import *\n",
    "from ModelSelection import *"
   ]
  },
  {
   "cell_type": "code",
   "execution_count": 2,
   "metadata": {
    "ExecuteTime": {
     "end_time": "2020-07-01T16:00:42.705805Z",
     "start_time": "2020-07-01T16:00:42.241666Z"
    }
   },
   "outputs": [],
   "source": [
    "data_org = pd.read_excel('data_all_back_A.xlsx') # 2020.06.06 use data back -- no log(*)\n",
    "graph_array = data_load('graph_array_368.dat')"
   ]
  },
  {
   "cell_type": "code",
   "execution_count": 3,
   "metadata": {
    "ExecuteTime": {
     "end_time": "2020-07-01T16:00:42.709599Z",
     "start_time": "2020-07-01T16:00:42.707201Z"
    }
   },
   "outputs": [],
   "source": [
    "idx = ['P3HT vol (µL)','D1 vol (µL)', 'D2 vol (µL)', 'D6 vol (µL)', 'D8 vol (µL)',]\n",
    "# idy = 'Conductivity (modified predict)'\n",
    "idy = 'Y'; targy = 'Cond'\n",
    "idz = 'R'; targz = 'Abs'\n",
    "\n",
    "id_targ = idy; this_targ = targy\n",
    "# id_targ = idz; this_targ = targz"
   ]
  },
  {
   "cell_type": "code",
   "execution_count": 4,
   "metadata": {
    "ExecuteTime": {
     "end_time": "2020-07-01T16:00:44.901160Z",
     "start_time": "2020-07-01T16:00:42.710715Z"
    }
   },
   "outputs": [],
   "source": [
    "gm_array = data_load('gm_array.dat')"
   ]
  },
  {
   "cell_type": "code",
   "execution_count": 5,
   "metadata": {
    "ExecuteTime": {
     "end_time": "2020-07-01T16:00:44.922332Z",
     "start_time": "2020-07-01T16:00:44.911318Z"
    }
   },
   "outputs": [],
   "source": [
    "def _call(x):\n",
    "    res_array = []\n",
    "    for i in range(len(x)):\n",
    "        gm = np.random.choice(gm_array)\n",
    "        data_x = pd.DataFrame(x[i:i+1],columns=idx)\n",
    "        for s in ['A','R','S','T','Y']: data_x[s] = np.nan;\n",
    "        res = gm.predict(data=data_x,n_predict=1,ensemble=False,random=True)\n",
    "        res['predicted by graph'] = nx2str(gm.G)\n",
    "        res_array.append(res)\n",
    "    return pd.concat(res_array)"
   ]
  },
  {
   "cell_type": "markdown",
   "metadata": {},
   "source": [
    "## re measure"
   ]
  },
  {
   "cell_type": "code",
   "execution_count": 6,
   "metadata": {
    "ExecuteTime": {
     "end_time": "2020-07-01T16:00:50.578600Z",
     "start_time": "2020-07-01T16:00:44.924487Z"
    },
    "scrolled": true
   },
   "outputs": [],
   "source": [
    "data_orgs = []\n",
    "for i in range(20):\n",
    "#     data_orgs.append(pd.read_excel('./BO-history/Artificial_BO_20200214T%d_history_Cond.xlsx'%i, sheet_name='20'))\n",
    "    data_orgs.append(pd.read_excel('BO-history/Artificial_BO_20200701_20T%d_history_Cond.xlsx'%(i), sheet_name='20'))\n",
    "idx = ['P3HT vol (µL)','D1 vol (µL)', 'D2 vol (µL)', 'D6 vol (µL)', 'D8 vol (µL)',]"
   ]
  },
  {
   "cell_type": "code",
   "execution_count": 7,
   "metadata": {
    "ExecuteTime": {
     "end_time": "2020-07-01T16:00:50.581954Z",
     "start_time": "2020-07-01T16:00:50.579844Z"
    }
   },
   "outputs": [],
   "source": [
    "num_measure = 20\n",
    "data_array = []\n",
    "filename = 'BO-history-Cond-final.xlsx'"
   ]
  },
  {
   "cell_type": "code",
   "execution_count": 8,
   "metadata": {
    "ExecuteTime": {
     "end_time": "2020-07-01T16:00:50.913241Z",
     "start_time": "2020-07-01T16:00:50.583591Z"
    }
   },
   "outputs": [],
   "source": [
    "def fill_mean_std(data,num_measure=40):\n",
    "    X = data[idx].values\n",
    "    y_mean_std_array = []\n",
    "    for i in range(len(X)):\n",
    "        print(\"%d of %d\"%(i+1,len(X)),end='\\r')\n",
    "        yi = []\n",
    "        x = X[i:i+1]\n",
    "        for i in range(num_measure):\n",
    "            yi.append(_call(x)['Y'])\n",
    "        \n",
    "        y_mean_std_array.append(np.concatenate([[np.mean(yi),np.std(yi),np.median(yi)],np.percentile(yi,[25,75])]))\n",
    "    y_mean_std_array = np.array(y_mean_std_array)\n",
    "    data['Y-mean'] = y_mean_std_array[:,0]\n",
    "    data['Y-std'] = y_mean_std_array[:,1]\n",
    "    data['Y-median'] = y_mean_std_array[:,2]\n",
    "    data['Y-25%'] = y_mean_std_array[:,3]\n",
    "    data['Y-75%'] = y_mean_std_array[:,4]\n",
    "    return data"
   ]
  },
  {
   "cell_type": "code",
   "execution_count": 9,
   "metadata": {
    "ExecuteTime": {
     "end_time": "2020-07-01T16:00:51.190341Z",
     "start_time": "2020-07-01T16:00:50.916541Z"
    }
   },
   "outputs": [],
   "source": [
    "def write_to_excel(data_array,filename='tmp.xlsx'):\n",
    "    from openpyxl import load_workbook\n",
    "    with pd.ExcelWriter(filename) as writer:\n",
    "        for i,data in enumerate(data_array):\n",
    "            data.to_excel(writer,sheet_name='Test%d'%(i+1))"
   ]
  },
  {
   "cell_type": "code",
   "execution_count": 10,
   "metadata": {
    "ExecuteTime": {
     "end_time": "2020-07-01T16:00:51.608953Z",
     "start_time": "2020-07-01T16:00:51.191814Z"
    }
   },
   "outputs": [
    {
     "data": {
      "text/plain": [
       "120.0"
      ]
     },
     "execution_count": 10,
     "metadata": {},
     "output_type": "execute_result"
    }
   ],
   "source": [
    "len(data_orgs[0])*len(data_orgs)*20/(50*40)*3"
   ]
  },
  {
   "cell_type": "code",
   "execution_count": 15,
   "metadata": {
    "ExecuteTime": {
     "end_time": "2020-07-01T16:21:31.156442Z",
     "start_time": "2020-07-01T16:03:44.642556Z"
    },
    "scrolled": true
   },
   "outputs": [
    {
     "name": "stdout",
     "output_type": "stream",
     "text": [
      "data 1:  Thu Jul  2 00:03:44 2020\n",
      "data 2:  Thu Jul  2 00:04:37 2020\n",
      "data 3:  Thu Jul  2 00:05:29 2020\n",
      "data 4:  Thu Jul  2 00:06:22 2020\n",
      "data 5:  Thu Jul  2 00:07:15 2020\n",
      "data 6:  Thu Jul  2 00:08:08 2020\n",
      "data 7:  Thu Jul  2 00:09:01 2020\n",
      "data 8:  Thu Jul  2 00:09:55 2020\n",
      "data 9:  Thu Jul  2 00:10:48 2020\n",
      "data 10:  Thu Jul  2 00:11:41 2020\n",
      "data 11:  Thu Jul  2 00:12:35 2020\n",
      "data 12:  Thu Jul  2 00:13:30 2020\n",
      "data 13:  Thu Jul  2 00:14:23 2020\n",
      "data 14:  Thu Jul  2 00:15:16 2020\n",
      "data 15:  Thu Jul  2 00:16:09 2020\n",
      "data 16:  Thu Jul  2 00:17:03 2020\n",
      "data 17:  Thu Jul  2 00:17:57 2020\n",
      "data 18:  Thu Jul  2 00:18:50 2020\n",
      "data 19:  Thu Jul  2 00:19:44 2020\n",
      "data 20:  Thu Jul  2 00:20:37 2020\n",
      "Thu Jul  2 00:21:31 2020\n"
     ]
    }
   ],
   "source": [
    "# num_measure = 20\n",
    "# data_array = []\n",
    "# filename = 'BO-history-Cond-final-2.xlsx'\n",
    "import time as tm\n",
    "for i,data in enumerate(data_orgs):\n",
    "    print(\"data %d: \"%(i+1), tm.ctime())\n",
    "    data = fill_mean_std(data)\n",
    "    data_array.append(data)\n",
    "    write_to_excel(data_array,filename)\n",
    "print(tm.ctime())"
   ]
  },
  {
   "cell_type": "code",
   "execution_count": 16,
   "metadata": {
    "ExecuteTime": {
     "end_time": "2020-07-02T02:31:03.695622Z",
     "start_time": "2020-07-02T02:31:03.690130Z"
    }
   },
   "outputs": [
    {
     "data": {
      "text/plain": [
       "'BO-history-Cond-final.xlsx'"
      ]
     },
     "execution_count": 16,
     "metadata": {},
     "output_type": "execute_result"
    }
   ],
   "source": [
    "filename"
   ]
  },
  {
   "cell_type": "code",
   "execution_count": null,
   "metadata": {},
   "outputs": [],
   "source": []
  }
 ],
 "metadata": {
  "hide_input": false,
  "kernelspec": {
   "display_name": "Python 3",
   "language": "python",
   "name": "python3"
  },
  "language_info": {
   "codemirror_mode": {
    "name": "ipython",
    "version": 3
   },
   "file_extension": ".py",
   "mimetype": "text/x-python",
   "name": "python",
   "nbconvert_exporter": "python",
   "pygments_lexer": "ipython3",
   "version": "3.6.9"
  },
  "latex_envs": {
   "LaTeX_envs_menu_present": true,
   "autoclose": false,
   "autocomplete": true,
   "bibliofile": "biblio.bib",
   "cite_by": "apalike",
   "current_citInitial": 1,
   "eqLabelWithNumbers": true,
   "eqNumInitial": 1,
   "hotkeys": {
    "equation": "Ctrl-E",
    "itemize": "Ctrl-I"
   },
   "labels_anchors": false,
   "latex_user_defs": false,
   "report_style_numbering": false,
   "user_envs_cfg": false
  },
  "toc": {
   "base_numbering": 1,
   "nav_menu": {},
   "number_sections": true,
   "sideBar": true,
   "skip_h1_title": false,
   "title_cell": "Table of Contents",
   "title_sidebar": "Contents",
   "toc_cell": false,
   "toc_position": {},
   "toc_section_display": true,
   "toc_window_display": true
  },
  "varInspector": {
   "cols": {
    "lenName": 16,
    "lenType": 16,
    "lenVar": 40
   },
   "kernels_config": {
    "python": {
     "delete_cmd_postfix": "",
     "delete_cmd_prefix": "del ",
     "library": "var_list.py",
     "varRefreshCmd": "print(var_dic_list())"
    },
    "r": {
     "delete_cmd_postfix": ") ",
     "delete_cmd_prefix": "rm(",
     "library": "var_list.r",
     "varRefreshCmd": "cat(var_dic_list()) "
    }
   },
   "types_to_exclude": [
    "module",
    "function",
    "builtin_function_or_method",
    "instance",
    "_Feature"
   ],
   "window_display": false
  }
 },
 "nbformat": 4,
 "nbformat_minor": 2
}
