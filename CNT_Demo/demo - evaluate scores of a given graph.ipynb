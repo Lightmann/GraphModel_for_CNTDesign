{
 "cells": [
  {
   "cell_type": "code",
   "execution_count": 1,
   "metadata": {
    "ExecuteTime": {
     "end_time": "2020-12-03T08:09:27.158170Z",
     "start_time": "2020-12-03T08:09:25.299411Z"
    }
   },
   "outputs": [],
   "source": [
    "#!/usr/bin/env python\n",
    "# coding: utf-8\n",
    "# version: 2020.03.29\n",
    "\n",
    "import sys\n",
    "for path in ['../','../../','../../../','../../../../']:\n",
    "    sys.path.append(path+\"CNT_Code/V1.05.22\")\n",
    "    \n",
    "import pandas as pd\n",
    "import matplotlib.pyplot as plt\n",
    "import numpy as np\n",
    "\n",
    "from RegressionTools import *\n",
    "from GraphTools import *\n",
    "from GeneralTools import *\n",
    "# from GraphModel import *\n",
    "from GraphModel_cnt import *\n",
    "from CNT_Dataset import *\n",
    "from ModelSelection import *\n",
    "\n",
    "# --------------------------------------------------------------------------------------------------------\n",
    "# args\n",
    "# --------------------------------------------------------------------------------------------------------\n",
    "\n",
    "\n",
    "# import argparse\n",
    "# parser = argparse.ArgumentParser(description='Model selection')\n",
    "# parser.add_argument('--id_graph', default=0, type=int, help='id_graph')\n",
    "\n",
    "# args = parser.parse_args()\n",
    "# id_graph = args.id_graph\n",
    "\n",
    "# --------------------------------------------------------------------------------------------------------"
   ]
  },
  {
   "cell_type": "code",
   "execution_count": 2,
   "metadata": {
    "ExecuteTime": {
     "end_time": "2020-12-03T08:09:27.163562Z",
     "start_time": "2020-12-03T08:09:27.160318Z"
    }
   },
   "outputs": [],
   "source": [
    "id_graph = 10\n",
    "\n",
    "GB_ESTIMATORS = 100 # 400\n",
    "GB_SEARCH_ITER = 40 # 80\n",
    "CV = 4\n",
    "RATIO = 0.9\n",
    "MULTI_ESTIMATOR = 10 # 50\n",
    "MULTI_PREDICTION = 10 # 50\n",
    "SCORE_RUN = 5"
   ]
  },
  {
   "cell_type": "code",
   "execution_count": 3,
   "metadata": {
    "ExecuteTime": {
     "end_time": "2020-12-03T08:09:27.752695Z",
     "start_time": "2020-12-03T08:09:27.165864Z"
    }
   },
   "outputs": [],
   "source": [
    "data_org = pd.read_excel('data_all_back_A.xlsx') \n",
    "graph_array = data_load('graph_array_368.dat')"
   ]
  },
  {
   "cell_type": "code",
   "execution_count": 4,
   "metadata": {
    "ExecuteTime": {
     "end_time": "2020-12-03T08:09:27.943147Z",
     "start_time": "2020-12-03T08:09:27.755061Z"
    }
   },
   "outputs": [
    {
     "data": {
      "image/png": "[encoded data removed]",
      "text/plain": [
       "<Figure size 432x288 with 1 Axes>"
      ]
     },
     "metadata": {},
     "output_type": "display_data"
    }
   ],
   "source": [
    "G = graph_array[id_graph]\n",
    "nx_plot_cnt(G)"
   ]
  },
  {
   "cell_type": "code",
   "execution_count": 5,
   "metadata": {
    "ExecuteTime": {
     "end_time": "2020-12-03T08:10:44.111011Z",
     "start_time": "2020-12-03T08:09:27.944630Z"
    }
   },
   "outputs": [
    {
     "name": "stdout",
     "output_type": "stream",
     "text": [
      "['P3HT vol (µL)', 'D1 vol (µL)', 'D2 vol (µL)', 'D6 vol (µL)', 'D8 vol (µL)'] A [0.46463978484528123, 0.4816972236194424, 0.6389734491976505]\n",
      "['P3HT vol (µL)', 'D1 vol (µL)', 'D2 vol (µL)', 'D6 vol (µL)', 'D8 vol (µL)', 'A'] R [0.6868663053279879, 0.6926506274604555, 0.8120950854719208]\n",
      "['R'] Y [0.5229767420204132, 0.5235708124825912, 0.6629716851210866]\n",
      "*,*,*,*,.\n",
      "['P3HT vol (µL)', 'D1 vol (µL)', 'D2 vol (µL)', 'D6 vol (µL)', 'D8 vol (µL)'] A [0.43221020060481596, 0.43794099695315725, 0.6724149125185249]\n",
      "['P3HT vol (µL)', 'D1 vol (µL)', 'D2 vol (µL)', 'D6 vol (µL)', 'D8 vol (µL)', 'A'] R [0.6669085370724654, 0.6717453420943251, 0.7778995678236903]\n",
      "['R'] Y [0.5062502073652931, 0.5077295399258361, 0.6322095994041055]\n",
      "*,*,*,*,.\n",
      "['P3HT vol (µL)', 'D1 vol (µL)', 'D2 vol (µL)', 'D6 vol (µL)', 'D8 vol (µL)'] A [0.5504143951142385, 0.5527574360220262, 0.6317136283550245]\n",
      "['P3HT vol (µL)', 'D1 vol (µL)', 'D2 vol (µL)', 'D6 vol (µL)', 'D8 vol (µL)', 'A'] R [0.6879202011532073, 0.6912903499751131, 0.7471913309957678]\n",
      "['R'] Y [0.5346336479864741, 0.5349367287606585, 0.660599798370072]\n",
      "*,*,*,*,.\n",
      "['P3HT vol (µL)', 'D1 vol (µL)', 'D2 vol (µL)', 'D6 vol (µL)', 'D8 vol (µL)'] A [0.5002896390608936, 0.5040242542331403, 0.5284808566879844]\n",
      "['P3HT vol (µL)', 'D1 vol (µL)', 'D2 vol (µL)', 'D6 vol (µL)', 'D8 vol (µL)', 'A'] R [0.6751865770360274, 0.6852252687338257, 0.7613779232610666]\n",
      "['R'] Y [0.5443583556406545, 0.5444424314677063, 0.6742888174984762]\n",
      "*,*,*,*,.\n",
      "['P3HT vol (µL)', 'D1 vol (µL)', 'D2 vol (µL)', 'D6 vol (µL)', 'D8 vol (µL)'] A [0.49750865816316486, 0.5038536512259285, 0.6250744910095829]\n",
      "['P3HT vol (µL)', 'D1 vol (µL)', 'D2 vol (µL)', 'D6 vol (µL)', 'D8 vol (µL)', 'A'] R [0.6654291752189906, 0.6703264846411175, 0.7588361240636151]\n",
      "['R'] Y [0.6018848954406112, 0.6022108790440666, 0.7474013594849408]\n",
      "*,*,*,*,.\n"
     ]
    }
   ],
   "source": [
    "gm = GraphModel_cnt(G=G,idy='Y',renamer=cnt_renamer,\n",
    "                    assign_submodel=assign_submodel_cnt,\n",
    "                    gb_estimators=GB_ESTIMATORS,n_iter_search=GB_SEARCH_ITER,submodel_cv=CV,\n",
    "                   )\n",
    "\n",
    "score_array = []\n",
    "for i in range(SCORE_RUN):\n",
    "    data = random_resample(data_org)\n",
    "    data = data.dropna(subset=gm.renamer(idAll),how='any').reset_index(drop=True) # all-valid\n",
    "    score = cross_val_score_gm(gm,data,reuse=False,cv=CV,\n",
    "                               ratio=RATIO,\n",
    "                               n_estimator=MULTI_ESTIMATOR,\n",
    "                               n_predict=MULTI_PREDICTION)\n",
    "    score['model'] = nx2str(gm.G,model=True)\n",
    "    score_array.append(score)"
   ]
  },
  {
   "cell_type": "code",
   "execution_count": 6,
   "metadata": {
    "ExecuteTime": {
     "end_time": "2020-12-03T08:10:44.134465Z",
     "start_time": "2020-12-03T08:10:44.112814Z"
    }
   },
   "outputs": [
    {
     "data": {
      "text/html": [
       "<div>\n",
       "<style scoped>\n",
       "    .dataframe tbody tr th:only-of-type {\n",
       "        vertical-align: middle;\n",
       "    }\n",
       "\n",
       "    .dataframe tbody tr th {\n",
       "        vertical-align: top;\n",
       "    }\n",
       "\n",
       "    .dataframe thead th {\n",
       "        text-align: right;\n",
       "    }\n",
       "</style>\n",
       "<table border=\"1\" class=\"dataframe\">\n",
       "  <thead>\n",
       "    <tr style=\"text-align: right;\">\n",
       "      <th></th>\n",
       "      <th>r2_score</th>\n",
       "      <th>mean_squared_error</th>\n",
       "      <th>scaled_rmse</th>\n",
       "      <th>r2_score (mean pred)</th>\n",
       "      <th>mean_squared_error (mean pred)</th>\n",
       "      <th>scaled_rmse (mean pred)</th>\n",
       "      <th>r2_score (median pred)</th>\n",
       "      <th>mean_squared_error (median pred)</th>\n",
       "      <th>scaled_rmse (median pred)</th>\n",
       "      <th>KL_Gaussian_inv (ps mean)</th>\n",
       "      <th>...</th>\n",
       "      <th>KL_Gaussian_var (ps median)</th>\n",
       "      <th>KL_Gaussian_inv(p) (ps mean)</th>\n",
       "      <th>KL_Gaussian_var_inv(p) (ps mean)</th>\n",
       "      <th>KL_Gaussian(p) (ps mean)</th>\n",
       "      <th>KL_Gaussian_var(p) (ps mean)</th>\n",
       "      <th>KL_Gaussian_inv(p) (ps median)</th>\n",
       "      <th>KL_Gaussian_var_inv(p) (ps median)</th>\n",
       "      <th>KL_Gaussian(p) (ps median)</th>\n",
       "      <th>KL_Gaussian_var(p) (ps median)</th>\n",
       "      <th>model</th>\n",
       "    </tr>\n",
       "  </thead>\n",
       "  <tbody>\n",
       "    <tr>\n",
       "      <td>0</td>\n",
       "      <td>0.542238</td>\n",
       "      <td>1.026850</td>\n",
       "      <td>0.211656</td>\n",
       "      <td>0.601152</td>\n",
       "      <td>0.894695</td>\n",
       "      <td>0.197567</td>\n",
       "      <td>0.596572</td>\n",
       "      <td>0.904967</td>\n",
       "      <td>0.198698</td>\n",
       "      <td>48.187990</td>\n",
       "      <td>...</td>\n",
       "      <td>11.202324</td>\n",
       "      <td>48.223102</td>\n",
       "      <td>48.216215</td>\n",
       "      <td>139.247433</td>\n",
       "      <td>137.364218</td>\n",
       "      <td>18.042086</td>\n",
       "      <td>18.042086</td>\n",
       "      <td>22.880355</td>\n",
       "      <td>21.697282</td>\n",
       "      <td>C-&gt;A(GradientBoostingRegressor), CA-&gt;R(Gradien...</td>\n",
       "    </tr>\n",
       "    <tr>\n",
       "      <td>0</td>\n",
       "      <td>0.637872</td>\n",
       "      <td>0.809101</td>\n",
       "      <td>0.189376</td>\n",
       "      <td>0.658362</td>\n",
       "      <td>0.763320</td>\n",
       "      <td>0.183941</td>\n",
       "      <td>0.620353</td>\n",
       "      <td>0.848243</td>\n",
       "      <td>0.193903</td>\n",
       "      <td>41.375899</td>\n",
       "      <td>...</td>\n",
       "      <td>22.503564</td>\n",
       "      <td>41.467040</td>\n",
       "      <td>41.458152</td>\n",
       "      <td>463.308044</td>\n",
       "      <td>455.527742</td>\n",
       "      <td>17.984235</td>\n",
       "      <td>17.984235</td>\n",
       "      <td>54.732850</td>\n",
       "      <td>51.255517</td>\n",
       "      <td>C-&gt;A(GradientBoostingRegressor), CA-&gt;R(Gradien...</td>\n",
       "    </tr>\n",
       "    <tr>\n",
       "      <td>0</td>\n",
       "      <td>0.616227</td>\n",
       "      <td>0.864027</td>\n",
       "      <td>0.199459</td>\n",
       "      <td>0.661050</td>\n",
       "      <td>0.763113</td>\n",
       "      <td>0.187449</td>\n",
       "      <td>0.635887</td>\n",
       "      <td>0.819764</td>\n",
       "      <td>0.194283</td>\n",
       "      <td>43.284396</td>\n",
       "      <td>...</td>\n",
       "      <td>10.894442</td>\n",
       "      <td>41.610069</td>\n",
       "      <td>41.576691</td>\n",
       "      <td>287.963449</td>\n",
       "      <td>280.876149</td>\n",
       "      <td>19.676067</td>\n",
       "      <td>19.676067</td>\n",
       "      <td>59.161860</td>\n",
       "      <td>53.472658</td>\n",
       "      <td>C-&gt;A(GradientBoostingRegressor), CA-&gt;R(Gradien...</td>\n",
       "    </tr>\n",
       "    <tr>\n",
       "      <td>0</td>\n",
       "      <td>0.571163</td>\n",
       "      <td>0.985640</td>\n",
       "      <td>0.211097</td>\n",
       "      <td>0.583411</td>\n",
       "      <td>0.957489</td>\n",
       "      <td>0.208061</td>\n",
       "      <td>0.569832</td>\n",
       "      <td>0.988698</td>\n",
       "      <td>0.211425</td>\n",
       "      <td>52.100116</td>\n",
       "      <td>...</td>\n",
       "      <td>23.000944</td>\n",
       "      <td>55.404825</td>\n",
       "      <td>55.368837</td>\n",
       "      <td>252.203256</td>\n",
       "      <td>249.577054</td>\n",
       "      <td>21.282495</td>\n",
       "      <td>21.282495</td>\n",
       "      <td>57.242804</td>\n",
       "      <td>56.339518</td>\n",
       "      <td>C-&gt;A(GradientBoostingRegressor), CA-&gt;R(Gradien...</td>\n",
       "    </tr>\n",
       "    <tr>\n",
       "      <td>0</td>\n",
       "      <td>0.594807</td>\n",
       "      <td>0.959899</td>\n",
       "      <td>0.209801</td>\n",
       "      <td>0.625867</td>\n",
       "      <td>0.886320</td>\n",
       "      <td>0.201600</td>\n",
       "      <td>0.585763</td>\n",
       "      <td>0.981325</td>\n",
       "      <td>0.212130</td>\n",
       "      <td>47.436986</td>\n",
       "      <td>...</td>\n",
       "      <td>15.699676</td>\n",
       "      <td>49.343838</td>\n",
       "      <td>49.335216</td>\n",
       "      <td>185.270245</td>\n",
       "      <td>183.500786</td>\n",
       "      <td>15.495387</td>\n",
       "      <td>15.495387</td>\n",
       "      <td>29.428424</td>\n",
       "      <td>28.992269</td>\n",
       "      <td>C-&gt;A(GradientBoostingRegressor), CA-&gt;R(Gradien...</td>\n",
       "    </tr>\n",
       "  </tbody>\n",
       "</table>\n",
       "<p>5 rows × 26 columns</p>\n",
       "</div>"
      ],
      "text/plain": [
       "   r2_score  mean_squared_error  scaled_rmse  r2_score (mean pred)  \\\n",
       "0  0.542238            1.026850     0.211656              0.601152   \n",
       "0  0.637872            0.809101     0.189376              0.658362   \n",
       "0  0.616227            0.864027     0.199459              0.661050   \n",
       "0  0.571163            0.985640     0.211097              0.583411   \n",
       "0  0.594807            0.959899     0.209801              0.625867   \n",
       "\n",
       "   mean_squared_error (mean pred)  scaled_rmse (mean pred)  \\\n",
       "0                        0.894695                 0.197567   \n",
       "0                        0.763320                 0.183941   \n",
       "0                        0.763113                 0.187449   \n",
       "0                        0.957489                 0.208061   \n",
       "0                        0.886320                 0.201600   \n",
       "\n",
       "   r2_score (median pred)  mean_squared_error (median pred)  \\\n",
       "0                0.596572                          0.904967   \n",
       "0                0.620353                          0.848243   \n",
       "0                0.635887                          0.819764   \n",
       "0                0.569832                          0.988698   \n",
       "0                0.585763                          0.981325   \n",
       "\n",
       "   scaled_rmse (median pred)  KL_Gaussian_inv (ps mean)  ...  \\\n",
       "0                   0.198698                  48.187990  ...   \n",
       "0                   0.193903                  41.375899  ...   \n",
       "0                   0.194283                  43.284396  ...   \n",
       "0                   0.211425                  52.100116  ...   \n",
       "0                   0.212130                  47.436986  ...   \n",
       "\n",
       "   KL_Gaussian_var (ps median)  KL_Gaussian_inv(p) (ps mean)  \\\n",
       "0                    11.202324                     48.223102   \n",
       "0                    22.503564                     41.467040   \n",
       "0                    10.894442                     41.610069   \n",
       "0                    23.000944                     55.404825   \n",
       "0                    15.699676                     49.343838   \n",
       "\n",
       "   KL_Gaussian_var_inv(p) (ps mean)  KL_Gaussian(p) (ps mean)  \\\n",
       "0                         48.216215                139.247433   \n",
       "0                         41.458152                463.308044   \n",
       "0                         41.576691                287.963449   \n",
       "0                         55.368837                252.203256   \n",
       "0                         49.335216                185.270245   \n",
       "\n",
       "   KL_Gaussian_var(p) (ps mean)  KL_Gaussian_inv(p) (ps median)  \\\n",
       "0                    137.364218                       18.042086   \n",
       "0                    455.527742                       17.984235   \n",
       "0                    280.876149                       19.676067   \n",
       "0                    249.577054                       21.282495   \n",
       "0                    183.500786                       15.495387   \n",
       "\n",
       "   KL_Gaussian_var_inv(p) (ps median)  KL_Gaussian(p) (ps median)  \\\n",
       "0                           18.042086                   22.880355   \n",
       "0                           17.984235                   54.732850   \n",
       "0                           19.676067                   59.161860   \n",
       "0                           21.282495                   57.242804   \n",
       "0                           15.495387                   29.428424   \n",
       "\n",
       "   KL_Gaussian_var(p) (ps median)  \\\n",
       "0                       21.697282   \n",
       "0                       51.255517   \n",
       "0                       53.472658   \n",
       "0                       56.339518   \n",
       "0                       28.992269   \n",
       "\n",
       "                                               model  \n",
       "0  C->A(GradientBoostingRegressor), CA->R(Gradien...  \n",
       "0  C->A(GradientBoostingRegressor), CA->R(Gradien...  \n",
       "0  C->A(GradientBoostingRegressor), CA->R(Gradien...  \n",
       "0  C->A(GradientBoostingRegressor), CA->R(Gradien...  \n",
       "0  C->A(GradientBoostingRegressor), CA->R(Gradien...  \n",
       "\n",
       "[5 rows x 26 columns]"
      ]
     },
     "execution_count": 6,
     "metadata": {},
     "output_type": "execute_result"
    }
   ],
   "source": [
    "scores = pd.concat(score_array)\n",
    "# scores.to_excel('score_graph_%d.xlsx'%id_graph)\n",
    "scores"
   ]
  }
 ],
 "metadata": {
  "hide_input": false,
  "kernelspec": {
   "display_name": "Python [conda env:learning] *",
   "language": "python",
   "name": "conda-env-learning-py"
  },
  "language_info": {
   "codemirror_mode": {
    "name": "ipython",
    "version": 3
   },
   "file_extension": ".py",
   "mimetype": "text/x-python",
   "name": "python",
   "nbconvert_exporter": "python",
   "pygments_lexer": "ipython3",
   "version": "3.7.3"
  },
  "latex_envs": {
   "LaTeX_envs_menu_present": true,
   "autoclose": false,
   "autocomplete": true,
   "bibliofile": "biblio.bib",
   "cite_by": "apalike",
   "current_citInitial": 1,
   "eqLabelWithNumbers": true,
   "eqNumInitial": 1,
   "hotkeys": {
    "equation": "Ctrl-E",
    "itemize": "Ctrl-I"
   },
   "labels_anchors": false,
   "latex_user_defs": false,
   "report_style_numbering": false,
   "user_envs_cfg": false
  },
  "toc": {
   "base_numbering": 1,
   "nav_menu": {},
   "number_sections": true,
   "sideBar": true,
   "skip_h1_title": false,
   "title_cell": "Table of Contents",
   "title_sidebar": "Contents",
   "toc_cell": false,
   "toc_position": {},
   "toc_section_display": true,
   "toc_window_display": false
  },
  "varInspector": {
   "cols": {
    "lenName": 16,
    "lenType": 16,
    "lenVar": 40
   },
   "kernels_config": {
    "python": {
     "delete_cmd_postfix": "",
     "delete_cmd_prefix": "del ",
     "library": "var_list.py",
     "varRefreshCmd": "print(var_dic_list())"
    },
    "r": {
     "delete_cmd_postfix": ") ",
     "delete_cmd_prefix": "rm(",
     "library": "var_list.r",
     "varRefreshCmd": "cat(var_dic_list()) "
    }
   },
   "types_to_exclude": [
    "module",
    "function",
    "builtin_function_or_method",
    "instance",
    "_Feature"
   ],
   "window_display": false
  }
 },
 "nbformat": 4,
 "nbformat_minor": 2
}
