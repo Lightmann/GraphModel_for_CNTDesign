{
 "cells": [
  {
   "cell_type": "code",
   "execution_count": 1,
   "metadata": {
    "ExecuteTime": {
     "end_time": "2021-06-07T09:29:16.987339Z",
     "start_time": "2021-06-07T09:29:15.199062Z"
    }
   },
   "outputs": [],
   "source": [
    "#!/usr/bin/env python\n",
    "# coding: utf-8\n",
    "# version: 2020.03.29\n",
    "\n",
    "import sys\n",
    "for path in ['../','../../','../../../','../../../../']:\n",
    "    sys.path.append(path+\"CNT_Code/V1.05.22\")\n",
    "    \n",
    "import pandas as pd\n",
    "import matplotlib.pyplot as plt\n",
    "import numpy as np\n",
    "\n",
    "from RegressionTools import *\n",
    "from GraphTools import *\n",
    "from GeneralTools import *\n",
    "# from GraphModel import *\n",
    "from GraphModel_cnt import *\n",
    "from CNT_Dataset import *\n",
    "from ModelSelection import *\n",
    "\n",
    "# --------------------------------------------------------------------------------------------------------\n",
    "# args\n",
    "# --------------------------------------------------------------------------------------------------------\n",
    "\n",
    "\n",
    "# import argparse\n",
    "# parser = argparse.ArgumentParser(description='Model selection')\n",
    "# parser.add_argument('--id_graph', default=0, type=int, help='id_graph')\n",
    "\n",
    "# args = parser.parse_args()\n",
    "# id_graph = args.id_graph\n",
    "\n",
    "# --------------------------------------------------------------------------------------------------------"
   ]
  },
  {
   "cell_type": "code",
   "execution_count": 2,
   "metadata": {
    "ExecuteTime": {
     "end_time": "2021-06-07T09:29:16.993026Z",
     "start_time": "2021-06-07T09:29:16.989950Z"
    }
   },
   "outputs": [],
   "source": [
    "id_graph = 10\n",
    "\n",
    "GB_ESTIMATORS = 100 # 400\n",
    "GB_SEARCH_ITER = 40 # 80\n",
    "CV = 4\n",
    "RATIO = 0.9\n",
    "MULTI_ESTIMATOR = 10 # 50\n",
    "MULTI_PREDICTION = 10 # 50\n",
    "SCORE_RUN = 5"
   ]
  },
  {
   "cell_type": "code",
   "execution_count": 3,
   "metadata": {
    "ExecuteTime": {
     "end_time": "2021-06-07T09:29:17.645593Z",
     "start_time": "2021-06-07T09:29:16.994945Z"
    }
   },
   "outputs": [],
   "source": [
    "data_org = pd.read_excel('data_all_back_A.xlsx') \n",
    "graph_array = data_load('graph_array_368.dat')"
   ]
  },
  {
   "cell_type": "code",
   "execution_count": 4,
   "metadata": {
    "ExecuteTime": {
     "end_time": "2021-06-07T09:29:17.850917Z",
     "start_time": "2021-06-07T09:29:17.647087Z"
    }
   },
   "outputs": [
    {
     "data": {
      "image/png": "[encoded data removed]",
      "text/plain": [
       "<Figure size 432x288 with 1 Axes>"
      ]
     },
     "metadata": {},
     "output_type": "display_data"
    }
   ],
   "source": [
    "G = graph_array[id_graph]\n",
    "nx_plot_cnt(G)"
   ]
  },
  {
   "cell_type": "code",
   "execution_count": 5,
   "metadata": {
    "ExecuteTime": {
     "end_time": "2021-06-07T09:30:38.705753Z",
     "start_time": "2021-06-07T09:29:17.852937Z"
    }
   },
   "outputs": [
    {
     "name": "stdout",
     "output_type": "stream",
     "text": [
      "['P3HT vol (µL)', 'D1 vol (µL)', 'D2 vol (µL)', 'D6 vol (µL)', 'D8 vol (µL)'] A [0.484306060613129, 0.48556338052409875, 0.665271088692611]\n",
      "['P3HT vol (µL)', 'D1 vol (µL)', 'D2 vol (µL)', 'D6 vol (µL)', 'D8 vol (µL)', 'A'] R [0.6895095294495246, 0.6953776179816412, 0.7805113648838221]\n",
      "['R'] Y [0.5345446232243801, 0.534973315736153, 0.5899002634749435]\n",
      "*,*,*,*,.\n",
      "['P3HT vol (µL)', 'D1 vol (µL)', 'D2 vol (µL)', 'D6 vol (µL)', 'D8 vol (µL)'] A [0.5132408520666503, 0.5203474339987517, 0.668752583304299]\n",
      "['P3HT vol (µL)', 'D1 vol (µL)', 'D2 vol (µL)', 'D6 vol (µL)', 'D8 vol (µL)', 'A'] R [0.6567398180446439, 0.661385544075894, 0.7806020029439156]\n",
      "['R'] Y [0.5188703484256506, 0.5188754909067901, 0.6500760669643393]\n",
      "*,*,*,*,.\n",
      "['P3HT vol (µL)', 'D1 vol (µL)', 'D2 vol (µL)', 'D6 vol (µL)', 'D8 vol (µL)'] A [0.47570160388918703, 0.4786665678512721, 0.6932673022753306]\n",
      "['P3HT vol (µL)', 'D1 vol (µL)', 'D2 vol (µL)', 'D6 vol (µL)', 'D8 vol (µL)', 'A'] R [0.6886325048703488, 0.6890135846417978, 0.8216672056138558]\n",
      "['R'] Y [0.5642295199446405, 0.5649529471432042, 0.6043708279868631]\n",
      "*,*,*,*,.\n",
      "['P3HT vol (µL)', 'D1 vol (µL)', 'D2 vol (µL)', 'D6 vol (µL)', 'D8 vol (µL)'] A [0.4892240756093309, 0.48986700691489443, 0.6271341124665619]\n",
      "['P3HT vol (µL)', 'D1 vol (µL)', 'D2 vol (µL)', 'D6 vol (µL)', 'D8 vol (µL)', 'A'] R [0.6569128605364147, 0.6631246270718187, 0.772744386278007]\n",
      "['R'] Y [0.5341812746031218, 0.5341831495758849, 0.6296544589696808]\n",
      "*,*,*,*,.\n",
      "['P3HT vol (µL)', 'D1 vol (µL)', 'D2 vol (µL)', 'D6 vol (µL)', 'D8 vol (µL)'] A [0.498301729692231, 0.4981539340542879, 0.6470054788838278]\n",
      "['P3HT vol (µL)', 'D1 vol (µL)', 'D2 vol (µL)', 'D6 vol (µL)', 'D8 vol (µL)', 'A'] R [0.6761816137042784, 0.6808911933991957, 0.7674146969320694]\n",
      "['R'] Y [0.568535369147602, 0.5683552741216895, 0.6980709675820884]\n",
      "*,*,*,*,.\n"
     ]
    }
   ],
   "source": [
    "gm = GraphModel_cnt(G=G,idy='Y',renamer=cnt_renamer,\n",
    "                    assign_submodel=assign_submodel_cnt,\n",
    "                    gb_estimators=GB_ESTIMATORS,n_iter_search=GB_SEARCH_ITER,submodel_cv=CV,\n",
    "                   )\n",
    "\n",
    "score_array = []\n",
    "for i in range(SCORE_RUN):\n",
    "    data = random_resample(data_org)\n",
    "    data = data.dropna(subset=gm.renamer(idAll),how='any').reset_index(drop=True) # all-valid\n",
    "    score = cross_val_score_gm(gm,data,reuse=False,cv=CV,\n",
    "                               ratio=RATIO,\n",
    "                               n_estimator=MULTI_ESTIMATOR,\n",
    "                               n_predict=MULTI_PREDICTION)\n",
    "    score['model'] = nx2str(gm.G,model=True)\n",
    "    score_array.append(score)"
   ]
  },
  {
   "cell_type": "code",
   "execution_count": 6,
   "metadata": {
    "ExecuteTime": {
     "end_time": "2021-06-07T09:30:38.729915Z",
     "start_time": "2021-06-07T09:30:38.707374Z"
    }
   },
   "outputs": [
    {
     "data": {
      "text/html": [
       "<div>\n",
       "<style scoped>\n",
       "    .dataframe tbody tr th:only-of-type {\n",
       "        vertical-align: middle;\n",
       "    }\n",
       "\n",
       "    .dataframe tbody tr th {\n",
       "        vertical-align: top;\n",
       "    }\n",
       "\n",
       "    .dataframe thead th {\n",
       "        text-align: right;\n",
       "    }\n",
       "</style>\n",
       "<table border=\"1\" class=\"dataframe\">\n",
       "  <thead>\n",
       "    <tr style=\"text-align: right;\">\n",
       "      <th></th>\n",
       "      <th>r2_score</th>\n",
       "      <th>mean_squared_error</th>\n",
       "      <th>scaled_rmse</th>\n",
       "      <th>r2_score (mean pred)</th>\n",
       "      <th>mean_squared_error (mean pred)</th>\n",
       "      <th>scaled_rmse (mean pred)</th>\n",
       "      <th>r2_score (median pred)</th>\n",
       "      <th>mean_squared_error (median pred)</th>\n",
       "      <th>scaled_rmse (median pred)</th>\n",
       "      <th>KL_Gaussian_inv (ps mean)</th>\n",
       "      <th>...</th>\n",
       "      <th>KL_Gaussian_var (ps median)</th>\n",
       "      <th>KL_Gaussian_inv(p) (ps mean)</th>\n",
       "      <th>KL_Gaussian_var_inv(p) (ps mean)</th>\n",
       "      <th>KL_Gaussian(p) (ps mean)</th>\n",
       "      <th>KL_Gaussian_var(p) (ps mean)</th>\n",
       "      <th>KL_Gaussian_inv(p) (ps median)</th>\n",
       "      <th>KL_Gaussian_var_inv(p) (ps median)</th>\n",
       "      <th>KL_Gaussian(p) (ps median)</th>\n",
       "      <th>KL_Gaussian_var(p) (ps median)</th>\n",
       "      <th>model</th>\n",
       "    </tr>\n",
       "  </thead>\n",
       "  <tbody>\n",
       "    <tr>\n",
       "      <td>0</td>\n",
       "      <td>0.625084</td>\n",
       "      <td>0.882989</td>\n",
       "      <td>0.198579</td>\n",
       "      <td>0.640605</td>\n",
       "      <td>0.846435</td>\n",
       "      <td>0.194425</td>\n",
       "      <td>0.645210</td>\n",
       "      <td>0.835590</td>\n",
       "      <td>0.193176</td>\n",
       "      <td>43.331901</td>\n",
       "      <td>...</td>\n",
       "      <td>41.345185</td>\n",
       "      <td>43.382169</td>\n",
       "      <td>43.356869</td>\n",
       "      <td>244.124356</td>\n",
       "      <td>240.611057</td>\n",
       "      <td>20.416330</td>\n",
       "      <td>20.416330</td>\n",
       "      <td>97.981956</td>\n",
       "      <td>94.537333</td>\n",
       "      <td>C-&gt;A(GradientBoostingRegressor), CA-&gt;R(Gradien...</td>\n",
       "    </tr>\n",
       "    <tr>\n",
       "      <td>0</td>\n",
       "      <td>0.463825</td>\n",
       "      <td>1.189224</td>\n",
       "      <td>0.234620</td>\n",
       "      <td>0.541435</td>\n",
       "      <td>1.017087</td>\n",
       "      <td>0.216977</td>\n",
       "      <td>0.523388</td>\n",
       "      <td>1.057114</td>\n",
       "      <td>0.221205</td>\n",
       "      <td>57.485811</td>\n",
       "      <td>...</td>\n",
       "      <td>4.796408</td>\n",
       "      <td>59.181527</td>\n",
       "      <td>59.177167</td>\n",
       "      <td>488.032711</td>\n",
       "      <td>487.192058</td>\n",
       "      <td>25.469351</td>\n",
       "      <td>25.469351</td>\n",
       "      <td>10.833010</td>\n",
       "      <td>10.507542</td>\n",
       "      <td>C-&gt;A(GradientBoostingRegressor), CA-&gt;R(Gradien...</td>\n",
       "    </tr>\n",
       "    <tr>\n",
       "      <td>0</td>\n",
       "      <td>0.587831</td>\n",
       "      <td>0.960236</td>\n",
       "      <td>0.205335</td>\n",
       "      <td>0.599529</td>\n",
       "      <td>0.932981</td>\n",
       "      <td>0.202400</td>\n",
       "      <td>0.574013</td>\n",
       "      <td>0.992428</td>\n",
       "      <td>0.208749</td>\n",
       "      <td>49.285722</td>\n",
       "      <td>...</td>\n",
       "      <td>46.444011</td>\n",
       "      <td>50.802509</td>\n",
       "      <td>50.767650</td>\n",
       "      <td>401.957495</td>\n",
       "      <td>396.831760</td>\n",
       "      <td>24.154160</td>\n",
       "      <td>24.154160</td>\n",
       "      <td>116.004434</td>\n",
       "      <td>112.390363</td>\n",
       "      <td>C-&gt;A(GradientBoostingRegressor), CA-&gt;R(Gradien...</td>\n",
       "    </tr>\n",
       "    <tr>\n",
       "      <td>0</td>\n",
       "      <td>0.629286</td>\n",
       "      <td>0.862050</td>\n",
       "      <td>0.195526</td>\n",
       "      <td>0.686737</td>\n",
       "      <td>0.728453</td>\n",
       "      <td>0.179737</td>\n",
       "      <td>0.667611</td>\n",
       "      <td>0.772929</td>\n",
       "      <td>0.185143</td>\n",
       "      <td>40.004750</td>\n",
       "      <td>...</td>\n",
       "      <td>24.189325</td>\n",
       "      <td>40.810489</td>\n",
       "      <td>40.786026</td>\n",
       "      <td>265.160280</td>\n",
       "      <td>261.490130</td>\n",
       "      <td>17.501166</td>\n",
       "      <td>17.501166</td>\n",
       "      <td>61.582004</td>\n",
       "      <td>60.311794</td>\n",
       "      <td>C-&gt;A(GradientBoostingRegressor), CA-&gt;R(Gradien...</td>\n",
       "    </tr>\n",
       "    <tr>\n",
       "      <td>0</td>\n",
       "      <td>0.647574</td>\n",
       "      <td>0.839816</td>\n",
       "      <td>0.194406</td>\n",
       "      <td>0.655502</td>\n",
       "      <td>0.820923</td>\n",
       "      <td>0.192207</td>\n",
       "      <td>0.644999</td>\n",
       "      <td>0.845951</td>\n",
       "      <td>0.195114</td>\n",
       "      <td>45.186022</td>\n",
       "      <td>...</td>\n",
       "      <td>10.796092</td>\n",
       "      <td>45.757198</td>\n",
       "      <td>45.744850</td>\n",
       "      <td>137.162408</td>\n",
       "      <td>134.568096</td>\n",
       "      <td>22.933058</td>\n",
       "      <td>22.933058</td>\n",
       "      <td>28.862514</td>\n",
       "      <td>26.998762</td>\n",
       "      <td>C-&gt;A(GradientBoostingRegressor), CA-&gt;R(Gradien...</td>\n",
       "    </tr>\n",
       "  </tbody>\n",
       "</table>\n",
       "<p>5 rows × 26 columns</p>\n",
       "</div>"
      ],
      "text/plain": [
       "   r2_score  mean_squared_error  scaled_rmse  r2_score (mean pred)  \\\n",
       "0  0.625084            0.882989     0.198579              0.640605   \n",
       "0  0.463825            1.189224     0.234620              0.541435   \n",
       "0  0.587831            0.960236     0.205335              0.599529   \n",
       "0  0.629286            0.862050     0.195526              0.686737   \n",
       "0  0.647574            0.839816     0.194406              0.655502   \n",
       "\n",
       "   mean_squared_error (mean pred)  scaled_rmse (mean pred)  \\\n",
       "0                        0.846435                 0.194425   \n",
       "0                        1.017087                 0.216977   \n",
       "0                        0.932981                 0.202400   \n",
       "0                        0.728453                 0.179737   \n",
       "0                        0.820923                 0.192207   \n",
       "\n",
       "   r2_score (median pred)  mean_squared_error (median pred)  \\\n",
       "0                0.645210                          0.835590   \n",
       "0                0.523388                          1.057114   \n",
       "0                0.574013                          0.992428   \n",
       "0                0.667611                          0.772929   \n",
       "0                0.644999                          0.845951   \n",
       "\n",
       "   scaled_rmse (median pred)  KL_Gaussian_inv (ps mean)  ...  \\\n",
       "0                   0.193176                  43.331901  ...   \n",
       "0                   0.221205                  57.485811  ...   \n",
       "0                   0.208749                  49.285722  ...   \n",
       "0                   0.185143                  40.004750  ...   \n",
       "0                   0.195114                  45.186022  ...   \n",
       "\n",
       "   KL_Gaussian_var (ps median)  KL_Gaussian_inv(p) (ps mean)  \\\n",
       "0                    41.345185                     43.382169   \n",
       "0                     4.796408                     59.181527   \n",
       "0                    46.444011                     50.802509   \n",
       "0                    24.189325                     40.810489   \n",
       "0                    10.796092                     45.757198   \n",
       "\n",
       "   KL_Gaussian_var_inv(p) (ps mean)  KL_Gaussian(p) (ps mean)  \\\n",
       "0                         43.356869                244.124356   \n",
       "0                         59.177167                488.032711   \n",
       "0                         50.767650                401.957495   \n",
       "0                         40.786026                265.160280   \n",
       "0                         45.744850                137.162408   \n",
       "\n",
       "   KL_Gaussian_var(p) (ps mean)  KL_Gaussian_inv(p) (ps median)  \\\n",
       "0                    240.611057                       20.416330   \n",
       "0                    487.192058                       25.469351   \n",
       "0                    396.831760                       24.154160   \n",
       "0                    261.490130                       17.501166   \n",
       "0                    134.568096                       22.933058   \n",
       "\n",
       "   KL_Gaussian_var_inv(p) (ps median)  KL_Gaussian(p) (ps median)  \\\n",
       "0                           20.416330                   97.981956   \n",
       "0                           25.469351                   10.833010   \n",
       "0                           24.154160                  116.004434   \n",
       "0                           17.501166                   61.582004   \n",
       "0                           22.933058                   28.862514   \n",
       "\n",
       "   KL_Gaussian_var(p) (ps median)  \\\n",
       "0                       94.537333   \n",
       "0                       10.507542   \n",
       "0                      112.390363   \n",
       "0                       60.311794   \n",
       "0                       26.998762   \n",
       "\n",
       "                                               model  \n",
       "0  C->A(GradientBoostingRegressor), CA->R(Gradien...  \n",
       "0  C->A(GradientBoostingRegressor), CA->R(Gradien...  \n",
       "0  C->A(GradientBoostingRegressor), CA->R(Gradien...  \n",
       "0  C->A(GradientBoostingRegressor), CA->R(Gradien...  \n",
       "0  C->A(GradientBoostingRegressor), CA->R(Gradien...  \n",
       "\n",
       "[5 rows x 26 columns]"
      ]
     },
     "execution_count": 6,
     "metadata": {},
     "output_type": "execute_result"
    }
   ],
   "source": [
    "scores = pd.concat(score_array)\n",
    "# scores.to_excel('score_graph_%d.xlsx'%id_graph)\n",
    "scores"
   ]
  }
 ],
 "metadata": {
  "hide_input": false,
  "kernelspec": {
   "display_name": "Python [conda env:learning] *",
   "language": "python",
   "name": "conda-env-learning-py"
  },
  "language_info": {
   "codemirror_mode": {
    "name": "ipython",
    "version": 3
   },
   "file_extension": ".py",
   "mimetype": "text/x-python",
   "name": "python",
   "nbconvert_exporter": "python",
   "pygments_lexer": "ipython3",
   "version": "3.7.3"
  },
  "latex_envs": {
   "LaTeX_envs_menu_present": true,
   "autoclose": false,
   "autocomplete": true,
   "bibliofile": "biblio.bib",
   "cite_by": "apalike",
   "current_citInitial": 1,
   "eqLabelWithNumbers": true,
   "eqNumInitial": 1,
   "hotkeys": {
    "equation": "Ctrl-E",
    "itemize": "Ctrl-I"
   },
   "labels_anchors": false,
   "latex_user_defs": false,
   "report_style_numbering": false,
   "user_envs_cfg": false
  },
  "toc": {
   "base_numbering": 1,
   "nav_menu": {},
   "number_sections": true,
   "sideBar": true,
   "skip_h1_title": false,
   "title_cell": "Table of Contents",
   "title_sidebar": "Contents",
   "toc_cell": false,
   "toc_position": {},
   "toc_section_display": true,
   "toc_window_display": false
  },
  "varInspector": {
   "cols": {
    "lenName": 16,
    "lenType": 16,
    "lenVar": 40
   },
   "kernels_config": {
    "python": {
     "delete_cmd_postfix": "",
     "delete_cmd_prefix": "del ",
     "library": "var_list.py",
     "varRefreshCmd": "print(var_dic_list())"
    },
    "r": {
     "delete_cmd_postfix": ") ",
     "delete_cmd_prefix": "rm(",
     "library": "var_list.r",
     "varRefreshCmd": "cat(var_dic_list()) "
    }
   },
   "types_to_exclude": [
    "module",
    "function",
    "builtin_function_or_method",
    "instance",
    "_Feature"
   ],
   "window_display": false
  }
 },
 "nbformat": 4,
 "nbformat_minor": 2
}
